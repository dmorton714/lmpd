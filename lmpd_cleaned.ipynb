{
 "cells": [
  {
   "cell_type": "code",
   "execution_count": 249,
   "metadata": {},
   "outputs": [],
   "source": [
    "import pandas as pd\n",
    "import matplotlib.pyplot as plt\n",
    "import matplotlib.dates as mdates\n",
    "import datetime\n",
    "import csv\n",
    "import numpy as np\n",
    "import urllib.request\n",
    "import requests\n",
    "import json"
   ]
  },
  {
   "cell_type": "markdown",
   "metadata": {},
   "source": [
    "This imports the police stops data sheet and shows traffic stops. It also displays the headers as well as the total number of rows in the data sheet. "
   ]
  },
  {
   "cell_type": "code",
   "execution_count": 250,
   "metadata": {},
   "outputs": [
    {
     "name": "stdout",
     "output_type": "stream",
     "text": [
      "['\\ufeffTYPE_OF_STOP', 'CITATION_CONTROL_NUMBER', 'ACTIVITY_RESULTS', 'OFFICER_GENDER', 'OFFICER_RACE', 'OFFICER_AGE_RANGE', 'ACTIVITY_DATE', 'ACTIVITY_TIME', 'ACTIVITY_LOCATION', 'ACTIVITY_DIVISION', 'ACTIVITY_BEAT', 'DRIVER_GENDER', 'DRIVER_RACE', 'DRIVER_AGE_RANGE', 'NUMBER_OF_PASSENGERS', 'WAS_VEHCILE_SEARCHED', 'REASON_FOR_SEARCH', 'ObjectId']\n",
      "This is the total number of rows in the file: \n",
      " 23543\n"
     ]
    }
   ],
   "source": [
    "df = pd.read_csv (r'stops.csv')\n",
    "\n",
    "filename = 'stops.csv'\n",
    "with open('stops.csv') as f:\n",
    "    reader = csv.reader(f)\n",
    "    header_row = next(reader)\n",
    "#To display the headers to find correct vales to call min and max\n",
    "print(header_row)\n",
    "print(\"This is the total number of rows in the file:\", '\\n' ,len(df))"
   ]
  },
  {
   "cell_type": "markdown",
   "metadata": {},
   "source": [
    "This section then changes the headers to simpler unique names that will differ the officer sheet. It also simplifies and removes columns that I didn't need for comparison. "
   ]
  },
  {
   "cell_type": "code",
   "execution_count": 251,
   "metadata": {},
   "outputs": [
    {
     "data": {
      "text/html": [
       "<div>\n",
       "<style scoped>\n",
       "    .dataframe tbody tr th:only-of-type {\n",
       "        vertical-align: middle;\n",
       "    }\n",
       "\n",
       "    .dataframe tbody tr th {\n",
       "        vertical-align: top;\n",
       "    }\n",
       "\n",
       "    .dataframe thead th {\n",
       "        text-align: right;\n",
       "    }\n",
       "</style>\n",
       "<table border=\"1\" class=\"dataframe\">\n",
       "  <thead>\n",
       "    <tr style=\"text-align: right;\">\n",
       "      <th></th>\n",
       "      <th>stop</th>\n",
       "      <th>action</th>\n",
       "      <th>o_gender</th>\n",
       "      <th>o_race</th>\n",
       "      <th>o_age</th>\n",
       "      <th>d_gender</th>\n",
       "      <th>d_race</th>\n",
       "      <th>d_age</th>\n",
       "    </tr>\n",
       "  </thead>\n",
       "  <tbody>\n",
       "    <tr>\n",
       "      <th>0</th>\n",
       "      <td>COMPLAINT/CRIMINAL VIOLATION</td>\n",
       "      <td>CITATION ISSUED</td>\n",
       "      <td>M</td>\n",
       "      <td>WHITE</td>\n",
       "      <td>21 - 30</td>\n",
       "      <td>M</td>\n",
       "      <td>BLACK</td>\n",
       "      <td>16 - 19</td>\n",
       "    </tr>\n",
       "    <tr>\n",
       "      <th>1</th>\n",
       "      <td>TRAFFIC VIOLATION</td>\n",
       "      <td>CITATION ISSUED</td>\n",
       "      <td>F</td>\n",
       "      <td>WHITE</td>\n",
       "      <td>21 - 30</td>\n",
       "      <td>M</td>\n",
       "      <td>WHITE</td>\n",
       "      <td>16 - 19</td>\n",
       "    </tr>\n",
       "    <tr>\n",
       "      <th>2</th>\n",
       "      <td>COMPLAINT/CRIMINAL VIOLATION</td>\n",
       "      <td>CITATION ISSUED</td>\n",
       "      <td>M</td>\n",
       "      <td>WHITE</td>\n",
       "      <td>21 - 30</td>\n",
       "      <td>F</td>\n",
       "      <td>BLACK</td>\n",
       "      <td>31 - 40</td>\n",
       "    </tr>\n",
       "    <tr>\n",
       "      <th>3</th>\n",
       "      <td>TRAFFIC VIOLATION</td>\n",
       "      <td>CITATION ISSUED</td>\n",
       "      <td>M</td>\n",
       "      <td>WHITE</td>\n",
       "      <td>31 - 40</td>\n",
       "      <td>M</td>\n",
       "      <td>HISPANIC</td>\n",
       "      <td>20 - 25</td>\n",
       "    </tr>\n",
       "    <tr>\n",
       "      <th>4</th>\n",
       "      <td>COMPLAINT/CRIMINAL VIOLATION</td>\n",
       "      <td>CITATION ISSUED</td>\n",
       "      <td>M</td>\n",
       "      <td>WHITE</td>\n",
       "      <td>31 - 40</td>\n",
       "      <td>M</td>\n",
       "      <td>HISPANIC</td>\n",
       "      <td>20 - 25</td>\n",
       "    </tr>\n",
       "  </tbody>\n",
       "</table>\n",
       "</div>"
      ],
      "text/plain": [
       "                           stop           action o_gender o_race    o_age  \\\n",
       "0  COMPLAINT/CRIMINAL VIOLATION  CITATION ISSUED        M  WHITE  21 - 30   \n",
       "1             TRAFFIC VIOLATION  CITATION ISSUED        F  WHITE  21 - 30   \n",
       "2  COMPLAINT/CRIMINAL VIOLATION  CITATION ISSUED        M  WHITE  21 - 30   \n",
       "3             TRAFFIC VIOLATION  CITATION ISSUED        M  WHITE  31 - 40   \n",
       "4  COMPLAINT/CRIMINAL VIOLATION  CITATION ISSUED        M  WHITE  31 - 40   \n",
       "\n",
       "  d_gender    d_race    d_age  \n",
       "0        M     BLACK  16 - 19  \n",
       "1        M     WHITE  16 - 19  \n",
       "2        F     BLACK  31 - 40  \n",
       "3        M  HISPANIC  20 - 25  \n",
       "4        M  HISPANIC  20 - 25  "
      ]
     },
     "execution_count": 251,
     "metadata": {},
     "output_type": "execute_result"
    }
   ],
   "source": [
    "df.drop(columns=['CITATION_CONTROL_NUMBER', 'ACTIVITY_DATE', 'ACTIVITY_TIME', 'ACTIVITY_LOCATION', 'ACTIVITY_DIVISION', 'ACTIVITY_BEAT', 'NUMBER_OF_PASSENGERS', 'WAS_VEHCILE_SEARCHED', 'REASON_FOR_SEARCH', 'ObjectId'], inplace=True)\n",
    "df.rename(columns={'TYPE_OF_STOP':'stop', 'ACTIVITY_RESULTS':'action', 'OFFICER_GENDER':'o_gender', 'OFFICER_RACE':\"o_race\", 'OFFICER_AGE_RANGE':\"o_age\", 'DRIVER_GENDER':'d_gender', 'DRIVER_RACE':\"d_race\", 'DRIVER_AGE_RANGE':\"d_age\"}, inplace=True)\n",
    "df.head()"
   ]
  },
  {
   "cell_type": "markdown",
   "metadata": {},
   "source": [
    "This identifies the races of the officers. "
   ]
  },
  {
   "cell_type": "code",
   "execution_count": 252,
   "metadata": {},
   "outputs": [
    {
     "data": {
      "text/plain": [
       "array(['WHITE', 'BLACK', 'HISPANIC', 'ASIAN', 'UNKNOWN'], dtype=object)"
      ]
     },
     "execution_count": 252,
     "metadata": {},
     "output_type": "execute_result"
    }
   ],
   "source": [
    "df.o_race.unique()"
   ]
  },
  {
   "cell_type": "markdown",
   "metadata": {},
   "source": [
    "This imports the LMPD employee data. I printed the header and the total numbers of rows. "
   ]
  },
  {
   "cell_type": "code",
   "execution_count": 253,
   "metadata": {},
   "outputs": [
    {
     "name": "stdout",
     "output_type": "stream",
     "text": [
      "['\\ufeffAOC_CODE', 'RANK_TITLE', 'OFFICER_SEX', 'OFFICER_RACE', 'OFFICER_AGE_RANGE', 'OFFICER_AGE', 'OFFICER_DIVISION', 'OFFICER_ASSIGNMENT', 'OFFICER_YEARS_SWORN', 'ObjectId']\n",
      "This is the total number of rows in the file: \n",
      " 23543\n"
     ]
    },
    {
     "data": {
      "text/html": [
       "<div>\n",
       "<style scoped>\n",
       "    .dataframe tbody tr th:only-of-type {\n",
       "        vertical-align: middle;\n",
       "    }\n",
       "\n",
       "    .dataframe tbody tr th {\n",
       "        vertical-align: top;\n",
       "    }\n",
       "\n",
       "    .dataframe thead th {\n",
       "        text-align: right;\n",
       "    }\n",
       "</style>\n",
       "<table border=\"1\" class=\"dataframe\">\n",
       "  <thead>\n",
       "    <tr style=\"text-align: right;\">\n",
       "      <th></th>\n",
       "      <th>AOC_CODE</th>\n",
       "      <th>RANK_TITLE</th>\n",
       "      <th>OFFICER_SEX</th>\n",
       "      <th>OFFICER_RACE</th>\n",
       "      <th>OFFICER_AGE_RANGE</th>\n",
       "      <th>OFFICER_AGE</th>\n",
       "      <th>OFFICER_DIVISION</th>\n",
       "      <th>OFFICER_ASSIGNMENT</th>\n",
       "      <th>OFFICER_YEARS_SWORN</th>\n",
       "      <th>ObjectId</th>\n",
       "    </tr>\n",
       "  </thead>\n",
       "  <tbody>\n",
       "    <tr>\n",
       "      <th>0</th>\n",
       "      <td>2151</td>\n",
       "      <td>POLICE OFFICER</td>\n",
       "      <td>F</td>\n",
       "      <td>W</td>\n",
       "      <td>40 - 49</td>\n",
       "      <td>47</td>\n",
       "      <td>6TH DIVISION                                  ...</td>\n",
       "      <td>RESOURCE OFFICERS                             ...</td>\n",
       "      <td>23</td>\n",
       "      <td>1</td>\n",
       "    </tr>\n",
       "    <tr>\n",
       "      <th>1</th>\n",
       "      <td>2440</td>\n",
       "      <td>POLICE OFFICER</td>\n",
       "      <td>M</td>\n",
       "      <td>W</td>\n",
       "      <td>40 - 49</td>\n",
       "      <td>48</td>\n",
       "      <td>1ST DIVISION                                  ...</td>\n",
       "      <td>DETECTIVES                                    ...</td>\n",
       "      <td>19</td>\n",
       "      <td>2</td>\n",
       "    </tr>\n",
       "    <tr>\n",
       "      <th>2</th>\n",
       "      <td>2016</td>\n",
       "      <td>POLICE SERGEANT</td>\n",
       "      <td>M</td>\n",
       "      <td>A</td>\n",
       "      <td>40 - 49</td>\n",
       "      <td>49</td>\n",
       "      <td>TECHNICAL SERVICES                            ...</td>\n",
       "      <td>TECHNICAL SERVICES                            ...</td>\n",
       "      <td>23</td>\n",
       "      <td>3</td>\n",
       "    </tr>\n",
       "    <tr>\n",
       "      <th>3</th>\n",
       "      <td>2092</td>\n",
       "      <td>POLICE OFFICER</td>\n",
       "      <td>M</td>\n",
       "      <td>W</td>\n",
       "      <td>50 - 59</td>\n",
       "      <td>51</td>\n",
       "      <td>TRAINING                                      ...</td>\n",
       "      <td>SPECIAL PROJECTS UNIT                         ...</td>\n",
       "      <td>23</td>\n",
       "      <td>4</td>\n",
       "    </tr>\n",
       "    <tr>\n",
       "      <th>4</th>\n",
       "      <td>2208</td>\n",
       "      <td>POLICE OFFICER</td>\n",
       "      <td>M</td>\n",
       "      <td>W</td>\n",
       "      <td>OVER 60</td>\n",
       "      <td>60</td>\n",
       "      <td>FORMER EMPLOYEE                               ...</td>\n",
       "      <td>NaN</td>\n",
       "      <td>34</td>\n",
       "      <td>5</td>\n",
       "    </tr>\n",
       "  </tbody>\n",
       "</table>\n",
       "</div>"
      ],
      "text/plain": [
       "   AOC_CODE                           RANK_TITLE OFFICER_SEX OFFICER_RACE  \\\n",
       "0      2151  POLICE OFFICER                                F           W    \n",
       "1      2440  POLICE OFFICER                                M           W    \n",
       "2      2016  POLICE SERGEANT                               M           A    \n",
       "3      2092  POLICE OFFICER                                M           W    \n",
       "4      2208  POLICE OFFICER                                M           W    \n",
       "\n",
       "  OFFICER_AGE_RANGE  OFFICER_AGE  \\\n",
       "0           40 - 49           47   \n",
       "1           40 - 49           48   \n",
       "2           40 - 49           49   \n",
       "3           50 - 59           51   \n",
       "4           OVER 60           60   \n",
       "\n",
       "                                    OFFICER_DIVISION  \\\n",
       "0  6TH DIVISION                                  ...   \n",
       "1  1ST DIVISION                                  ...   \n",
       "2  TECHNICAL SERVICES                            ...   \n",
       "3  TRAINING                                      ...   \n",
       "4  FORMER EMPLOYEE                               ...   \n",
       "\n",
       "                                  OFFICER_ASSIGNMENT  OFFICER_YEARS_SWORN  \\\n",
       "0  RESOURCE OFFICERS                             ...                   23   \n",
       "1  DETECTIVES                                    ...                   19   \n",
       "2  TECHNICAL SERVICES                            ...                   23   \n",
       "3  SPECIAL PROJECTS UNIT                         ...                   23   \n",
       "4                                                NaN                   34   \n",
       "\n",
       "   ObjectId  \n",
       "0         1  \n",
       "1         2  \n",
       "2         3  \n",
       "3         4  \n",
       "4         5  "
      ]
     },
     "execution_count": 253,
     "metadata": {},
     "output_type": "execute_result"
    }
   ],
   "source": [
    "df3 = pd.read_csv (r'employee.csv')\n",
    "\n",
    "filename = 'employee.csv'\n",
    "with open('employee.csv') as f:\n",
    "    reader = csv.reader(f)\n",
    "    header_row = next(reader)\n",
    "#To display the headers to find correct vales to call min and max\n",
    "print(header_row)\n",
    "print(\"This is the total number of rows in the file:\", '\\n' ,len(df))\n",
    "df3.head()"
   ]
  },
  {
   "cell_type": "markdown",
   "metadata": {},
   "source": [
    "This replaces the vales with simple unique values. Then drops columns that we dont need. "
   ]
  },
  {
   "cell_type": "code",
   "execution_count": 254,
   "metadata": {},
   "outputs": [
    {
     "data": {
      "text/html": [
       "<div>\n",
       "<style scoped>\n",
       "    .dataframe tbody tr th:only-of-type {\n",
       "        vertical-align: middle;\n",
       "    }\n",
       "\n",
       "    .dataframe tbody tr th {\n",
       "        vertical-align: top;\n",
       "    }\n",
       "\n",
       "    .dataframe thead th {\n",
       "        text-align: right;\n",
       "    }\n",
       "</style>\n",
       "<table border=\"1\" class=\"dataframe\">\n",
       "  <thead>\n",
       "    <tr style=\"text-align: right;\">\n",
       "      <th></th>\n",
       "      <th>oh_sex</th>\n",
       "      <th>oh_race</th>\n",
       "      <th>oh_age_range</th>\n",
       "      <th>oh_age</th>\n",
       "    </tr>\n",
       "  </thead>\n",
       "  <tbody>\n",
       "    <tr>\n",
       "      <th>0</th>\n",
       "      <td>F</td>\n",
       "      <td>W</td>\n",
       "      <td>40 - 49</td>\n",
       "      <td>47</td>\n",
       "    </tr>\n",
       "    <tr>\n",
       "      <th>1</th>\n",
       "      <td>M</td>\n",
       "      <td>W</td>\n",
       "      <td>40 - 49</td>\n",
       "      <td>48</td>\n",
       "    </tr>\n",
       "    <tr>\n",
       "      <th>2</th>\n",
       "      <td>M</td>\n",
       "      <td>A</td>\n",
       "      <td>40 - 49</td>\n",
       "      <td>49</td>\n",
       "    </tr>\n",
       "    <tr>\n",
       "      <th>3</th>\n",
       "      <td>M</td>\n",
       "      <td>W</td>\n",
       "      <td>50 - 59</td>\n",
       "      <td>51</td>\n",
       "    </tr>\n",
       "    <tr>\n",
       "      <th>4</th>\n",
       "      <td>M</td>\n",
       "      <td>W</td>\n",
       "      <td>OVER 60</td>\n",
       "      <td>60</td>\n",
       "    </tr>\n",
       "  </tbody>\n",
       "</table>\n",
       "</div>"
      ],
      "text/plain": [
       "  oh_sex oh_race oh_age_range  oh_age\n",
       "0      F      W       40 - 49      47\n",
       "1      M      W       40 - 49      48\n",
       "2      M      A       40 - 49      49\n",
       "3      M      W       50 - 59      51\n",
       "4      M      W       OVER 60      60"
      ]
     },
     "execution_count": 254,
     "metadata": {},
     "output_type": "execute_result"
    }
   ],
   "source": [
    "df3.drop(columns=['AOC_CODE', 'RANK_TITLE', 'OFFICER_DIVISION', 'OFFICER_ASSIGNMENT', 'OFFICER_YEARS_SWORN', 'ObjectId'], inplace=True)\n",
    "df3.rename(columns={'OFFICER_SEX':'oh_sex', 'OFFICER_RACE':'oh_race', 'OFFICER_AGE_RANGE':'oh_age_range', 'OFFICER_AGE':\"oh_age\"}, inplace=True)\n",
    "df3.head()\n"
   ]
  },
  {
   "cell_type": "markdown",
   "metadata": {},
   "source": [
    "This identifies the unique race values of the LMPD staff. "
   ]
  },
  {
   "cell_type": "code",
   "execution_count": 255,
   "metadata": {},
   "outputs": [
    {
     "data": {
      "text/plain": [
       "array(['W ', 'A ', 'B ', 'H ', 'U ', '  '], dtype=object)"
      ]
     },
     "execution_count": 255,
     "metadata": {},
     "output_type": "execute_result"
    }
   ],
   "source": [
    "df3.oh_race.unique()"
   ]
  },
  {
   "cell_type": "markdown",
   "metadata": {},
   "source": [
    "This identifies the average officer age and ther max and min age. "
   ]
  },
  {
   "cell_type": "code",
   "execution_count": 256,
   "metadata": {},
   "outputs": [
    {
     "name": "stdout",
     "output_type": "stream",
     "text": [
      "The mean officer age is: 45.047441165483754\n",
      "The max officer age is: 81\n",
      "The min officer age is: 0\n"
     ]
    }
   ],
   "source": [
    "print(\"The mean officer age is:\", df3['oh_age'].mean())\n",
    "print(\"The max officer age is:\", df3['oh_age'].max())\n",
    "print(\"The min officer age is:\", df3['oh_age'].min())\n"
   ]
  },
  {
   "cell_type": "code",
   "execution_count": 257,
   "metadata": {},
   "outputs": [
    {
     "data": {
      "text/html": [
       "<div>\n",
       "<style scoped>\n",
       "    .dataframe tbody tr th:only-of-type {\n",
       "        vertical-align: middle;\n",
       "    }\n",
       "\n",
       "    .dataframe tbody tr th {\n",
       "        vertical-align: top;\n",
       "    }\n",
       "\n",
       "    .dataframe thead th {\n",
       "        text-align: right;\n",
       "    }\n",
       "</style>\n",
       "<table border=\"1\" class=\"dataframe\">\n",
       "  <thead>\n",
       "    <tr style=\"text-align: right;\">\n",
       "      <th></th>\n",
       "      <th>stop</th>\n",
       "      <th>action</th>\n",
       "      <th>o_gender</th>\n",
       "      <th>o_race</th>\n",
       "      <th>o_age</th>\n",
       "      <th>d_gender</th>\n",
       "      <th>d_race</th>\n",
       "      <th>d_age</th>\n",
       "      <th>oh_sex</th>\n",
       "      <th>oh_race</th>\n",
       "      <th>oh_age_range</th>\n",
       "      <th>oh_age</th>\n",
       "    </tr>\n",
       "  </thead>\n",
       "  <tbody>\n",
       "    <tr>\n",
       "      <th>0</th>\n",
       "      <td>COMPLAINT/CRIMINAL VIOLATION</td>\n",
       "      <td>CITATION ISSUED</td>\n",
       "      <td>M</td>\n",
       "      <td>WHITE</td>\n",
       "      <td>21 - 30</td>\n",
       "      <td>M</td>\n",
       "      <td>BLACK</td>\n",
       "      <td>16 - 19</td>\n",
       "      <td>F</td>\n",
       "      <td>W</td>\n",
       "      <td>40 - 49</td>\n",
       "      <td>47</td>\n",
       "    </tr>\n",
       "    <tr>\n",
       "      <th>1</th>\n",
       "      <td>TRAFFIC VIOLATION</td>\n",
       "      <td>CITATION ISSUED</td>\n",
       "      <td>F</td>\n",
       "      <td>WHITE</td>\n",
       "      <td>21 - 30</td>\n",
       "      <td>M</td>\n",
       "      <td>WHITE</td>\n",
       "      <td>16 - 19</td>\n",
       "      <td>M</td>\n",
       "      <td>W</td>\n",
       "      <td>40 - 49</td>\n",
       "      <td>48</td>\n",
       "    </tr>\n",
       "    <tr>\n",
       "      <th>2</th>\n",
       "      <td>COMPLAINT/CRIMINAL VIOLATION</td>\n",
       "      <td>CITATION ISSUED</td>\n",
       "      <td>M</td>\n",
       "      <td>WHITE</td>\n",
       "      <td>21 - 30</td>\n",
       "      <td>F</td>\n",
       "      <td>BLACK</td>\n",
       "      <td>31 - 40</td>\n",
       "      <td>M</td>\n",
       "      <td>A</td>\n",
       "      <td>40 - 49</td>\n",
       "      <td>49</td>\n",
       "    </tr>\n",
       "    <tr>\n",
       "      <th>3</th>\n",
       "      <td>TRAFFIC VIOLATION</td>\n",
       "      <td>CITATION ISSUED</td>\n",
       "      <td>M</td>\n",
       "      <td>WHITE</td>\n",
       "      <td>31 - 40</td>\n",
       "      <td>M</td>\n",
       "      <td>HISPANIC</td>\n",
       "      <td>20 - 25</td>\n",
       "      <td>M</td>\n",
       "      <td>W</td>\n",
       "      <td>50 - 59</td>\n",
       "      <td>51</td>\n",
       "    </tr>\n",
       "    <tr>\n",
       "      <th>4</th>\n",
       "      <td>COMPLAINT/CRIMINAL VIOLATION</td>\n",
       "      <td>CITATION ISSUED</td>\n",
       "      <td>M</td>\n",
       "      <td>WHITE</td>\n",
       "      <td>31 - 40</td>\n",
       "      <td>M</td>\n",
       "      <td>HISPANIC</td>\n",
       "      <td>20 - 25</td>\n",
       "      <td>M</td>\n",
       "      <td>W</td>\n",
       "      <td>OVER 60</td>\n",
       "      <td>60</td>\n",
       "    </tr>\n",
       "  </tbody>\n",
       "</table>\n",
       "</div>"
      ],
      "text/plain": [
       "                           stop           action o_gender o_race    o_age  \\\n",
       "0  COMPLAINT/CRIMINAL VIOLATION  CITATION ISSUED        M  WHITE  21 - 30   \n",
       "1             TRAFFIC VIOLATION  CITATION ISSUED        F  WHITE  21 - 30   \n",
       "2  COMPLAINT/CRIMINAL VIOLATION  CITATION ISSUED        M  WHITE  21 - 30   \n",
       "3             TRAFFIC VIOLATION  CITATION ISSUED        M  WHITE  31 - 40   \n",
       "4  COMPLAINT/CRIMINAL VIOLATION  CITATION ISSUED        M  WHITE  31 - 40   \n",
       "\n",
       "  d_gender    d_race    d_age oh_sex oh_race oh_age_range  oh_age  \n",
       "0        M     BLACK  16 - 19      F      W       40 - 49      47  \n",
       "1        M     WHITE  16 - 19      M      W       40 - 49      48  \n",
       "2        F     BLACK  31 - 40      M      A       40 - 49      49  \n",
       "3        M  HISPANIC  20 - 25      M      W       50 - 59      51  \n",
       "4        M  HISPANIC  20 - 25      M      W       OVER 60      60  "
      ]
     },
     "execution_count": 257,
     "metadata": {},
     "output_type": "execute_result"
    }
   ],
   "source": [
    "df4 =  pd.concat([df, df3], axis = 1, join=\"inner\")\n",
    "df4.head()\n",
    "# print(header_row)"
   ]
  },
  {
   "cell_type": "code",
   "execution_count": 258,
   "metadata": {},
   "outputs": [
    {
     "data": {
      "text/html": [
       "<div>\n",
       "<style scoped>\n",
       "    .dataframe tbody tr th:only-of-type {\n",
       "        vertical-align: middle;\n",
       "    }\n",
       "\n",
       "    .dataframe tbody tr th {\n",
       "        vertical-align: top;\n",
       "    }\n",
       "\n",
       "    .dataframe thead th {\n",
       "        text-align: right;\n",
       "    }\n",
       "</style>\n",
       "<table border=\"1\" class=\"dataframe\">\n",
       "  <thead>\n",
       "    <tr style=\"text-align: right;\">\n",
       "      <th></th>\n",
       "      <th>stop</th>\n",
       "      <th>action</th>\n",
       "      <th>o_gender</th>\n",
       "      <th>o_race</th>\n",
       "      <th>o_age</th>\n",
       "      <th>d_gender</th>\n",
       "      <th>d_race</th>\n",
       "      <th>d_age</th>\n",
       "      <th>oh_sex</th>\n",
       "      <th>oh_race</th>\n",
       "      <th>oh_age_range</th>\n",
       "      <th>oh_age</th>\n",
       "    </tr>\n",
       "  </thead>\n",
       "  <tbody>\n",
       "    <tr>\n",
       "      <th>0</th>\n",
       "      <td>COMPLAINT/CRIMINAL VIOLATION</td>\n",
       "      <td>CITATION ISSUED</td>\n",
       "      <td>M</td>\n",
       "      <td>WHITE</td>\n",
       "      <td>21 - 30</td>\n",
       "      <td>M</td>\n",
       "      <td>BLACK</td>\n",
       "      <td>16 - 19</td>\n",
       "      <td>F</td>\n",
       "      <td>W</td>\n",
       "      <td>40 - 49</td>\n",
       "      <td>47</td>\n",
       "    </tr>\n",
       "    <tr>\n",
       "      <th>1</th>\n",
       "      <td>TRAFFIC VIOLATION</td>\n",
       "      <td>CITATION ISSUED</td>\n",
       "      <td>F</td>\n",
       "      <td>WHITE</td>\n",
       "      <td>21 - 30</td>\n",
       "      <td>M</td>\n",
       "      <td>WHITE</td>\n",
       "      <td>16 - 19</td>\n",
       "      <td>M</td>\n",
       "      <td>W</td>\n",
       "      <td>40 - 49</td>\n",
       "      <td>48</td>\n",
       "    </tr>\n",
       "    <tr>\n",
       "      <th>2</th>\n",
       "      <td>COMPLAINT/CRIMINAL VIOLATION</td>\n",
       "      <td>CITATION ISSUED</td>\n",
       "      <td>M</td>\n",
       "      <td>WHITE</td>\n",
       "      <td>21 - 30</td>\n",
       "      <td>F</td>\n",
       "      <td>BLACK</td>\n",
       "      <td>31 - 40</td>\n",
       "      <td>M</td>\n",
       "      <td>A</td>\n",
       "      <td>40 - 49</td>\n",
       "      <td>49</td>\n",
       "    </tr>\n",
       "    <tr>\n",
       "      <th>3</th>\n",
       "      <td>TRAFFIC VIOLATION</td>\n",
       "      <td>CITATION ISSUED</td>\n",
       "      <td>M</td>\n",
       "      <td>WHITE</td>\n",
       "      <td>31 - 40</td>\n",
       "      <td>M</td>\n",
       "      <td>HISPANIC</td>\n",
       "      <td>20 - 25</td>\n",
       "      <td>M</td>\n",
       "      <td>W</td>\n",
       "      <td>50 - 59</td>\n",
       "      <td>51</td>\n",
       "    </tr>\n",
       "    <tr>\n",
       "      <th>4</th>\n",
       "      <td>COMPLAINT/CRIMINAL VIOLATION</td>\n",
       "      <td>CITATION ISSUED</td>\n",
       "      <td>M</td>\n",
       "      <td>WHITE</td>\n",
       "      <td>31 - 40</td>\n",
       "      <td>M</td>\n",
       "      <td>HISPANIC</td>\n",
       "      <td>20 - 25</td>\n",
       "      <td>M</td>\n",
       "      <td>W</td>\n",
       "      <td>OVER 60</td>\n",
       "      <td>60</td>\n",
       "    </tr>\n",
       "  </tbody>\n",
       "</table>\n",
       "</div>"
      ],
      "text/plain": [
       "                           stop           action o_gender o_race    o_age  \\\n",
       "0  COMPLAINT/CRIMINAL VIOLATION  CITATION ISSUED        M  WHITE  21 - 30   \n",
       "1             TRAFFIC VIOLATION  CITATION ISSUED        F  WHITE  21 - 30   \n",
       "2  COMPLAINT/CRIMINAL VIOLATION  CITATION ISSUED        M  WHITE  21 - 30   \n",
       "3             TRAFFIC VIOLATION  CITATION ISSUED        M  WHITE  31 - 40   \n",
       "4  COMPLAINT/CRIMINAL VIOLATION  CITATION ISSUED        M  WHITE  31 - 40   \n",
       "\n",
       "  d_gender    d_race    d_age oh_sex oh_race oh_age_range  oh_age  \n",
       "0        M     BLACK  16 - 19      F      W       40 - 49      47  \n",
       "1        M     WHITE  16 - 19      M      W       40 - 49      48  \n",
       "2        F     BLACK  31 - 40      M      A       40 - 49      49  \n",
       "3        M  HISPANIC  20 - 25      M      W       50 - 59      51  \n",
       "4        M  HISPANIC  20 - 25      M      W       OVER 60      60  "
      ]
     },
     "execution_count": 258,
     "metadata": {},
     "output_type": "execute_result"
    }
   ],
   "source": [
    "df4['o_gender'] = df4['o_gender'].fillna('unknown')\n",
    "df4.head()"
   ]
  },
  {
   "cell_type": "code",
   "execution_count": 259,
   "metadata": {},
   "outputs": [
    {
     "data": {
      "text/plain": [
       "array(['F', 'M', ' '], dtype=object)"
      ]
     },
     "execution_count": 259,
     "metadata": {},
     "output_type": "execute_result"
    }
   ],
   "source": [
    "df3.oh_sex.unique()\n"
   ]
  },
  {
   "cell_type": "code",
   "execution_count": 260,
   "metadata": {},
   "outputs": [
    {
     "data": {
      "text/html": [
       "<div>\n",
       "<style scoped>\n",
       "    .dataframe tbody tr th:only-of-type {\n",
       "        vertical-align: middle;\n",
       "    }\n",
       "\n",
       "    .dataframe tbody tr th {\n",
       "        vertical-align: top;\n",
       "    }\n",
       "\n",
       "    .dataframe thead th {\n",
       "        text-align: right;\n",
       "    }\n",
       "</style>\n",
       "<table border=\"1\" class=\"dataframe\">\n",
       "  <thead>\n",
       "    <tr style=\"text-align: right;\">\n",
       "      <th></th>\n",
       "      <th>stop</th>\n",
       "      <th>action</th>\n",
       "      <th>o_gender</th>\n",
       "      <th>o_race</th>\n",
       "      <th>o_age</th>\n",
       "      <th>d_gender</th>\n",
       "      <th>d_race</th>\n",
       "      <th>d_age</th>\n",
       "      <th>oh_sex</th>\n",
       "      <th>oh_race</th>\n",
       "      <th>oh_age_range</th>\n",
       "      <th>oh_age</th>\n",
       "    </tr>\n",
       "  </thead>\n",
       "  <tbody>\n",
       "    <tr>\n",
       "      <th>0</th>\n",
       "      <td>COMPLAINT/CRIMINAL VIOLATION</td>\n",
       "      <td>CITATION ISSUED</td>\n",
       "      <td>M</td>\n",
       "      <td>WHITE</td>\n",
       "      <td>21 - 30</td>\n",
       "      <td>M</td>\n",
       "      <td>BLACK</td>\n",
       "      <td>16 - 19</td>\n",
       "      <td>F</td>\n",
       "      <td>W</td>\n",
       "      <td>40 - 49</td>\n",
       "      <td>47</td>\n",
       "    </tr>\n",
       "    <tr>\n",
       "      <th>1</th>\n",
       "      <td>TRAFFIC VIOLATION</td>\n",
       "      <td>CITATION ISSUED</td>\n",
       "      <td>F</td>\n",
       "      <td>WHITE</td>\n",
       "      <td>21 - 30</td>\n",
       "      <td>M</td>\n",
       "      <td>WHITE</td>\n",
       "      <td>16 - 19</td>\n",
       "      <td>M</td>\n",
       "      <td>W</td>\n",
       "      <td>40 - 49</td>\n",
       "      <td>48</td>\n",
       "    </tr>\n",
       "    <tr>\n",
       "      <th>2</th>\n",
       "      <td>COMPLAINT/CRIMINAL VIOLATION</td>\n",
       "      <td>CITATION ISSUED</td>\n",
       "      <td>M</td>\n",
       "      <td>WHITE</td>\n",
       "      <td>21 - 30</td>\n",
       "      <td>F</td>\n",
       "      <td>BLACK</td>\n",
       "      <td>31 - 40</td>\n",
       "      <td>M</td>\n",
       "      <td>A</td>\n",
       "      <td>40 - 49</td>\n",
       "      <td>49</td>\n",
       "    </tr>\n",
       "    <tr>\n",
       "      <th>3</th>\n",
       "      <td>TRAFFIC VIOLATION</td>\n",
       "      <td>CITATION ISSUED</td>\n",
       "      <td>M</td>\n",
       "      <td>WHITE</td>\n",
       "      <td>31 - 40</td>\n",
       "      <td>M</td>\n",
       "      <td>HISPANIC</td>\n",
       "      <td>20 - 25</td>\n",
       "      <td>M</td>\n",
       "      <td>W</td>\n",
       "      <td>50 - 59</td>\n",
       "      <td>51</td>\n",
       "    </tr>\n",
       "    <tr>\n",
       "      <th>4</th>\n",
       "      <td>COMPLAINT/CRIMINAL VIOLATION</td>\n",
       "      <td>CITATION ISSUED</td>\n",
       "      <td>M</td>\n",
       "      <td>WHITE</td>\n",
       "      <td>31 - 40</td>\n",
       "      <td>M</td>\n",
       "      <td>HISPANIC</td>\n",
       "      <td>20 - 25</td>\n",
       "      <td>M</td>\n",
       "      <td>W</td>\n",
       "      <td>OVER 60</td>\n",
       "      <td>60</td>\n",
       "    </tr>\n",
       "    <tr>\n",
       "      <th>5</th>\n",
       "      <td>COMPLAINT/CRIMINAL VIOLATION</td>\n",
       "      <td>CITATION ISSUED</td>\n",
       "      <td>M</td>\n",
       "      <td>WHITE</td>\n",
       "      <td>21 - 30</td>\n",
       "      <td>M</td>\n",
       "      <td>WHITE</td>\n",
       "      <td>26 - 30</td>\n",
       "      <td>M</td>\n",
       "      <td>B</td>\n",
       "      <td>50 - 59</td>\n",
       "      <td>56</td>\n",
       "    </tr>\n",
       "    <tr>\n",
       "      <th>6</th>\n",
       "      <td>TRAFFIC VIOLATION</td>\n",
       "      <td>CITATION ISSUED</td>\n",
       "      <td>M</td>\n",
       "      <td>WHITE</td>\n",
       "      <td>31 - 40</td>\n",
       "      <td>M</td>\n",
       "      <td>BLACK</td>\n",
       "      <td>31 - 40</td>\n",
       "      <td>M</td>\n",
       "      <td>W</td>\n",
       "      <td>40 - 49</td>\n",
       "      <td>43</td>\n",
       "    </tr>\n",
       "    <tr>\n",
       "      <th>7</th>\n",
       "      <td>COMPLAINT/CRIMINAL VIOLATION</td>\n",
       "      <td>CITATION ISSUED</td>\n",
       "      <td>M</td>\n",
       "      <td>WHITE</td>\n",
       "      <td>21 - 30</td>\n",
       "      <td>M</td>\n",
       "      <td>BLACK</td>\n",
       "      <td>20 - 25</td>\n",
       "      <td>M</td>\n",
       "      <td>W</td>\n",
       "      <td>OVER 60</td>\n",
       "      <td>60</td>\n",
       "    </tr>\n",
       "    <tr>\n",
       "      <th>8</th>\n",
       "      <td>COMPLAINT/CRIMINAL VIOLATION</td>\n",
       "      <td>CITATION ISSUED</td>\n",
       "      <td>M</td>\n",
       "      <td>WHITE</td>\n",
       "      <td>21 - 30</td>\n",
       "      <td>F</td>\n",
       "      <td>BLACK</td>\n",
       "      <td>20 - 25</td>\n",
       "      <td>M</td>\n",
       "      <td>W</td>\n",
       "      <td>OVER 60</td>\n",
       "      <td>68</td>\n",
       "    </tr>\n",
       "    <tr>\n",
       "      <th>9</th>\n",
       "      <td>TRAFFIC VIOLATION</td>\n",
       "      <td>CITATION ISSUED</td>\n",
       "      <td>M</td>\n",
       "      <td>WHITE</td>\n",
       "      <td>41 - 50</td>\n",
       "      <td>M</td>\n",
       "      <td>WHITE</td>\n",
       "      <td>31 - 40</td>\n",
       "      <td>M</td>\n",
       "      <td>W</td>\n",
       "      <td>50 - 59</td>\n",
       "      <td>53</td>\n",
       "    </tr>\n",
       "    <tr>\n",
       "      <th>10</th>\n",
       "      <td>TRAFFIC VIOLATION</td>\n",
       "      <td>CITATION ISSUED</td>\n",
       "      <td>M</td>\n",
       "      <td>WHITE</td>\n",
       "      <td>31 - 40</td>\n",
       "      <td>M</td>\n",
       "      <td>BLACK</td>\n",
       "      <td>26 - 30</td>\n",
       "      <td>M</td>\n",
       "      <td>W</td>\n",
       "      <td>50 - 59</td>\n",
       "      <td>53</td>\n",
       "    </tr>\n",
       "    <tr>\n",
       "      <th>11</th>\n",
       "      <td>TRAFFIC VIOLATION</td>\n",
       "      <td>CITATION ISSUED</td>\n",
       "      <td>M</td>\n",
       "      <td>WHITE</td>\n",
       "      <td>41 - 50</td>\n",
       "      <td>M</td>\n",
       "      <td>HISPANIC</td>\n",
       "      <td>26 - 30</td>\n",
       "      <td>M</td>\n",
       "      <td>B</td>\n",
       "      <td>50 - 59</td>\n",
       "      <td>52</td>\n",
       "    </tr>\n",
       "    <tr>\n",
       "      <th>12</th>\n",
       "      <td>COMPLAINT/CRIMINAL VIOLATION</td>\n",
       "      <td>CITATION ISSUED</td>\n",
       "      <td>M</td>\n",
       "      <td>WHITE</td>\n",
       "      <td>31 - 40</td>\n",
       "      <td>M</td>\n",
       "      <td>WHITE</td>\n",
       "      <td>31 - 40</td>\n",
       "      <td>M</td>\n",
       "      <td>W</td>\n",
       "      <td>OVER 60</td>\n",
       "      <td>62</td>\n",
       "    </tr>\n",
       "    <tr>\n",
       "      <th>13</th>\n",
       "      <td>TRAFFIC VIOLATION</td>\n",
       "      <td>CITATION ISSUED</td>\n",
       "      <td>M</td>\n",
       "      <td>WHITE</td>\n",
       "      <td>41 - 50</td>\n",
       "      <td>M</td>\n",
       "      <td>BLACK</td>\n",
       "      <td>16 - 19</td>\n",
       "      <td>M</td>\n",
       "      <td>W</td>\n",
       "      <td>50 - 59</td>\n",
       "      <td>55</td>\n",
       "    </tr>\n",
       "    <tr>\n",
       "      <th>14</th>\n",
       "      <td>TRAFFIC VIOLATION</td>\n",
       "      <td>CITATION ISSUED</td>\n",
       "      <td>M</td>\n",
       "      <td>WHITE</td>\n",
       "      <td>41 - 50</td>\n",
       "      <td>F</td>\n",
       "      <td>WHITE</td>\n",
       "      <td>31 - 40</td>\n",
       "      <td>M</td>\n",
       "      <td>B</td>\n",
       "      <td>OVER 60</td>\n",
       "      <td>70</td>\n",
       "    </tr>\n",
       "    <tr>\n",
       "      <th>15</th>\n",
       "      <td>COMPLAINT/CRIMINAL VIOLATION</td>\n",
       "      <td>CITATION ISSUED</td>\n",
       "      <td>M</td>\n",
       "      <td>WHITE</td>\n",
       "      <td>31 - 40</td>\n",
       "      <td>F</td>\n",
       "      <td>WHITE</td>\n",
       "      <td>41 - 50</td>\n",
       "      <td>M</td>\n",
       "      <td>B</td>\n",
       "      <td>40 - 49</td>\n",
       "      <td>45</td>\n",
       "    </tr>\n",
       "    <tr>\n",
       "      <th>16</th>\n",
       "      <td>TRAFFIC VIOLATION</td>\n",
       "      <td>CITATION ISSUED</td>\n",
       "      <td>M</td>\n",
       "      <td>WHITE</td>\n",
       "      <td>31 - 40</td>\n",
       "      <td>M</td>\n",
       "      <td>BLACK</td>\n",
       "      <td>20 - 25</td>\n",
       "      <td>F</td>\n",
       "      <td>W</td>\n",
       "      <td>OVER 60</td>\n",
       "      <td>62</td>\n",
       "    </tr>\n",
       "    <tr>\n",
       "      <th>17</th>\n",
       "      <td>TRAFFIC VIOLATION</td>\n",
       "      <td>CITATION ISSUED</td>\n",
       "      <td>M</td>\n",
       "      <td>WHITE</td>\n",
       "      <td>41 - 50</td>\n",
       "      <td>M</td>\n",
       "      <td>BLACK</td>\n",
       "      <td>20 - 25</td>\n",
       "      <td>M</td>\n",
       "      <td>W</td>\n",
       "      <td>50 - 59</td>\n",
       "      <td>50</td>\n",
       "    </tr>\n",
       "    <tr>\n",
       "      <th>18</th>\n",
       "      <td>COMPLAINT/CRIMINAL VIOLATION</td>\n",
       "      <td>CITATION ISSUED</td>\n",
       "      <td>M</td>\n",
       "      <td>WHITE</td>\n",
       "      <td>21 - 30</td>\n",
       "      <td>M</td>\n",
       "      <td>HISPANIC</td>\n",
       "      <td>26 - 30</td>\n",
       "      <td>M</td>\n",
       "      <td>B</td>\n",
       "      <td>40 - 49</td>\n",
       "      <td>48</td>\n",
       "    </tr>\n",
       "    <tr>\n",
       "      <th>19</th>\n",
       "      <td>TRAFFIC VIOLATION</td>\n",
       "      <td>CITATION ISSUED</td>\n",
       "      <td>M</td>\n",
       "      <td>WHITE</td>\n",
       "      <td>21 - 30</td>\n",
       "      <td>M</td>\n",
       "      <td>BLACK</td>\n",
       "      <td>31 - 40</td>\n",
       "      <td>M</td>\n",
       "      <td>W</td>\n",
       "      <td>50 - 59</td>\n",
       "      <td>52</td>\n",
       "    </tr>\n",
       "    <tr>\n",
       "      <th>20</th>\n",
       "      <td>TRAFFIC VIOLATION</td>\n",
       "      <td>CITATION ISSUED</td>\n",
       "      <td>M</td>\n",
       "      <td>WHITE</td>\n",
       "      <td>41 - 50</td>\n",
       "      <td>F</td>\n",
       "      <td>WHITE</td>\n",
       "      <td>31 - 40</td>\n",
       "      <td>M</td>\n",
       "      <td>B</td>\n",
       "      <td>OVER 60</td>\n",
       "      <td>65</td>\n",
       "    </tr>\n",
       "    <tr>\n",
       "      <th>21</th>\n",
       "      <td>COMPLAINT/CRIMINAL VIOLATION</td>\n",
       "      <td>CITATION ISSUED</td>\n",
       "      <td>M</td>\n",
       "      <td>WHITE</td>\n",
       "      <td>21 - 30</td>\n",
       "      <td>M</td>\n",
       "      <td>WHITE</td>\n",
       "      <td>31 - 40</td>\n",
       "      <td>M</td>\n",
       "      <td>W</td>\n",
       "      <td>50 - 59</td>\n",
       "      <td>51</td>\n",
       "    </tr>\n",
       "    <tr>\n",
       "      <th>22</th>\n",
       "      <td>TRAFFIC VIOLATION</td>\n",
       "      <td>CITATION ISSUED</td>\n",
       "      <td>M</td>\n",
       "      <td>WHITE</td>\n",
       "      <td>21 - 30</td>\n",
       "      <td>M</td>\n",
       "      <td>BLACK</td>\n",
       "      <td>31 - 40</td>\n",
       "      <td>F</td>\n",
       "      <td>B</td>\n",
       "      <td>OVER 60</td>\n",
       "      <td>63</td>\n",
       "    </tr>\n",
       "    <tr>\n",
       "      <th>23</th>\n",
       "      <td>TRAFFIC VIOLATION</td>\n",
       "      <td>CITATION ISSUED</td>\n",
       "      <td>M</td>\n",
       "      <td>WHITE</td>\n",
       "      <td>41 - 50</td>\n",
       "      <td>M</td>\n",
       "      <td>WHITE</td>\n",
       "      <td>20 - 25</td>\n",
       "      <td>M</td>\n",
       "      <td>W</td>\n",
       "      <td>40 - 49</td>\n",
       "      <td>49</td>\n",
       "    </tr>\n",
       "    <tr>\n",
       "      <th>24</th>\n",
       "      <td>COMPLAINT/CRIMINAL VIOLATION</td>\n",
       "      <td>CITATION ISSUED</td>\n",
       "      <td>M</td>\n",
       "      <td>BLACK</td>\n",
       "      <td>21 - 30</td>\n",
       "      <td>M</td>\n",
       "      <td>BLACK</td>\n",
       "      <td>41 - 50</td>\n",
       "      <td>M</td>\n",
       "      <td>W</td>\n",
       "      <td>50 - 59</td>\n",
       "      <td>51</td>\n",
       "    </tr>\n",
       "    <tr>\n",
       "      <th>25</th>\n",
       "      <td>COMPLAINT/CRIMINAL VIOLATION</td>\n",
       "      <td>CITATION ISSUED</td>\n",
       "      <td>M</td>\n",
       "      <td>WHITE</td>\n",
       "      <td>21 - 30</td>\n",
       "      <td>M</td>\n",
       "      <td>BLACK</td>\n",
       "      <td>31 - 40</td>\n",
       "      <td>M</td>\n",
       "      <td>W</td>\n",
       "      <td>40 - 49</td>\n",
       "      <td>42</td>\n",
       "    </tr>\n",
       "    <tr>\n",
       "      <th>26</th>\n",
       "      <td>COMPLAINT/CRIMINAL VIOLATION</td>\n",
       "      <td>CITATION ISSUED</td>\n",
       "      <td>M</td>\n",
       "      <td>WHITE</td>\n",
       "      <td>21 - 30</td>\n",
       "      <td>M</td>\n",
       "      <td>WHITE</td>\n",
       "      <td>51 - 60</td>\n",
       "      <td>M</td>\n",
       "      <td>W</td>\n",
       "      <td>50 - 59</td>\n",
       "      <td>54</td>\n",
       "    </tr>\n",
       "    <tr>\n",
       "      <th>27</th>\n",
       "      <td>COMPLAINT/CRIMINAL VIOLATION</td>\n",
       "      <td>CITATION ISSUED</td>\n",
       "      <td>M</td>\n",
       "      <td>WHITE</td>\n",
       "      <td>21 - 30</td>\n",
       "      <td>M</td>\n",
       "      <td>HISPANIC</td>\n",
       "      <td>20 - 25</td>\n",
       "      <td>F</td>\n",
       "      <td>W</td>\n",
       "      <td>OVER 60</td>\n",
       "      <td>61</td>\n",
       "    </tr>\n",
       "    <tr>\n",
       "      <th>28</th>\n",
       "      <td>COMPLAINT/CRIMINAL VIOLATION</td>\n",
       "      <td>CITATION ISSUED</td>\n",
       "      <td>M</td>\n",
       "      <td>WHITE</td>\n",
       "      <td>21 - 30</td>\n",
       "      <td>M</td>\n",
       "      <td>BLACK</td>\n",
       "      <td>26 - 30</td>\n",
       "      <td>M</td>\n",
       "      <td>W</td>\n",
       "      <td>50 - 59</td>\n",
       "      <td>53</td>\n",
       "    </tr>\n",
       "    <tr>\n",
       "      <th>29</th>\n",
       "      <td>COMPLAINT/CRIMINAL VIOLATION</td>\n",
       "      <td>CITATION ISSUED</td>\n",
       "      <td>M</td>\n",
       "      <td>WHITE</td>\n",
       "      <td>21 - 30</td>\n",
       "      <td>M</td>\n",
       "      <td>WHITE</td>\n",
       "      <td>26 - 30</td>\n",
       "      <td>M</td>\n",
       "      <td>W</td>\n",
       "      <td>50 - 59</td>\n",
       "      <td>51</td>\n",
       "    </tr>\n",
       "  </tbody>\n",
       "</table>\n",
       "</div>"
      ],
      "text/plain": [
       "                            stop           action o_gender o_race    o_age  \\\n",
       "0   COMPLAINT/CRIMINAL VIOLATION  CITATION ISSUED        M  WHITE  21 - 30   \n",
       "1              TRAFFIC VIOLATION  CITATION ISSUED        F  WHITE  21 - 30   \n",
       "2   COMPLAINT/CRIMINAL VIOLATION  CITATION ISSUED        M  WHITE  21 - 30   \n",
       "3              TRAFFIC VIOLATION  CITATION ISSUED        M  WHITE  31 - 40   \n",
       "4   COMPLAINT/CRIMINAL VIOLATION  CITATION ISSUED        M  WHITE  31 - 40   \n",
       "5   COMPLAINT/CRIMINAL VIOLATION  CITATION ISSUED        M  WHITE  21 - 30   \n",
       "6              TRAFFIC VIOLATION  CITATION ISSUED        M  WHITE  31 - 40   \n",
       "7   COMPLAINT/CRIMINAL VIOLATION  CITATION ISSUED        M  WHITE  21 - 30   \n",
       "8   COMPLAINT/CRIMINAL VIOLATION  CITATION ISSUED        M  WHITE  21 - 30   \n",
       "9              TRAFFIC VIOLATION  CITATION ISSUED        M  WHITE  41 - 50   \n",
       "10             TRAFFIC VIOLATION  CITATION ISSUED        M  WHITE  31 - 40   \n",
       "11             TRAFFIC VIOLATION  CITATION ISSUED        M  WHITE  41 - 50   \n",
       "12  COMPLAINT/CRIMINAL VIOLATION  CITATION ISSUED        M  WHITE  31 - 40   \n",
       "13             TRAFFIC VIOLATION  CITATION ISSUED        M  WHITE  41 - 50   \n",
       "14             TRAFFIC VIOLATION  CITATION ISSUED        M  WHITE  41 - 50   \n",
       "15  COMPLAINT/CRIMINAL VIOLATION  CITATION ISSUED        M  WHITE  31 - 40   \n",
       "16             TRAFFIC VIOLATION  CITATION ISSUED        M  WHITE  31 - 40   \n",
       "17             TRAFFIC VIOLATION  CITATION ISSUED        M  WHITE  41 - 50   \n",
       "18  COMPLAINT/CRIMINAL VIOLATION  CITATION ISSUED        M  WHITE  21 - 30   \n",
       "19             TRAFFIC VIOLATION  CITATION ISSUED        M  WHITE  21 - 30   \n",
       "20             TRAFFIC VIOLATION  CITATION ISSUED        M  WHITE  41 - 50   \n",
       "21  COMPLAINT/CRIMINAL VIOLATION  CITATION ISSUED        M  WHITE  21 - 30   \n",
       "22             TRAFFIC VIOLATION  CITATION ISSUED        M  WHITE  21 - 30   \n",
       "23             TRAFFIC VIOLATION  CITATION ISSUED        M  WHITE  41 - 50   \n",
       "24  COMPLAINT/CRIMINAL VIOLATION  CITATION ISSUED        M  BLACK  21 - 30   \n",
       "25  COMPLAINT/CRIMINAL VIOLATION  CITATION ISSUED        M  WHITE  21 - 30   \n",
       "26  COMPLAINT/CRIMINAL VIOLATION  CITATION ISSUED        M  WHITE  21 - 30   \n",
       "27  COMPLAINT/CRIMINAL VIOLATION  CITATION ISSUED        M  WHITE  21 - 30   \n",
       "28  COMPLAINT/CRIMINAL VIOLATION  CITATION ISSUED        M  WHITE  21 - 30   \n",
       "29  COMPLAINT/CRIMINAL VIOLATION  CITATION ISSUED        M  WHITE  21 - 30   \n",
       "\n",
       "   d_gender    d_race    d_age oh_sex oh_race oh_age_range  oh_age  \n",
       "0         M     BLACK  16 - 19      F      W       40 - 49      47  \n",
       "1         M     WHITE  16 - 19      M      W       40 - 49      48  \n",
       "2         F     BLACK  31 - 40      M      A       40 - 49      49  \n",
       "3         M  HISPANIC  20 - 25      M      W       50 - 59      51  \n",
       "4         M  HISPANIC  20 - 25      M      W       OVER 60      60  \n",
       "5         M     WHITE  26 - 30      M      B       50 - 59      56  \n",
       "6         M     BLACK  31 - 40      M      W       40 - 49      43  \n",
       "7         M     BLACK  20 - 25      M      W       OVER 60      60  \n",
       "8         F     BLACK  20 - 25      M      W       OVER 60      68  \n",
       "9         M     WHITE  31 - 40      M      W       50 - 59      53  \n",
       "10        M     BLACK  26 - 30      M      W       50 - 59      53  \n",
       "11        M  HISPANIC  26 - 30      M      B       50 - 59      52  \n",
       "12        M     WHITE  31 - 40      M      W       OVER 60      62  \n",
       "13        M     BLACK  16 - 19      M      W       50 - 59      55  \n",
       "14        F     WHITE  31 - 40      M      B       OVER 60      70  \n",
       "15        F     WHITE  41 - 50      M      B       40 - 49      45  \n",
       "16        M     BLACK  20 - 25      F      W       OVER 60      62  \n",
       "17        M     BLACK  20 - 25      M      W       50 - 59      50  \n",
       "18        M  HISPANIC  26 - 30      M      B       40 - 49      48  \n",
       "19        M     BLACK  31 - 40      M      W       50 - 59      52  \n",
       "20        F     WHITE  31 - 40      M      B       OVER 60      65  \n",
       "21        M     WHITE  31 - 40      M      W       50 - 59      51  \n",
       "22        M     BLACK  31 - 40      F      B       OVER 60      63  \n",
       "23        M     WHITE  20 - 25      M      W       40 - 49      49  \n",
       "24        M     BLACK  41 - 50      M      W       50 - 59      51  \n",
       "25        M     BLACK  31 - 40      M      W       40 - 49      42  \n",
       "26        M     WHITE  51 - 60      M      W       50 - 59      54  \n",
       "27        M  HISPANIC  20 - 25      F      W       OVER 60      61  \n",
       "28        M     BLACK  26 - 30      M      W       50 - 59      53  \n",
       "29        M     WHITE  26 - 30      M      W       50 - 59      51  "
      ]
     },
     "execution_count": 260,
     "metadata": {},
     "output_type": "execute_result"
    }
   ],
   "source": [
    "df4.groupby(by='oh_age')\n",
    "df4.head(30)"
   ]
  },
  {
   "cell_type": "code",
   "execution_count": 261,
   "metadata": {},
   "outputs": [
    {
     "data": {
      "text/plain": [
       "2282"
      ]
     },
     "execution_count": 261,
     "metadata": {},
     "output_type": "execute_result"
    }
   ],
   "source": [
    "sum(df4.oh_sex == 'M')"
   ]
  },
  {
   "cell_type": "code",
   "execution_count": 262,
   "metadata": {},
   "outputs": [
    {
     "data": {
      "text/plain": [
       "384"
      ]
     },
     "execution_count": 262,
     "metadata": {},
     "output_type": "execute_result"
    }
   ],
   "source": [
    "sum(df4.oh_sex == 'F')"
   ]
  },
  {
   "cell_type": "code",
   "execution_count": 263,
   "metadata": {},
   "outputs": [
    {
     "data": {
      "text/plain": [
       "1755"
      ]
     },
     "execution_count": 263,
     "metadata": {},
     "output_type": "execute_result"
    }
   ],
   "source": [
    "sum(df4.d_gender == 'M')"
   ]
  },
  {
   "cell_type": "code",
   "execution_count": 264,
   "metadata": {},
   "outputs": [
    {
     "data": {
      "text/plain": [
       "922"
      ]
     },
     "execution_count": 264,
     "metadata": {},
     "output_type": "execute_result"
    }
   ],
   "source": [
    "sum(df4.d_gender == 'F')"
   ]
  },
  {
   "cell_type": "code",
   "execution_count": 265,
   "metadata": {},
   "outputs": [
    {
     "name": "stdout",
     "output_type": "stream",
     "text": [
      "{'Driver Female': 922, 'Driver Male': 1755}\n"
     ]
    }
   ],
   "source": [
    "d_gender = dict({\n",
    "    'Driver Female' : sum(df4.d_gender == 'F'),\n",
    "    'Driver Male' : sum(df4.d_gender == 'M')\n",
    "})\n",
    "\n",
    "print(d_gender)\n"
   ]
  },
  {
   "cell_type": "code",
   "execution_count": 266,
   "metadata": {},
   "outputs": [
    {
     "name": "stdout",
     "output_type": "stream",
     "text": [
      "{'Male Officer': 2282, 'Female Offier': 384}\n"
     ]
    }
   ],
   "source": [
    "oh_sex = dict( {\n",
    "    'Male Officer' : sum(df4.oh_sex == 'M'),\n",
    "    'Female Offier' : sum(df4.oh_sex == 'F')\n",
    "})\n",
    "\n",
    "print(oh_sex)"
   ]
  },
  {
   "cell_type": "code",
   "execution_count": 267,
   "metadata": {},
   "outputs": [
    {
     "data": {
      "image/png": "[encoded data removed]",
      "text/plain": [
       "<Figure size 432x288 with 1 Axes>"
      ]
     },
     "metadata": {
      "needs_background": "light"
     },
     "output_type": "display_data"
    }
   ],
   "source": [
    "\n",
    "data = oh_sex\n",
    "names = list(data.keys())\n",
    "values = list(data.values())\n",
    "\n",
    "plt.bar(range(len(data)), values, tick_label=names)\n",
    "plt.show()"
   ]
  },
  {
   "cell_type": "code",
   "execution_count": 268,
   "metadata": {},
   "outputs": [
    {
     "data": {
      "image/png": "[encoded data removed]",
      "text/plain": [
       "<Figure size 432x288 with 1 Axes>"
      ]
     },
     "metadata": {
      "needs_background": "light"
     },
     "output_type": "display_data"
    }
   ],
   "source": [
    "data = d_gender\n",
    "names = list(data.keys())\n",
    "values = list(data.values())\n",
    "\n",
    "plt.bar(range(len(data)), values, tick_label=names)\n",
    "plt.show()"
   ]
  },
  {
   "cell_type": "code",
   "execution_count": 269,
   "metadata": {},
   "outputs": [
    {
     "data": {
      "image/png": "[encoded data removed]",
      "text/plain": [
       "<Figure size 432x288 with 1 Axes>"
      ]
     },
     "metadata": {},
     "output_type": "display_data"
    }
   ],
   "source": [
    "# Data to plot\n",
    "labels = []\n",
    "sizes = []\n",
    "\n",
    "for x, y in oh_sex.items():\n",
    "    labels.append(x)\n",
    "    sizes.append(y)\n",
    "\n",
    "# Plot\n",
    "plt.pie(sizes, labels=labels)\n",
    "\n",
    "plt.axis('equal')\n",
    "plt.show()"
   ]
  },
  {
   "cell_type": "code",
   "execution_count": 276,
   "metadata": {},
   "outputs": [
    {
     "data": {
      "image/png": "[encoded data removed]",
      "text/plain": [
       "<Figure size 432x288 with 1 Axes>"
      ]
     },
     "metadata": {},
     "output_type": "display_data"
    }
   ],
   "source": [
    "# Data to plot\n",
    "labels = []\n",
    "sizes = []\n",
    "\n",
    "for x, y in d_gender.items():\n",
    "    labels.append(x)\n",
    "    sizes.append(y)\n",
    "\n",
    "# Plot\n",
    "plt.pie(sizes, labels=labels)\n",
    "\n",
    "plt.axis('equal')\n",
    "plt.show()"
   ]
  },
  {
   "cell_type": "code",
   "execution_count": 272,
   "metadata": {},
   "outputs": [
    {
     "name": "stdout",
     "output_type": "stream",
     "text": [
      "o_race\n",
      "ASIAN         13\n",
      "BLACK        523\n",
      "HISPANIC      27\n",
      "UNKNOWN        1\n",
      "WHITE       2113\n",
      "Name: o_race, dtype: int64\n",
      "d_race\n",
      "ASIAN         13\n",
      "BLACK        972\n",
      "HISPANIC     166\n",
      "WHITE       1501\n",
      "Name: d_race, dtype: int64\n"
     ]
    }
   ],
   "source": [
    "oraces =  df4.groupby('o_race')['o_race'].count()\n",
    "draces =  df4.groupby('d_race')['d_race'].count()\n",
    "print(oraces)\n",
    "print(draces)"
   ]
  },
  {
   "cell_type": "code",
   "execution_count": 273,
   "metadata": {},
   "outputs": [],
   "source": [
    "# ww =  df4.groupby('o_race')['d_race' == 'o_race'].count()"
   ]
  },
  {
   "cell_type": "code",
   "execution_count": 274,
   "metadata": {},
   "outputs": [
    {
     "name": "stdout",
     "output_type": "stream",
     "text": [
      "o_race    d_race  \n",
      "ASIAN     BLACK          6\n",
      "          WHITE          6\n",
      "          HISPANIC       1\n",
      "BLACK     WHITE        279\n",
      "          BLACK        192\n",
      "          HISPANIC      34\n",
      "          ASIAN          2\n",
      "HISPANIC  WHITE         18\n",
      "          BLACK          6\n",
      "          HISPANIC       3\n",
      "UNKNOWN   BLACK          1\n",
      "WHITE     WHITE       1198\n",
      "          BLACK        767\n",
      "          HISPANIC     128\n",
      "          ASIAN         11\n",
      "Name: d_race, dtype: int64\n"
     ]
    }
   ],
   "source": [
    "df5 = df4.groupby([\"o_race\"])[\"d_race\"].value_counts()\n",
    "\n",
    "print(df5)"
   ]
  },
  {
   "cell_type": "code",
   "execution_count": 282,
   "metadata": {},
   "outputs": [
    {
     "name": "stdout",
     "output_type": "stream",
     "text": [
      "stop                          d_race  \n",
      "COMPLAINT/CRIMINAL VIOLATION  WHITE         46\n",
      "                              BLACK         34\n",
      "                              HISPANIC       6\n",
      "COMPLIANCE STOP (KVE ONLY)    BLACK         10\n",
      "                              WHITE          3\n",
      "TRAFFIC VIOLATION             WHITE       1452\n",
      "                              BLACK        928\n",
      "                              HISPANIC     160\n",
      "                              ASIAN         13\n",
      "Name: d_race, dtype: int64\n"
     ]
    }
   ],
   "source": [
    "df7 = df4.groupby([\"stop\"])[\"d_race\"].value_counts()\n",
    "print(df7)"
   ]
  },
  {
   "cell_type": "code",
   "execution_count": 275,
   "metadata": {},
   "outputs": [
    {
     "ename": "TypeError",
     "evalue": "'Series' object is not callable",
     "output_type": "error",
     "traceback": [
      "\u001b[0;31m---------------------------------------------------------------------------\u001b[0m",
      "\u001b[0;31mTypeError\u001b[0m                                 Traceback (most recent call last)",
      "\u001b[0;32m/var/folders/t5/sxblnh9s6r744cwj7y86ts1r0000gn/T/ipykernel_8287/3189288982.py\u001b[0m in \u001b[0;36m<module>\u001b[0;34m\u001b[0m\n\u001b[0;32m----> 1\u001b[0;31m \u001b[0mdf5\u001b[0m\u001b[0;34m(\u001b[0m\u001b[0;34m'd_race'\u001b[0m\u001b[0;34m)\u001b[0m\u001b[0;34m.\u001b[0m\u001b[0msum\u001b[0m\u001b[0;34m(\u001b[0m\u001b[0;34m)\u001b[0m\u001b[0;34m\u001b[0m\u001b[0;34m\u001b[0m\u001b[0m\n\u001b[0m",
      "\u001b[0;31mTypeError\u001b[0m: 'Series' object is not callable"
     ]
    }
   ],
   "source": [
    "df5('d_race').sum()"
   ]
  },
  {
   "cell_type": "code",
   "execution_count": null,
   "metadata": {},
   "outputs": [
    {
     "data": {
      "text/plain": [
       "o_race\n",
       "ASIAN         13\n",
       "BLACK        507\n",
       "HISPANIC      27\n",
       "UNKNOWN        1\n",
       "WHITE       2104\n",
       "Name: d_race, dtype: int64"
      ]
     },
     "execution_count": 242,
     "metadata": {},
     "output_type": "execute_result"
    }
   ],
   "source": [
    "df4.groupby([\"o_race\"])[\"d_race\"].agg('count')\n"
   ]
  },
  {
   "cell_type": "code",
   "execution_count": null,
   "metadata": {},
   "outputs": [
    {
     "data": {
      "image/png": "[encoded data removed]",
      "text/plain": [
       "<Figure size 432x288 with 1 Axes>"
      ]
     },
     "metadata": {
      "needs_background": "light"
     },
     "output_type": "display_data"
    }
   ],
   "source": [
    "bargraph = df5.plot.bar(x = 'd_race', y = 'o_race', fontsize='9')"
   ]
  },
  {
   "cell_type": "code",
   "execution_count": null,
   "metadata": {},
   "outputs": [
    {
     "data": {
      "image/png": "[encoded data removed]",
      "text/plain": [
       "<Figure size 432x288 with 1 Axes>"
      ]
     },
     "metadata": {},
     "output_type": "display_data"
    }
   ],
   "source": [
    "# Data to plot\n",
    "labels = []\n",
    "sizes = []\n",
    "\n",
    "for x, y in df5.items():\n",
    "    labels.append(x)\n",
    "    sizes.append(y)\n",
    "\n",
    "# Plot\n",
    "plt.pie(sizes, labels=labels)\n",
    "\n",
    "plt.axis('equal')\n",
    "plt.show()"
   ]
  },
  {
   "cell_type": "code",
   "execution_count": null,
   "metadata": {},
   "outputs": [],
   "source": []
  },
  {
   "cell_type": "code",
   "execution_count": null,
   "metadata": {},
   "outputs": [
    {
     "name": "stdout",
     "output_type": "stream",
     "text": [
      "  All Topics Population Age and Sex Race and Hispanic Origin Population Characteristics Housing Families & Living Arrangements Computer and Internet Use Education Health Economy Transportation Income & Poverty Businesses Geography  \\\n",
      "0         Population Estimates, July 1 2021, (V2021)                                                                                                                                                                                     \n",
      "\n",
      "  Jefferson County, Kentucky  \n",
      "0                  777,874  \n"
     ]
    }
   ],
   "source": [
    "# url = \"https://www.census.gov/quickfacts/jeffersoncountykentucky\"\n",
    "\n",
    "# with urllib.request.urlopen(url) as i:\n",
    "#     html = i.read()\n",
    "    \n",
    "# data = pd.read_html(html)[0]\n",
    "# print(data.head(30))"
   ]
  },
  {
   "cell_type": "code",
   "execution_count": null,
   "metadata": {},
   "outputs": [],
   "source": [
    "# data.to_csv(\"lou_pop.csv\")"
   ]
  },
  {
   "cell_type": "code",
   "execution_count": null,
   "metadata": {},
   "outputs": [
    {
     "name": "stdout",
     "output_type": "stream",
     "text": [
      "['', 'All Topics Population Age and Sex Race and Hispanic Origin Population Characteristics Housing Families & Living Arrangements Computer and Internet Use Education Health Economy Transportation Income & Poverty Businesses Geography', 'Jefferson County, Kentucky']\n",
      "This is the total number of rows in the file: \n",
      " 1\n"
     ]
    }
   ],
   "source": [
    "df = pd.read_csv (r'lou_pop.csv')\n",
    "\n",
    "filename = 'lou_pop.csv'\n",
    "with open('lou_pop.csv') as f:\n",
    "    reader = csv.reader(f)\n",
    "    header_row = next(reader)\n",
    "#To display the headers to find correct vales to call min and max\n",
    "print(header_row)\n",
    "print(\"This is the total number of rows in the file:\", '\\n' ,len(df))"
   ]
  },
  {
   "cell_type": "code",
   "execution_count": null,
   "metadata": {},
   "outputs": [],
   "source": [
    "API = requests.get('https://www.census.gov/data/developers/data-sets/decennial-census.html')"
   ]
  },
  {
   "cell_type": "code",
   "execution_count": null,
   "metadata": {},
   "outputs": [],
   "source": [
    "data = API.text\n"
   ]
  },
  {
   "cell_type": "code",
   "execution_count": null,
   "metadata": {},
   "outputs": [
    {
     "ename": "JSONDecodeError",
     "evalue": "Expecting value: line 2 column 1 (char 1)",
     "output_type": "error",
     "traceback": [
      "\u001b[0;31m---------------------------------------------------------------------------\u001b[0m",
      "\u001b[0;31mJSONDecodeError\u001b[0m                           Traceback (most recent call last)",
      "\u001b[0;32m/var/folders/t5/sxblnh9s6r744cwj7y86ts1r0000gn/T/ipykernel_8287/3950860878.py\u001b[0m in \u001b[0;36m<module>\u001b[0;34m\u001b[0m\n\u001b[0;32m----> 1\u001b[0;31m \u001b[0mjson\u001b[0m \u001b[0;34m=\u001b[0m \u001b[0mjson\u001b[0m\u001b[0;34m.\u001b[0m\u001b[0mloads\u001b[0m\u001b[0;34m(\u001b[0m\u001b[0mdata\u001b[0m\u001b[0;34m)\u001b[0m\u001b[0;34m\u001b[0m\u001b[0;34m\u001b[0m\u001b[0m\n\u001b[0m\u001b[1;32m      2\u001b[0m \u001b[0;34m\u001b[0m\u001b[0m\n",
      "\u001b[0;32m/opt/anaconda3/lib/python3.9/json/__init__.py\u001b[0m in \u001b[0;36mloads\u001b[0;34m(s, cls, object_hook, parse_float, parse_int, parse_constant, object_pairs_hook, **kw)\u001b[0m\n\u001b[1;32m    344\u001b[0m             \u001b[0mparse_int\u001b[0m \u001b[0;32mis\u001b[0m \u001b[0;32mNone\u001b[0m \u001b[0;32mand\u001b[0m \u001b[0mparse_float\u001b[0m \u001b[0;32mis\u001b[0m \u001b[0;32mNone\u001b[0m \u001b[0;32mand\u001b[0m\u001b[0;34m\u001b[0m\u001b[0;34m\u001b[0m\u001b[0m\n\u001b[1;32m    345\u001b[0m             parse_constant is None and object_pairs_hook is None and not kw):\n\u001b[0;32m--> 346\u001b[0;31m         \u001b[0;32mreturn\u001b[0m \u001b[0m_default_decoder\u001b[0m\u001b[0;34m.\u001b[0m\u001b[0mdecode\u001b[0m\u001b[0;34m(\u001b[0m\u001b[0ms\u001b[0m\u001b[0;34m)\u001b[0m\u001b[0;34m\u001b[0m\u001b[0;34m\u001b[0m\u001b[0m\n\u001b[0m\u001b[1;32m    347\u001b[0m     \u001b[0;32mif\u001b[0m \u001b[0mcls\u001b[0m \u001b[0;32mis\u001b[0m \u001b[0;32mNone\u001b[0m\u001b[0;34m:\u001b[0m\u001b[0;34m\u001b[0m\u001b[0;34m\u001b[0m\u001b[0m\n\u001b[1;32m    348\u001b[0m         \u001b[0mcls\u001b[0m \u001b[0;34m=\u001b[0m \u001b[0mJSONDecoder\u001b[0m\u001b[0;34m\u001b[0m\u001b[0;34m\u001b[0m\u001b[0m\n",
      "\u001b[0;32m/opt/anaconda3/lib/python3.9/json/decoder.py\u001b[0m in \u001b[0;36mdecode\u001b[0;34m(self, s, _w)\u001b[0m\n\u001b[1;32m    335\u001b[0m \u001b[0;34m\u001b[0m\u001b[0m\n\u001b[1;32m    336\u001b[0m         \"\"\"\n\u001b[0;32m--> 337\u001b[0;31m         \u001b[0mobj\u001b[0m\u001b[0;34m,\u001b[0m \u001b[0mend\u001b[0m \u001b[0;34m=\u001b[0m \u001b[0mself\u001b[0m\u001b[0;34m.\u001b[0m\u001b[0mraw_decode\u001b[0m\u001b[0;34m(\u001b[0m\u001b[0ms\u001b[0m\u001b[0;34m,\u001b[0m \u001b[0midx\u001b[0m\u001b[0;34m=\u001b[0m\u001b[0m_w\u001b[0m\u001b[0;34m(\u001b[0m\u001b[0ms\u001b[0m\u001b[0;34m,\u001b[0m \u001b[0;36m0\u001b[0m\u001b[0;34m)\u001b[0m\u001b[0;34m.\u001b[0m\u001b[0mend\u001b[0m\u001b[0;34m(\u001b[0m\u001b[0;34m)\u001b[0m\u001b[0;34m)\u001b[0m\u001b[0;34m\u001b[0m\u001b[0;34m\u001b[0m\u001b[0m\n\u001b[0m\u001b[1;32m    338\u001b[0m         \u001b[0mend\u001b[0m \u001b[0;34m=\u001b[0m \u001b[0m_w\u001b[0m\u001b[0;34m(\u001b[0m\u001b[0ms\u001b[0m\u001b[0;34m,\u001b[0m \u001b[0mend\u001b[0m\u001b[0;34m)\u001b[0m\u001b[0;34m.\u001b[0m\u001b[0mend\u001b[0m\u001b[0;34m(\u001b[0m\u001b[0;34m)\u001b[0m\u001b[0;34m\u001b[0m\u001b[0;34m\u001b[0m\u001b[0m\n\u001b[1;32m    339\u001b[0m         \u001b[0;32mif\u001b[0m \u001b[0mend\u001b[0m \u001b[0;34m!=\u001b[0m \u001b[0mlen\u001b[0m\u001b[0;34m(\u001b[0m\u001b[0ms\u001b[0m\u001b[0;34m)\u001b[0m\u001b[0;34m:\u001b[0m\u001b[0;34m\u001b[0m\u001b[0;34m\u001b[0m\u001b[0m\n",
      "\u001b[0;32m/opt/anaconda3/lib/python3.9/json/decoder.py\u001b[0m in \u001b[0;36mraw_decode\u001b[0;34m(self, s, idx)\u001b[0m\n\u001b[1;32m    353\u001b[0m             \u001b[0mobj\u001b[0m\u001b[0;34m,\u001b[0m \u001b[0mend\u001b[0m \u001b[0;34m=\u001b[0m \u001b[0mself\u001b[0m\u001b[0;34m.\u001b[0m\u001b[0mscan_once\u001b[0m\u001b[0;34m(\u001b[0m\u001b[0ms\u001b[0m\u001b[0;34m,\u001b[0m \u001b[0midx\u001b[0m\u001b[0;34m)\u001b[0m\u001b[0;34m\u001b[0m\u001b[0;34m\u001b[0m\u001b[0m\n\u001b[1;32m    354\u001b[0m         \u001b[0;32mexcept\u001b[0m \u001b[0mStopIteration\u001b[0m \u001b[0;32mas\u001b[0m \u001b[0merr\u001b[0m\u001b[0;34m:\u001b[0m\u001b[0;34m\u001b[0m\u001b[0;34m\u001b[0m\u001b[0m\n\u001b[0;32m--> 355\u001b[0;31m             \u001b[0;32mraise\u001b[0m \u001b[0mJSONDecodeError\u001b[0m\u001b[0;34m(\u001b[0m\u001b[0;34m\"Expecting value\"\u001b[0m\u001b[0;34m,\u001b[0m \u001b[0ms\u001b[0m\u001b[0;34m,\u001b[0m \u001b[0merr\u001b[0m\u001b[0;34m.\u001b[0m\u001b[0mvalue\u001b[0m\u001b[0;34m)\u001b[0m \u001b[0;32mfrom\u001b[0m \u001b[0;32mNone\u001b[0m\u001b[0;34m\u001b[0m\u001b[0;34m\u001b[0m\u001b[0m\n\u001b[0m\u001b[1;32m    356\u001b[0m         \u001b[0;32mreturn\u001b[0m \u001b[0mobj\u001b[0m\u001b[0;34m,\u001b[0m \u001b[0mend\u001b[0m\u001b[0;34m\u001b[0m\u001b[0;34m\u001b[0m\u001b[0m\n",
      "\u001b[0;31mJSONDecodeError\u001b[0m: Expecting value: line 2 column 1 (char 1)"
     ]
    }
   ],
   "source": [
    "json = json.loads(data)\n",
    "\n"
   ]
  },
  {
   "cell_type": "code",
   "execution_count": null,
   "metadata": {},
   "outputs": [],
   "source": [
    "df6 = pd.DataFrame(json[\"data\"])\n"
   ]
  },
  {
   "cell_type": "code",
   "execution_count": null,
   "metadata": {},
   "outputs": [],
   "source": [
    "print(df6)"
   ]
  },
  {
   "cell_type": "code",
   "execution_count": null,
   "metadata": {},
   "outputs": [
    {
     "ename": "NameError",
     "evalue": "name 'df6' is not defined",
     "output_type": "error",
     "traceback": [
      "\u001b[0;31m---------------------------------------------------------------------------\u001b[0m",
      "\u001b[0;31mNameError\u001b[0m                                 Traceback (most recent call last)",
      "\u001b[0;32m/var/folders/t5/sxblnh9s6r744cwj7y86ts1r0000gn/T/ipykernel_8287/408484680.py\u001b[0m in \u001b[0;36m<module>\u001b[0;34m\u001b[0m\n\u001b[0;32m----> 1\u001b[0;31m \u001b[0mdf6\u001b[0m\u001b[0;34m.\u001b[0m\u001b[0mhead\u001b[0m\u001b[0;34m(\u001b[0m\u001b[0;34m)\u001b[0m\u001b[0;34m\u001b[0m\u001b[0;34m\u001b[0m\u001b[0m\n\u001b[0m",
      "\u001b[0;31mNameError\u001b[0m: name 'df6' is not defined"
     ]
    }
   ],
   "source": [
    "df6.head()"
   ]
  }
 ],
 "metadata": {
  "kernelspec": {
   "display_name": "Python 3.9.7 ('base')",
   "language": "python",
   "name": "python3"
  },
  "language_info": {
   "codemirror_mode": {
    "name": "ipython",
    "version": 3
   },
   "file_extension": ".py",
   "mimetype": "text/x-python",
   "name": "python",
   "nbconvert_exporter": "python",
   "pygments_lexer": "ipython3",
   "version": "3.9.7"
  },
  "orig_nbformat": 4,
  "vscode": {
   "interpreter": {
    "hash": "40d3a090f54c6569ab1632332b64b2c03c39dcf918b08424e98f38b5ae0af88f"
   }
  }
 },
 "nbformat": 4,
 "nbformat_minor": 2
}

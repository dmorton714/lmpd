{
 "cells": [
  {
   "cell_type": "code",
   "execution_count": 69,
   "metadata": {},
   "outputs": [],
   "source": [
    "import pandas as pd\n",
    "import matplotlib.pyplot as plt\n",
    "import matplotlib.dates as mdates\n",
    "import datetime\n",
    "import csv\n",
    "import numpy as np\n",
    "import urllib.request\n",
    "import requests\n",
    "import json"
   ]
  },
  {
   "cell_type": "markdown",
   "metadata": {},
   "source": [
    "This imports the police stops data sheet and shows traffic stops. It also displays the headers as well as the total number of rows in the data sheet. "
   ]
  },
  {
   "cell_type": "code",
   "execution_count": 70,
   "metadata": {},
   "outputs": [
    {
     "name": "stdout",
     "output_type": "stream",
     "text": [
      "['\\ufeffTYPE_OF_STOP', 'CITATION_CONTROL_NUMBER', 'ACTIVITY_RESULTS', 'OFFICER_GENDER', 'OFFICER_RACE', 'OFFICER_AGE_RANGE', 'ACTIVITY_DATE', 'ACTIVITY_TIME', 'ACTIVITY_LOCATION', 'ACTIVITY_DIVISION', 'ACTIVITY_BEAT', 'DRIVER_GENDER', 'DRIVER_RACE', 'DRIVER_AGE_RANGE', 'NUMBER_OF_PASSENGERS', 'WAS_VEHCILE_SEARCHED', 'REASON_FOR_SEARCH', 'ObjectId']\n",
      "This is the total number of rows in the file: \n",
      " 23543\n"
     ]
    }
   ],
   "source": [
    "df = pd.read_csv (r'stops.csv')\n",
    "\n",
    "filename = 'stops.csv'\n",
    "with open('stops.csv') as f:\n",
    "    reader = csv.reader(f)\n",
    "    header_row = next(reader)\n",
    "#To display the headers to find correct vales to call min and max\n",
    "print(header_row)\n",
    "print(\"This is the total number of rows in the file:\", '\\n' ,len(df))"
   ]
  },
  {
   "cell_type": "markdown",
   "metadata": {},
   "source": [
    "This section then changes the headers to simpler unique names that will differ the officer sheet. It also simplifies and removes columns that I didn't need for comparison. "
   ]
  },
  {
   "cell_type": "code",
   "execution_count": 71,
   "metadata": {},
   "outputs": [
    {
     "data": {
      "text/html": [
       "<div>\n",
       "<style scoped>\n",
       "    .dataframe tbody tr th:only-of-type {\n",
       "        vertical-align: middle;\n",
       "    }\n",
       "\n",
       "    .dataframe tbody tr th {\n",
       "        vertical-align: top;\n",
       "    }\n",
       "\n",
       "    .dataframe thead th {\n",
       "        text-align: right;\n",
       "    }\n",
       "</style>\n",
       "<table border=\"1\" class=\"dataframe\">\n",
       "  <thead>\n",
       "    <tr style=\"text-align: right;\">\n",
       "      <th></th>\n",
       "      <th>stop</th>\n",
       "      <th>action</th>\n",
       "      <th>o_gender</th>\n",
       "      <th>o_race</th>\n",
       "      <th>o_age</th>\n",
       "      <th>d_gender</th>\n",
       "      <th>d_race</th>\n",
       "      <th>d_age</th>\n",
       "    </tr>\n",
       "  </thead>\n",
       "  <tbody>\n",
       "    <tr>\n",
       "      <th>0</th>\n",
       "      <td>COMPLAINT/CRIMINAL VIOLATION</td>\n",
       "      <td>CITATION ISSUED</td>\n",
       "      <td>M</td>\n",
       "      <td>WHITE</td>\n",
       "      <td>21 - 30</td>\n",
       "      <td>M</td>\n",
       "      <td>BLACK</td>\n",
       "      <td>16 - 19</td>\n",
       "    </tr>\n",
       "    <tr>\n",
       "      <th>1</th>\n",
       "      <td>TRAFFIC VIOLATION</td>\n",
       "      <td>CITATION ISSUED</td>\n",
       "      <td>F</td>\n",
       "      <td>WHITE</td>\n",
       "      <td>21 - 30</td>\n",
       "      <td>M</td>\n",
       "      <td>WHITE</td>\n",
       "      <td>16 - 19</td>\n",
       "    </tr>\n",
       "    <tr>\n",
       "      <th>2</th>\n",
       "      <td>COMPLAINT/CRIMINAL VIOLATION</td>\n",
       "      <td>CITATION ISSUED</td>\n",
       "      <td>M</td>\n",
       "      <td>WHITE</td>\n",
       "      <td>21 - 30</td>\n",
       "      <td>F</td>\n",
       "      <td>BLACK</td>\n",
       "      <td>31 - 40</td>\n",
       "    </tr>\n",
       "    <tr>\n",
       "      <th>3</th>\n",
       "      <td>TRAFFIC VIOLATION</td>\n",
       "      <td>CITATION ISSUED</td>\n",
       "      <td>M</td>\n",
       "      <td>WHITE</td>\n",
       "      <td>31 - 40</td>\n",
       "      <td>M</td>\n",
       "      <td>HISPANIC</td>\n",
       "      <td>20 - 25</td>\n",
       "    </tr>\n",
       "    <tr>\n",
       "      <th>4</th>\n",
       "      <td>COMPLAINT/CRIMINAL VIOLATION</td>\n",
       "      <td>CITATION ISSUED</td>\n",
       "      <td>M</td>\n",
       "      <td>WHITE</td>\n",
       "      <td>31 - 40</td>\n",
       "      <td>M</td>\n",
       "      <td>HISPANIC</td>\n",
       "      <td>20 - 25</td>\n",
       "    </tr>\n",
       "  </tbody>\n",
       "</table>\n",
       "</div>"
      ],
      "text/plain": [
       "                           stop           action o_gender o_race    o_age  \\\n",
       "0  COMPLAINT/CRIMINAL VIOLATION  CITATION ISSUED        M  WHITE  21 - 30   \n",
       "1             TRAFFIC VIOLATION  CITATION ISSUED        F  WHITE  21 - 30   \n",
       "2  COMPLAINT/CRIMINAL VIOLATION  CITATION ISSUED        M  WHITE  21 - 30   \n",
       "3             TRAFFIC VIOLATION  CITATION ISSUED        M  WHITE  31 - 40   \n",
       "4  COMPLAINT/CRIMINAL VIOLATION  CITATION ISSUED        M  WHITE  31 - 40   \n",
       "\n",
       "  d_gender    d_race    d_age  \n",
       "0        M     BLACK  16 - 19  \n",
       "1        M     WHITE  16 - 19  \n",
       "2        F     BLACK  31 - 40  \n",
       "3        M  HISPANIC  20 - 25  \n",
       "4        M  HISPANIC  20 - 25  "
      ]
     },
     "execution_count": 71,
     "metadata": {},
     "output_type": "execute_result"
    }
   ],
   "source": [
    "df.drop(columns=['CITATION_CONTROL_NUMBER', 'ACTIVITY_DATE', 'ACTIVITY_TIME', 'ACTIVITY_LOCATION', 'ACTIVITY_DIVISION', 'ACTIVITY_BEAT', 'NUMBER_OF_PASSENGERS', 'WAS_VEHCILE_SEARCHED', 'REASON_FOR_SEARCH', 'ObjectId'], inplace=True)\n",
    "df.rename(columns={'TYPE_OF_STOP':'stop', 'ACTIVITY_RESULTS':'action', 'OFFICER_GENDER':'o_gender', 'OFFICER_RACE':\"o_race\", 'OFFICER_AGE_RANGE':\"o_age\", 'DRIVER_GENDER':'d_gender', 'DRIVER_RACE':\"d_race\", 'DRIVER_AGE_RANGE':\"d_age\"}, inplace=True)\n",
    "df.head()"
   ]
  },
  {
   "cell_type": "markdown",
   "metadata": {},
   "source": [
    "This identifies the races of the officers. "
   ]
  },
  {
   "cell_type": "code",
   "execution_count": 72,
   "metadata": {},
   "outputs": [
    {
     "data": {
      "text/plain": [
       "array(['WHITE', 'BLACK', 'HISPANIC', 'ASIAN', 'UNKNOWN'], dtype=object)"
      ]
     },
     "execution_count": 72,
     "metadata": {},
     "output_type": "execute_result"
    }
   ],
   "source": [
    "df.o_race.unique()"
   ]
  },
  {
   "cell_type": "markdown",
   "metadata": {},
   "source": [
    "This imports the LMPD employee data. I printed the header and the total numbers of rows. "
   ]
  },
  {
   "cell_type": "code",
   "execution_count": 115,
   "metadata": {},
   "outputs": [
    {
     "name": "stdout",
     "output_type": "stream",
     "text": [
      "['\\ufeffAOC_CODE', 'RANK_TITLE', 'OFFICER_SEX', 'OFFICER_RACE', 'OFFICER_AGE_RANGE', 'OFFICER_AGE', 'OFFICER_DIVISION', 'OFFICER_ASSIGNMENT', 'OFFICER_YEARS_SWORN', 'ObjectId']\n",
      "This is the total number of rows in the file: \n",
      " 1\n"
     ]
    },
    {
     "data": {
      "text/html": [
       "<div>\n",
       "<style scoped>\n",
       "    .dataframe tbody tr th:only-of-type {\n",
       "        vertical-align: middle;\n",
       "    }\n",
       "\n",
       "    .dataframe tbody tr th {\n",
       "        vertical-align: top;\n",
       "    }\n",
       "\n",
       "    .dataframe thead th {\n",
       "        text-align: right;\n",
       "    }\n",
       "</style>\n",
       "<table border=\"1\" class=\"dataframe\">\n",
       "  <thead>\n",
       "    <tr style=\"text-align: right;\">\n",
       "      <th></th>\n",
       "      <th>AOC_CODE</th>\n",
       "      <th>RANK_TITLE</th>\n",
       "      <th>OFFICER_SEX</th>\n",
       "      <th>OFFICER_RACE</th>\n",
       "      <th>OFFICER_AGE_RANGE</th>\n",
       "      <th>OFFICER_AGE</th>\n",
       "      <th>OFFICER_DIVISION</th>\n",
       "      <th>OFFICER_ASSIGNMENT</th>\n",
       "      <th>OFFICER_YEARS_SWORN</th>\n",
       "      <th>ObjectId</th>\n",
       "    </tr>\n",
       "  </thead>\n",
       "  <tbody>\n",
       "    <tr>\n",
       "      <th>0</th>\n",
       "      <td>2151</td>\n",
       "      <td>POLICE OFFICER</td>\n",
       "      <td>F</td>\n",
       "      <td>W</td>\n",
       "      <td>40 - 49</td>\n",
       "      <td>47</td>\n",
       "      <td>6TH DIVISION                                  ...</td>\n",
       "      <td>RESOURCE OFFICERS                             ...</td>\n",
       "      <td>23</td>\n",
       "      <td>1</td>\n",
       "    </tr>\n",
       "    <tr>\n",
       "      <th>1</th>\n",
       "      <td>2440</td>\n",
       "      <td>POLICE OFFICER</td>\n",
       "      <td>M</td>\n",
       "      <td>W</td>\n",
       "      <td>40 - 49</td>\n",
       "      <td>48</td>\n",
       "      <td>1ST DIVISION                                  ...</td>\n",
       "      <td>DETECTIVES                                    ...</td>\n",
       "      <td>19</td>\n",
       "      <td>2</td>\n",
       "    </tr>\n",
       "    <tr>\n",
       "      <th>2</th>\n",
       "      <td>2016</td>\n",
       "      <td>POLICE SERGEANT</td>\n",
       "      <td>M</td>\n",
       "      <td>A</td>\n",
       "      <td>40 - 49</td>\n",
       "      <td>49</td>\n",
       "      <td>TECHNICAL SERVICES                            ...</td>\n",
       "      <td>TECHNICAL SERVICES                            ...</td>\n",
       "      <td>23</td>\n",
       "      <td>3</td>\n",
       "    </tr>\n",
       "    <tr>\n",
       "      <th>3</th>\n",
       "      <td>2092</td>\n",
       "      <td>POLICE OFFICER</td>\n",
       "      <td>M</td>\n",
       "      <td>W</td>\n",
       "      <td>50 - 59</td>\n",
       "      <td>51</td>\n",
       "      <td>TRAINING                                      ...</td>\n",
       "      <td>SPECIAL PROJECTS UNIT                         ...</td>\n",
       "      <td>23</td>\n",
       "      <td>4</td>\n",
       "    </tr>\n",
       "    <tr>\n",
       "      <th>4</th>\n",
       "      <td>2208</td>\n",
       "      <td>POLICE OFFICER</td>\n",
       "      <td>M</td>\n",
       "      <td>W</td>\n",
       "      <td>OVER 60</td>\n",
       "      <td>60</td>\n",
       "      <td>FORMER EMPLOYEE                               ...</td>\n",
       "      <td>NaN</td>\n",
       "      <td>34</td>\n",
       "      <td>5</td>\n",
       "    </tr>\n",
       "  </tbody>\n",
       "</table>\n",
       "</div>"
      ],
      "text/plain": [
       "   AOC_CODE                           RANK_TITLE OFFICER_SEX OFFICER_RACE  \\\n",
       "0      2151  POLICE OFFICER                                F           W    \n",
       "1      2440  POLICE OFFICER                                M           W    \n",
       "2      2016  POLICE SERGEANT                               M           A    \n",
       "3      2092  POLICE OFFICER                                M           W    \n",
       "4      2208  POLICE OFFICER                                M           W    \n",
       "\n",
       "  OFFICER_AGE_RANGE  OFFICER_AGE  \\\n",
       "0           40 - 49           47   \n",
       "1           40 - 49           48   \n",
       "2           40 - 49           49   \n",
       "3           50 - 59           51   \n",
       "4           OVER 60           60   \n",
       "\n",
       "                                    OFFICER_DIVISION  \\\n",
       "0  6TH DIVISION                                  ...   \n",
       "1  1ST DIVISION                                  ...   \n",
       "2  TECHNICAL SERVICES                            ...   \n",
       "3  TRAINING                                      ...   \n",
       "4  FORMER EMPLOYEE                               ...   \n",
       "\n",
       "                                  OFFICER_ASSIGNMENT  OFFICER_YEARS_SWORN  \\\n",
       "0  RESOURCE OFFICERS                             ...                   23   \n",
       "1  DETECTIVES                                    ...                   19   \n",
       "2  TECHNICAL SERVICES                            ...                   23   \n",
       "3  SPECIAL PROJECTS UNIT                         ...                   23   \n",
       "4                                                NaN                   34   \n",
       "\n",
       "   ObjectId  \n",
       "0         1  \n",
       "1         2  \n",
       "2         3  \n",
       "3         4  \n",
       "4         5  "
      ]
     },
     "execution_count": 115,
     "metadata": {},
     "output_type": "execute_result"
    }
   ],
   "source": [
    "df3 = pd.read_csv (r'employee.csv')\n",
    "\n",
    "filename = 'employee.csv'\n",
    "with open('employee.csv') as f:\n",
    "    reader = csv.reader(f)\n",
    "    header_row = next(reader)\n",
    "#To display the headers to find correct vales to call min and max\n",
    "print(header_row)\n",
    "print(\"This is the total number of rows in the file:\", '\\n' ,len(df))\n",
    "df3.head()"
   ]
  },
  {
   "cell_type": "markdown",
   "metadata": {},
   "source": [
    "This replaces the vales with simple unique values. Then drops columns that we dont need. "
   ]
  },
  {
   "cell_type": "code",
   "execution_count": 116,
   "metadata": {},
   "outputs": [
    {
     "data": {
      "text/html": [
       "<div>\n",
       "<style scoped>\n",
       "    .dataframe tbody tr th:only-of-type {\n",
       "        vertical-align: middle;\n",
       "    }\n",
       "\n",
       "    .dataframe tbody tr th {\n",
       "        vertical-align: top;\n",
       "    }\n",
       "\n",
       "    .dataframe thead th {\n",
       "        text-align: right;\n",
       "    }\n",
       "</style>\n",
       "<table border=\"1\" class=\"dataframe\">\n",
       "  <thead>\n",
       "    <tr style=\"text-align: right;\">\n",
       "      <th></th>\n",
       "      <th>oh_sex</th>\n",
       "      <th>oh_race</th>\n",
       "      <th>oh_age_range</th>\n",
       "      <th>oh_age</th>\n",
       "    </tr>\n",
       "  </thead>\n",
       "  <tbody>\n",
       "    <tr>\n",
       "      <th>0</th>\n",
       "      <td>F</td>\n",
       "      <td>W</td>\n",
       "      <td>40 - 49</td>\n",
       "      <td>47</td>\n",
       "    </tr>\n",
       "    <tr>\n",
       "      <th>1</th>\n",
       "      <td>M</td>\n",
       "      <td>W</td>\n",
       "      <td>40 - 49</td>\n",
       "      <td>48</td>\n",
       "    </tr>\n",
       "    <tr>\n",
       "      <th>2</th>\n",
       "      <td>M</td>\n",
       "      <td>A</td>\n",
       "      <td>40 - 49</td>\n",
       "      <td>49</td>\n",
       "    </tr>\n",
       "    <tr>\n",
       "      <th>3</th>\n",
       "      <td>M</td>\n",
       "      <td>W</td>\n",
       "      <td>50 - 59</td>\n",
       "      <td>51</td>\n",
       "    </tr>\n",
       "    <tr>\n",
       "      <th>4</th>\n",
       "      <td>M</td>\n",
       "      <td>W</td>\n",
       "      <td>OVER 60</td>\n",
       "      <td>60</td>\n",
       "    </tr>\n",
       "  </tbody>\n",
       "</table>\n",
       "</div>"
      ],
      "text/plain": [
       "  oh_sex oh_race oh_age_range  oh_age\n",
       "0      F      W       40 - 49      47\n",
       "1      M      W       40 - 49      48\n",
       "2      M      A       40 - 49      49\n",
       "3      M      W       50 - 59      51\n",
       "4      M      W       OVER 60      60"
      ]
     },
     "execution_count": 116,
     "metadata": {},
     "output_type": "execute_result"
    }
   ],
   "source": [
    "df3.drop(columns=['AOC_CODE', 'RANK_TITLE', 'OFFICER_DIVISION', 'OFFICER_ASSIGNMENT', 'OFFICER_YEARS_SWORN', 'ObjectId'], inplace=True)\n",
    "df3.rename(columns={'OFFICER_SEX':'oh_sex', 'OFFICER_RACE':'oh_race', 'OFFICER_AGE_RANGE':'oh_age_range', 'OFFICER_AGE':\"oh_age\"}, inplace=True)\n",
    "df3.head()\n"
   ]
  },
  {
   "cell_type": "code",
   "execution_count": 117,
   "metadata": {},
   "outputs": [
    {
     "data": {
      "text/html": [
       "<div>\n",
       "<style scoped>\n",
       "    .dataframe tbody tr th:only-of-type {\n",
       "        vertical-align: middle;\n",
       "    }\n",
       "\n",
       "    .dataframe tbody tr th {\n",
       "        vertical-align: top;\n",
       "    }\n",
       "\n",
       "    .dataframe thead th {\n",
       "        text-align: right;\n",
       "    }\n",
       "</style>\n",
       "<table border=\"1\" class=\"dataframe\">\n",
       "  <thead>\n",
       "    <tr style=\"text-align: right;\">\n",
       "      <th></th>\n",
       "      <th>oh_sex</th>\n",
       "      <th>oh_race</th>\n",
       "      <th>oh_age_range</th>\n",
       "      <th>oh_age</th>\n",
       "    </tr>\n",
       "  </thead>\n",
       "  <tbody>\n",
       "    <tr>\n",
       "      <th>2463</th>\n",
       "      <td>M</td>\n",
       "      <td>W</td>\n",
       "      <td>21 - 29</td>\n",
       "      <td>21</td>\n",
       "    </tr>\n",
       "    <tr>\n",
       "      <th>2462</th>\n",
       "      <td>M</td>\n",
       "      <td>W</td>\n",
       "      <td>21 - 29</td>\n",
       "      <td>21</td>\n",
       "    </tr>\n",
       "    <tr>\n",
       "      <th>2436</th>\n",
       "      <td>M</td>\n",
       "      <td>W</td>\n",
       "      <td>21 - 29</td>\n",
       "      <td>22</td>\n",
       "    </tr>\n",
       "    <tr>\n",
       "      <th>2425</th>\n",
       "      <td>M</td>\n",
       "      <td>W</td>\n",
       "      <td>21 - 29</td>\n",
       "      <td>22</td>\n",
       "    </tr>\n",
       "    <tr>\n",
       "      <th>2459</th>\n",
       "      <td>F</td>\n",
       "      <td>W</td>\n",
       "      <td>21 - 29</td>\n",
       "      <td>22</td>\n",
       "    </tr>\n",
       "    <tr>\n",
       "      <th>2418</th>\n",
       "      <td>M</td>\n",
       "      <td>W</td>\n",
       "      <td>21 - 29</td>\n",
       "      <td>22</td>\n",
       "    </tr>\n",
       "    <tr>\n",
       "      <th>2470</th>\n",
       "      <td>M</td>\n",
       "      <td>W</td>\n",
       "      <td>21 - 29</td>\n",
       "      <td>22</td>\n",
       "    </tr>\n",
       "    <tr>\n",
       "      <th>2545</th>\n",
       "      <td>M</td>\n",
       "      <td>H</td>\n",
       "      <td>21 - 29</td>\n",
       "      <td>22</td>\n",
       "    </tr>\n",
       "    <tr>\n",
       "      <th>2435</th>\n",
       "      <td>M</td>\n",
       "      <td>B</td>\n",
       "      <td>21 - 29</td>\n",
       "      <td>22</td>\n",
       "    </tr>\n",
       "    <tr>\n",
       "      <th>2444</th>\n",
       "      <td>M</td>\n",
       "      <td>H</td>\n",
       "      <td>21 - 29</td>\n",
       "      <td>22</td>\n",
       "    </tr>\n",
       "    <tr>\n",
       "      <th>2469</th>\n",
       "      <td>M</td>\n",
       "      <td>B</td>\n",
       "      <td>21 - 29</td>\n",
       "      <td>22</td>\n",
       "    </tr>\n",
       "    <tr>\n",
       "      <th>2409</th>\n",
       "      <td>M</td>\n",
       "      <td>W</td>\n",
       "      <td>21 - 29</td>\n",
       "      <td>22</td>\n",
       "    </tr>\n",
       "    <tr>\n",
       "      <th>2433</th>\n",
       "      <td>M</td>\n",
       "      <td>H</td>\n",
       "      <td>21 - 29</td>\n",
       "      <td>22</td>\n",
       "    </tr>\n",
       "    <tr>\n",
       "      <th>2476</th>\n",
       "      <td>M</td>\n",
       "      <td>B</td>\n",
       "      <td>21 - 29</td>\n",
       "      <td>23</td>\n",
       "    </tr>\n",
       "    <tr>\n",
       "      <th>2431</th>\n",
       "      <td>M</td>\n",
       "      <td>H</td>\n",
       "      <td>21 - 29</td>\n",
       "      <td>23</td>\n",
       "    </tr>\n",
       "  </tbody>\n",
       "</table>\n",
       "</div>"
      ],
      "text/plain": [
       "     oh_sex oh_race oh_age_range  oh_age\n",
       "2463      M      W       21 - 29      21\n",
       "2462      M      W       21 - 29      21\n",
       "2436      M      W       21 - 29      22\n",
       "2425      M      W       21 - 29      22\n",
       "2459      F      W       21 - 29      22\n",
       "2418      M      W       21 - 29      22\n",
       "2470      M      W       21 - 29      22\n",
       "2545      M      H       21 - 29      22\n",
       "2435      M      B       21 - 29      22\n",
       "2444      M      H       21 - 29      22\n",
       "2469      M      B       21 - 29      22\n",
       "2409      M      W       21 - 29      22\n",
       "2433      M      H       21 - 29      22\n",
       "2476      M      B       21 - 29      23\n",
       "2431      M      H       21 - 29      23"
      ]
     },
     "execution_count": 117,
     "metadata": {},
     "output_type": "execute_result"
    }
   ],
   "source": [
    "df3.dropna(\n",
    "      axis=0,\n",
    "    how='any',\n",
    "    thresh=None,\n",
    "    subset=None,\n",
    "    inplace=True\n",
    ")\n",
    "df3.sort_values(by=['oh_age'], inplace=True)\n",
    "df3.head(15)"
   ]
  },
  {
   "cell_type": "markdown",
   "metadata": {},
   "source": [
    "This identifies the unique race values of the LMPD staff. "
   ]
  },
  {
   "cell_type": "code",
   "execution_count": 118,
   "metadata": {},
   "outputs": [
    {
     "data": {
      "text/plain": [
       "array(['W ', 'H ', 'B ', 'A ', 'U '], dtype=object)"
      ]
     },
     "execution_count": 118,
     "metadata": {},
     "output_type": "execute_result"
    }
   ],
   "source": [
    "df3.oh_race.unique()"
   ]
  },
  {
   "cell_type": "markdown",
   "metadata": {},
   "source": [
    "This identifies the average officer age and ther max and min age. "
   ]
  },
  {
   "cell_type": "code",
   "execution_count": 119,
   "metadata": {},
   "outputs": [
    {
     "name": "stdout",
     "output_type": "stream",
     "text": [
      "The mean officer age is: 45.23330832708177\n",
      "The max officer age is: 81\n",
      "The min officer age is: 21\n"
     ]
    }
   ],
   "source": [
    "print(\"The mean officer age is:\", df3['oh_age'].mean())\n",
    "print(\"The max officer age is:\", df3['oh_age'].max())\n",
    "print(\"The min officer age is:\", df3['oh_age'].min())\n"
   ]
  },
  {
   "cell_type": "markdown",
   "metadata": {},
   "source": [
    "This sections joins the 2 data sets into a single data frame. "
   ]
  },
  {
   "cell_type": "code",
   "execution_count": 78,
   "metadata": {},
   "outputs": [
    {
     "data": {
      "text/html": [
       "<div>\n",
       "<style scoped>\n",
       "    .dataframe tbody tr th:only-of-type {\n",
       "        vertical-align: middle;\n",
       "    }\n",
       "\n",
       "    .dataframe tbody tr th {\n",
       "        vertical-align: top;\n",
       "    }\n",
       "\n",
       "    .dataframe thead th {\n",
       "        text-align: right;\n",
       "    }\n",
       "</style>\n",
       "<table border=\"1\" class=\"dataframe\">\n",
       "  <thead>\n",
       "    <tr style=\"text-align: right;\">\n",
       "      <th></th>\n",
       "      <th>stop</th>\n",
       "      <th>action</th>\n",
       "      <th>o_gender</th>\n",
       "      <th>o_race</th>\n",
       "      <th>o_age</th>\n",
       "      <th>d_gender</th>\n",
       "      <th>d_race</th>\n",
       "      <th>d_age</th>\n",
       "      <th>oh_sex</th>\n",
       "      <th>oh_race</th>\n",
       "      <th>oh_age_range</th>\n",
       "      <th>oh_age</th>\n",
       "    </tr>\n",
       "  </thead>\n",
       "  <tbody>\n",
       "    <tr>\n",
       "      <th>0</th>\n",
       "      <td>COMPLAINT/CRIMINAL VIOLATION</td>\n",
       "      <td>CITATION ISSUED</td>\n",
       "      <td>M</td>\n",
       "      <td>WHITE</td>\n",
       "      <td>21 - 30</td>\n",
       "      <td>M</td>\n",
       "      <td>BLACK</td>\n",
       "      <td>16 - 19</td>\n",
       "      <td>F</td>\n",
       "      <td>W</td>\n",
       "      <td>40 - 49</td>\n",
       "      <td>47</td>\n",
       "    </tr>\n",
       "    <tr>\n",
       "      <th>1</th>\n",
       "      <td>TRAFFIC VIOLATION</td>\n",
       "      <td>CITATION ISSUED</td>\n",
       "      <td>F</td>\n",
       "      <td>WHITE</td>\n",
       "      <td>21 - 30</td>\n",
       "      <td>M</td>\n",
       "      <td>WHITE</td>\n",
       "      <td>16 - 19</td>\n",
       "      <td>M</td>\n",
       "      <td>W</td>\n",
       "      <td>40 - 49</td>\n",
       "      <td>48</td>\n",
       "    </tr>\n",
       "    <tr>\n",
       "      <th>2</th>\n",
       "      <td>COMPLAINT/CRIMINAL VIOLATION</td>\n",
       "      <td>CITATION ISSUED</td>\n",
       "      <td>M</td>\n",
       "      <td>WHITE</td>\n",
       "      <td>21 - 30</td>\n",
       "      <td>F</td>\n",
       "      <td>BLACK</td>\n",
       "      <td>31 - 40</td>\n",
       "      <td>M</td>\n",
       "      <td>A</td>\n",
       "      <td>40 - 49</td>\n",
       "      <td>49</td>\n",
       "    </tr>\n",
       "    <tr>\n",
       "      <th>3</th>\n",
       "      <td>TRAFFIC VIOLATION</td>\n",
       "      <td>CITATION ISSUED</td>\n",
       "      <td>M</td>\n",
       "      <td>WHITE</td>\n",
       "      <td>31 - 40</td>\n",
       "      <td>M</td>\n",
       "      <td>HISPANIC</td>\n",
       "      <td>20 - 25</td>\n",
       "      <td>M</td>\n",
       "      <td>W</td>\n",
       "      <td>50 - 59</td>\n",
       "      <td>51</td>\n",
       "    </tr>\n",
       "    <tr>\n",
       "      <th>4</th>\n",
       "      <td>COMPLAINT/CRIMINAL VIOLATION</td>\n",
       "      <td>CITATION ISSUED</td>\n",
       "      <td>M</td>\n",
       "      <td>WHITE</td>\n",
       "      <td>31 - 40</td>\n",
       "      <td>M</td>\n",
       "      <td>HISPANIC</td>\n",
       "      <td>20 - 25</td>\n",
       "      <td>M</td>\n",
       "      <td>W</td>\n",
       "      <td>OVER 60</td>\n",
       "      <td>60</td>\n",
       "    </tr>\n",
       "  </tbody>\n",
       "</table>\n",
       "</div>"
      ],
      "text/plain": [
       "                           stop           action o_gender o_race    o_age  \\\n",
       "0  COMPLAINT/CRIMINAL VIOLATION  CITATION ISSUED        M  WHITE  21 - 30   \n",
       "1             TRAFFIC VIOLATION  CITATION ISSUED        F  WHITE  21 - 30   \n",
       "2  COMPLAINT/CRIMINAL VIOLATION  CITATION ISSUED        M  WHITE  21 - 30   \n",
       "3             TRAFFIC VIOLATION  CITATION ISSUED        M  WHITE  31 - 40   \n",
       "4  COMPLAINT/CRIMINAL VIOLATION  CITATION ISSUED        M  WHITE  31 - 40   \n",
       "\n",
       "  d_gender    d_race    d_age oh_sex oh_race oh_age_range  oh_age  \n",
       "0        M     BLACK  16 - 19      F      W       40 - 49      47  \n",
       "1        M     WHITE  16 - 19      M      W       40 - 49      48  \n",
       "2        F     BLACK  31 - 40      M      A       40 - 49      49  \n",
       "3        M  HISPANIC  20 - 25      M      W       50 - 59      51  \n",
       "4        M  HISPANIC  20 - 25      M      W       OVER 60      60  "
      ]
     },
     "execution_count": 78,
     "metadata": {},
     "output_type": "execute_result"
    }
   ],
   "source": [
    "df4 =  pd.concat([df, df3], axis = 1, join=\"inner\")\n",
    "df4.head()\n",
    "# print(header_row)"
   ]
  },
  {
   "cell_type": "code",
   "execution_count": 79,
   "metadata": {},
   "outputs": [
    {
     "data": {
      "text/html": [
       "<div>\n",
       "<style scoped>\n",
       "    .dataframe tbody tr th:only-of-type {\n",
       "        vertical-align: middle;\n",
       "    }\n",
       "\n",
       "    .dataframe tbody tr th {\n",
       "        vertical-align: top;\n",
       "    }\n",
       "\n",
       "    .dataframe thead th {\n",
       "        text-align: right;\n",
       "    }\n",
       "</style>\n",
       "<table border=\"1\" class=\"dataframe\">\n",
       "  <thead>\n",
       "    <tr style=\"text-align: right;\">\n",
       "      <th></th>\n",
       "      <th>stop</th>\n",
       "      <th>action</th>\n",
       "      <th>o_gender</th>\n",
       "      <th>o_race</th>\n",
       "      <th>o_age</th>\n",
       "      <th>d_gender</th>\n",
       "      <th>d_race</th>\n",
       "      <th>d_age</th>\n",
       "      <th>oh_sex</th>\n",
       "      <th>oh_race</th>\n",
       "      <th>oh_age_range</th>\n",
       "      <th>oh_age</th>\n",
       "    </tr>\n",
       "  </thead>\n",
       "  <tbody>\n",
       "    <tr>\n",
       "      <th>0</th>\n",
       "      <td>COMPLAINT/CRIMINAL VIOLATION</td>\n",
       "      <td>CITATION ISSUED</td>\n",
       "      <td>M</td>\n",
       "      <td>WHITE</td>\n",
       "      <td>21 - 30</td>\n",
       "      <td>M</td>\n",
       "      <td>BLACK</td>\n",
       "      <td>16 - 19</td>\n",
       "      <td>F</td>\n",
       "      <td>W</td>\n",
       "      <td>40 - 49</td>\n",
       "      <td>47</td>\n",
       "    </tr>\n",
       "    <tr>\n",
       "      <th>1</th>\n",
       "      <td>TRAFFIC VIOLATION</td>\n",
       "      <td>CITATION ISSUED</td>\n",
       "      <td>F</td>\n",
       "      <td>WHITE</td>\n",
       "      <td>21 - 30</td>\n",
       "      <td>M</td>\n",
       "      <td>WHITE</td>\n",
       "      <td>16 - 19</td>\n",
       "      <td>M</td>\n",
       "      <td>W</td>\n",
       "      <td>40 - 49</td>\n",
       "      <td>48</td>\n",
       "    </tr>\n",
       "    <tr>\n",
       "      <th>2</th>\n",
       "      <td>COMPLAINT/CRIMINAL VIOLATION</td>\n",
       "      <td>CITATION ISSUED</td>\n",
       "      <td>M</td>\n",
       "      <td>WHITE</td>\n",
       "      <td>21 - 30</td>\n",
       "      <td>F</td>\n",
       "      <td>BLACK</td>\n",
       "      <td>31 - 40</td>\n",
       "      <td>M</td>\n",
       "      <td>A</td>\n",
       "      <td>40 - 49</td>\n",
       "      <td>49</td>\n",
       "    </tr>\n",
       "    <tr>\n",
       "      <th>3</th>\n",
       "      <td>TRAFFIC VIOLATION</td>\n",
       "      <td>CITATION ISSUED</td>\n",
       "      <td>M</td>\n",
       "      <td>WHITE</td>\n",
       "      <td>31 - 40</td>\n",
       "      <td>M</td>\n",
       "      <td>HISPANIC</td>\n",
       "      <td>20 - 25</td>\n",
       "      <td>M</td>\n",
       "      <td>W</td>\n",
       "      <td>50 - 59</td>\n",
       "      <td>51</td>\n",
       "    </tr>\n",
       "    <tr>\n",
       "      <th>4</th>\n",
       "      <td>COMPLAINT/CRIMINAL VIOLATION</td>\n",
       "      <td>CITATION ISSUED</td>\n",
       "      <td>M</td>\n",
       "      <td>WHITE</td>\n",
       "      <td>31 - 40</td>\n",
       "      <td>M</td>\n",
       "      <td>HISPANIC</td>\n",
       "      <td>20 - 25</td>\n",
       "      <td>M</td>\n",
       "      <td>W</td>\n",
       "      <td>OVER 60</td>\n",
       "      <td>60</td>\n",
       "    </tr>\n",
       "  </tbody>\n",
       "</table>\n",
       "</div>"
      ],
      "text/plain": [
       "                           stop           action o_gender o_race    o_age  \\\n",
       "0  COMPLAINT/CRIMINAL VIOLATION  CITATION ISSUED        M  WHITE  21 - 30   \n",
       "1             TRAFFIC VIOLATION  CITATION ISSUED        F  WHITE  21 - 30   \n",
       "2  COMPLAINT/CRIMINAL VIOLATION  CITATION ISSUED        M  WHITE  21 - 30   \n",
       "3             TRAFFIC VIOLATION  CITATION ISSUED        M  WHITE  31 - 40   \n",
       "4  COMPLAINT/CRIMINAL VIOLATION  CITATION ISSUED        M  WHITE  31 - 40   \n",
       "\n",
       "  d_gender    d_race    d_age oh_sex oh_race oh_age_range  oh_age  \n",
       "0        M     BLACK  16 - 19      F      W       40 - 49      47  \n",
       "1        M     WHITE  16 - 19      M      W       40 - 49      48  \n",
       "2        F     BLACK  31 - 40      M      A       40 - 49      49  \n",
       "3        M  HISPANIC  20 - 25      M      W       50 - 59      51  \n",
       "4        M  HISPANIC  20 - 25      M      W       OVER 60      60  "
      ]
     },
     "execution_count": 79,
     "metadata": {},
     "output_type": "execute_result"
    }
   ],
   "source": [
    "df4['o_gender'] = df4['o_gender'].fillna('unknown')\n",
    "df4.head()"
   ]
  },
  {
   "cell_type": "markdown",
   "metadata": {},
   "source": [
    "This section identifies unique genders in the data frame to identify any out odd data variables. "
   ]
  },
  {
   "cell_type": "code",
   "execution_count": 80,
   "metadata": {},
   "outputs": [
    {
     "data": {
      "text/plain": [
       "array(['M', 'F'], dtype=object)"
      ]
     },
     "execution_count": 80,
     "metadata": {},
     "output_type": "execute_result"
    }
   ],
   "source": [
    "df4.o_gender.unique()"
   ]
  },
  {
   "cell_type": "markdown",
   "metadata": {},
   "source": [
    "This block is to remove the blank values. "
   ]
  },
  {
   "cell_type": "code",
   "execution_count": 81,
   "metadata": {},
   "outputs": [
    {
     "data": {
      "text/plain": [
       "array(['F', 'M'], dtype=object)"
      ]
     },
     "execution_count": 81,
     "metadata": {},
     "output_type": "execute_result"
    }
   ],
   "source": [
    "df4['oh_sex'] = df4['oh_sex'].fillna(' ')\n",
    "df4.oh_sex.unique()"
   ]
  },
  {
   "cell_type": "code",
   "execution_count": 82,
   "metadata": {},
   "outputs": [
    {
     "data": {
      "text/html": [
       "<div>\n",
       "<style scoped>\n",
       "    .dataframe tbody tr th:only-of-type {\n",
       "        vertical-align: middle;\n",
       "    }\n",
       "\n",
       "    .dataframe tbody tr th {\n",
       "        vertical-align: top;\n",
       "    }\n",
       "\n",
       "    .dataframe thead th {\n",
       "        text-align: right;\n",
       "    }\n",
       "</style>\n",
       "<table border=\"1\" class=\"dataframe\">\n",
       "  <thead>\n",
       "    <tr style=\"text-align: right;\">\n",
       "      <th></th>\n",
       "      <th>stop</th>\n",
       "      <th>action</th>\n",
       "      <th>o_gender</th>\n",
       "      <th>o_race</th>\n",
       "      <th>o_age</th>\n",
       "      <th>d_gender</th>\n",
       "      <th>d_race</th>\n",
       "      <th>d_age</th>\n",
       "      <th>oh_sex</th>\n",
       "      <th>oh_race</th>\n",
       "      <th>oh_age_range</th>\n",
       "      <th>oh_age</th>\n",
       "    </tr>\n",
       "  </thead>\n",
       "  <tbody>\n",
       "    <tr>\n",
       "      <th>2463</th>\n",
       "      <td>TRAFFIC VIOLATION</td>\n",
       "      <td>CITATION ISSUED</td>\n",
       "      <td>M</td>\n",
       "      <td>WHITE</td>\n",
       "      <td>21 - 30</td>\n",
       "      <td>F</td>\n",
       "      <td>BLACK</td>\n",
       "      <td>OVER 60</td>\n",
       "      <td>M</td>\n",
       "      <td>W</td>\n",
       "      <td>21 - 29</td>\n",
       "      <td>21</td>\n",
       "    </tr>\n",
       "    <tr>\n",
       "      <th>2462</th>\n",
       "      <td>TRAFFIC VIOLATION</td>\n",
       "      <td>CITATION ISSUED</td>\n",
       "      <td>M</td>\n",
       "      <td>WHITE</td>\n",
       "      <td>21 - 30</td>\n",
       "      <td>M</td>\n",
       "      <td>BLACK</td>\n",
       "      <td>41 - 50</td>\n",
       "      <td>M</td>\n",
       "      <td>W</td>\n",
       "      <td>21 - 29</td>\n",
       "      <td>21</td>\n",
       "    </tr>\n",
       "    <tr>\n",
       "      <th>2436</th>\n",
       "      <td>TRAFFIC VIOLATION</td>\n",
       "      <td>CITATION ISSUED</td>\n",
       "      <td>M</td>\n",
       "      <td>WHITE</td>\n",
       "      <td>51 - 60</td>\n",
       "      <td>F</td>\n",
       "      <td>WHITE</td>\n",
       "      <td>51 - 60</td>\n",
       "      <td>M</td>\n",
       "      <td>W</td>\n",
       "      <td>21 - 29</td>\n",
       "      <td>22</td>\n",
       "    </tr>\n",
       "    <tr>\n",
       "      <th>2425</th>\n",
       "      <td>TRAFFIC VIOLATION</td>\n",
       "      <td>CITATION ISSUED</td>\n",
       "      <td>M</td>\n",
       "      <td>WHITE</td>\n",
       "      <td>51 - 60</td>\n",
       "      <td>M</td>\n",
       "      <td>WHITE</td>\n",
       "      <td>OVER 60</td>\n",
       "      <td>M</td>\n",
       "      <td>W</td>\n",
       "      <td>21 - 29</td>\n",
       "      <td>22</td>\n",
       "    </tr>\n",
       "    <tr>\n",
       "      <th>2459</th>\n",
       "      <td>TRAFFIC VIOLATION</td>\n",
       "      <td>CITATION ISSUED</td>\n",
       "      <td>M</td>\n",
       "      <td>WHITE</td>\n",
       "      <td>41 - 50</td>\n",
       "      <td>M</td>\n",
       "      <td>WHITE</td>\n",
       "      <td>51 - 60</td>\n",
       "      <td>F</td>\n",
       "      <td>W</td>\n",
       "      <td>21 - 29</td>\n",
       "      <td>22</td>\n",
       "    </tr>\n",
       "    <tr>\n",
       "      <th>2418</th>\n",
       "      <td>TRAFFIC VIOLATION</td>\n",
       "      <td>CITATION ISSUED</td>\n",
       "      <td>M</td>\n",
       "      <td>WHITE</td>\n",
       "      <td>51 - 60</td>\n",
       "      <td>M</td>\n",
       "      <td>WHITE</td>\n",
       "      <td>26 - 30</td>\n",
       "      <td>M</td>\n",
       "      <td>W</td>\n",
       "      <td>21 - 29</td>\n",
       "      <td>22</td>\n",
       "    </tr>\n",
       "    <tr>\n",
       "      <th>2470</th>\n",
       "      <td>TRAFFIC VIOLATION</td>\n",
       "      <td>CITATION ISSUED</td>\n",
       "      <td>M</td>\n",
       "      <td>WHITE</td>\n",
       "      <td>31 - 40</td>\n",
       "      <td>M</td>\n",
       "      <td>WHITE</td>\n",
       "      <td>51 - 60</td>\n",
       "      <td>M</td>\n",
       "      <td>W</td>\n",
       "      <td>21 - 29</td>\n",
       "      <td>22</td>\n",
       "    </tr>\n",
       "    <tr>\n",
       "      <th>2545</th>\n",
       "      <td>TRAFFIC VIOLATION</td>\n",
       "      <td>CITATION ISSUED</td>\n",
       "      <td>M</td>\n",
       "      <td>WHITE</td>\n",
       "      <td>41 - 50</td>\n",
       "      <td>M</td>\n",
       "      <td>BLACK</td>\n",
       "      <td>31 - 40</td>\n",
       "      <td>M</td>\n",
       "      <td>H</td>\n",
       "      <td>21 - 29</td>\n",
       "      <td>22</td>\n",
       "    </tr>\n",
       "    <tr>\n",
       "      <th>2435</th>\n",
       "      <td>TRAFFIC VIOLATION</td>\n",
       "      <td>CITATION ISSUED</td>\n",
       "      <td>M</td>\n",
       "      <td>WHITE</td>\n",
       "      <td>51 - 60</td>\n",
       "      <td>F</td>\n",
       "      <td>BLACK</td>\n",
       "      <td>20 - 25</td>\n",
       "      <td>M</td>\n",
       "      <td>B</td>\n",
       "      <td>21 - 29</td>\n",
       "      <td>22</td>\n",
       "    </tr>\n",
       "    <tr>\n",
       "      <th>2444</th>\n",
       "      <td>TRAFFIC VIOLATION</td>\n",
       "      <td>CITATION ISSUED</td>\n",
       "      <td>M</td>\n",
       "      <td>WHITE</td>\n",
       "      <td>51 - 60</td>\n",
       "      <td>F</td>\n",
       "      <td>WHITE</td>\n",
       "      <td>51 - 60</td>\n",
       "      <td>M</td>\n",
       "      <td>H</td>\n",
       "      <td>21 - 29</td>\n",
       "      <td>22</td>\n",
       "    </tr>\n",
       "    <tr>\n",
       "      <th>2469</th>\n",
       "      <td>TRAFFIC VIOLATION</td>\n",
       "      <td>CITATION ISSUED</td>\n",
       "      <td>M</td>\n",
       "      <td>WHITE</td>\n",
       "      <td>41 - 50</td>\n",
       "      <td>M</td>\n",
       "      <td>WHITE</td>\n",
       "      <td>20 - 25</td>\n",
       "      <td>M</td>\n",
       "      <td>B</td>\n",
       "      <td>21 - 29</td>\n",
       "      <td>22</td>\n",
       "    </tr>\n",
       "    <tr>\n",
       "      <th>2409</th>\n",
       "      <td>TRAFFIC VIOLATION</td>\n",
       "      <td>CITATION ISSUED</td>\n",
       "      <td>M</td>\n",
       "      <td>WHITE</td>\n",
       "      <td>21 - 30</td>\n",
       "      <td>M</td>\n",
       "      <td>BLACK</td>\n",
       "      <td>41 - 50</td>\n",
       "      <td>M</td>\n",
       "      <td>W</td>\n",
       "      <td>21 - 29</td>\n",
       "      <td>22</td>\n",
       "    </tr>\n",
       "    <tr>\n",
       "      <th>2433</th>\n",
       "      <td>TRAFFIC VIOLATION</td>\n",
       "      <td>CITATION ISSUED</td>\n",
       "      <td>M</td>\n",
       "      <td>WHITE</td>\n",
       "      <td>51 - 60</td>\n",
       "      <td>M</td>\n",
       "      <td>WHITE</td>\n",
       "      <td>26 - 30</td>\n",
       "      <td>M</td>\n",
       "      <td>H</td>\n",
       "      <td>21 - 29</td>\n",
       "      <td>22</td>\n",
       "    </tr>\n",
       "    <tr>\n",
       "      <th>2476</th>\n",
       "      <td>TRAFFIC VIOLATION</td>\n",
       "      <td>CITATION ISSUED</td>\n",
       "      <td>M</td>\n",
       "      <td>BLACK</td>\n",
       "      <td>21 - 30</td>\n",
       "      <td>M</td>\n",
       "      <td>BLACK</td>\n",
       "      <td>20 - 25</td>\n",
       "      <td>M</td>\n",
       "      <td>B</td>\n",
       "      <td>21 - 29</td>\n",
       "      <td>23</td>\n",
       "    </tr>\n",
       "    <tr>\n",
       "      <th>2431</th>\n",
       "      <td>TRAFFIC VIOLATION</td>\n",
       "      <td>CITATION ISSUED</td>\n",
       "      <td>M</td>\n",
       "      <td>WHITE</td>\n",
       "      <td>51 - 60</td>\n",
       "      <td>M</td>\n",
       "      <td>BLACK</td>\n",
       "      <td>31 - 40</td>\n",
       "      <td>M</td>\n",
       "      <td>H</td>\n",
       "      <td>21 - 29</td>\n",
       "      <td>23</td>\n",
       "    </tr>\n",
       "  </tbody>\n",
       "</table>\n",
       "</div>"
      ],
      "text/plain": [
       "                   stop           action o_gender o_race    o_age d_gender  \\\n",
       "2463  TRAFFIC VIOLATION  CITATION ISSUED        M  WHITE  21 - 30        F   \n",
       "2462  TRAFFIC VIOLATION  CITATION ISSUED        M  WHITE  21 - 30        M   \n",
       "2436  TRAFFIC VIOLATION  CITATION ISSUED        M  WHITE  51 - 60        F   \n",
       "2425  TRAFFIC VIOLATION  CITATION ISSUED        M  WHITE  51 - 60        M   \n",
       "2459  TRAFFIC VIOLATION  CITATION ISSUED        M  WHITE  41 - 50        M   \n",
       "2418  TRAFFIC VIOLATION  CITATION ISSUED        M  WHITE  51 - 60        M   \n",
       "2470  TRAFFIC VIOLATION  CITATION ISSUED        M  WHITE  31 - 40        M   \n",
       "2545  TRAFFIC VIOLATION  CITATION ISSUED        M  WHITE  41 - 50        M   \n",
       "2435  TRAFFIC VIOLATION  CITATION ISSUED        M  WHITE  51 - 60        F   \n",
       "2444  TRAFFIC VIOLATION  CITATION ISSUED        M  WHITE  51 - 60        F   \n",
       "2469  TRAFFIC VIOLATION  CITATION ISSUED        M  WHITE  41 - 50        M   \n",
       "2409  TRAFFIC VIOLATION  CITATION ISSUED        M  WHITE  21 - 30        M   \n",
       "2433  TRAFFIC VIOLATION  CITATION ISSUED        M  WHITE  51 - 60        M   \n",
       "2476  TRAFFIC VIOLATION  CITATION ISSUED        M  BLACK  21 - 30        M   \n",
       "2431  TRAFFIC VIOLATION  CITATION ISSUED        M  WHITE  51 - 60        M   \n",
       "\n",
       "     d_race    d_age oh_sex oh_race oh_age_range  oh_age  \n",
       "2463  BLACK  OVER 60      M      W       21 - 29      21  \n",
       "2462  BLACK  41 - 50      M      W       21 - 29      21  \n",
       "2436  WHITE  51 - 60      M      W       21 - 29      22  \n",
       "2425  WHITE  OVER 60      M      W       21 - 29      22  \n",
       "2459  WHITE  51 - 60      F      W       21 - 29      22  \n",
       "2418  WHITE  26 - 30      M      W       21 - 29      22  \n",
       "2470  WHITE  51 - 60      M      W       21 - 29      22  \n",
       "2545  BLACK  31 - 40      M      H       21 - 29      22  \n",
       "2435  BLACK  20 - 25      M      B       21 - 29      22  \n",
       "2444  WHITE  51 - 60      M      H       21 - 29      22  \n",
       "2469  WHITE  20 - 25      M      B       21 - 29      22  \n",
       "2409  BLACK  41 - 50      M      W       21 - 29      22  \n",
       "2433  WHITE  26 - 30      M      H       21 - 29      22  \n",
       "2476  BLACK  20 - 25      M      B       21 - 29      23  \n",
       "2431  BLACK  31 - 40      M      H       21 - 29      23  "
      ]
     },
     "execution_count": 82,
     "metadata": {},
     "output_type": "execute_result"
    }
   ],
   "source": [
    "# df4.groupby(by='oh_age')\n",
    "# df4.sort_values('oh_age')\n",
    "# df4.sort_values(by=['oh_age'], ascending=True)\n",
    "# sorted_df = df4.sort_values(by=['oh_age'], ascending=True)\n",
    "df4.sort_values(by=['oh_age'], inplace=True)\n",
    "# df4.replace(np. nan,0)\n",
    "# df4.replace(0, np.nan), inplace=True\n",
    "# df4.fillna(value=0, np.na, inplace=True)\n",
    "df4.oh_age.replace(to_replace = 0, value = \"NaN \", inplace=True)\n",
    "# df4.oh_sex.replace(to_replace = '' , value = \"U\", inplace=True)\n",
    "df4.head(15)"
   ]
  },
  {
   "cell_type": "code",
   "execution_count": 83,
   "metadata": {},
   "outputs": [
    {
     "name": "stdout",
     "output_type": "stream",
     "text": [
      "The mean officer age is: 45.23330832708177\n",
      "The max officer age is: 81\n",
      "The min officer age is: 21\n"
     ]
    }
   ],
   "source": [
    "print(\"The mean officer age is:\", df4['oh_age'].mean())\n",
    "print(\"The max officer age is:\", df4['oh_age'].max())\n",
    "print(\"The min officer age is:\", df4['oh_age'].min())"
   ]
  },
  {
   "cell_type": "code",
   "execution_count": 84,
   "metadata": {},
   "outputs": [
    {
     "data": {
      "text/plain": [
       "2282"
      ]
     },
     "execution_count": 84,
     "metadata": {},
     "output_type": "execute_result"
    }
   ],
   "source": [
    "sum(df4.oh_sex == 'M')"
   ]
  },
  {
   "cell_type": "code",
   "execution_count": 85,
   "metadata": {},
   "outputs": [
    {
     "data": {
      "text/plain": [
       "384"
      ]
     },
     "execution_count": 85,
     "metadata": {},
     "output_type": "execute_result"
    }
   ],
   "source": [
    "sum(df4.oh_sex == 'F')"
   ]
  },
  {
   "cell_type": "code",
   "execution_count": 86,
   "metadata": {},
   "outputs": [
    {
     "data": {
      "text/plain": [
       "1751"
      ]
     },
     "execution_count": 86,
     "metadata": {},
     "output_type": "execute_result"
    }
   ],
   "source": [
    "sum(df4.d_gender == 'M')"
   ]
  },
  {
   "cell_type": "code",
   "execution_count": 87,
   "metadata": {},
   "outputs": [
    {
     "data": {
      "text/plain": [
       "915"
      ]
     },
     "execution_count": 87,
     "metadata": {},
     "output_type": "execute_result"
    }
   ],
   "source": [
    "sum(df4.d_gender == 'F')"
   ]
  },
  {
   "cell_type": "code",
   "execution_count": 88,
   "metadata": {},
   "outputs": [
    {
     "name": "stdout",
     "output_type": "stream",
     "text": [
      "{'Driver Female': 915, 'Driver Male': 1751}\n"
     ]
    }
   ],
   "source": [
    "d_gender = dict({\n",
    "    'Driver Female' : sum(df4.d_gender == 'F'),\n",
    "    'Driver Male' : sum(df4.d_gender == 'M')\n",
    "})\n",
    "\n",
    "print(d_gender)\n"
   ]
  },
  {
   "cell_type": "code",
   "execution_count": 89,
   "metadata": {},
   "outputs": [
    {
     "name": "stdout",
     "output_type": "stream",
     "text": [
      "{'Male Officer': 2282, 'Female Offier': 384}\n"
     ]
    }
   ],
   "source": [
    "oh_sex = dict( {\n",
    "    'Male Officer' : sum(df4.oh_sex == 'M'),\n",
    "    'Female Offier' : sum(df4.oh_sex == 'F')\n",
    "})\n",
    "\n",
    "print(oh_sex)"
   ]
  },
  {
   "cell_type": "code",
   "execution_count": 90,
   "metadata": {},
   "outputs": [
    {
     "data": {
      "image/png": "[encoded data removed]",
      "text/plain": [
       "<Figure size 432x288 with 1 Axes>"
      ]
     },
     "metadata": {
      "needs_background": "light"
     },
     "output_type": "display_data"
    }
   ],
   "source": [
    "\n",
    "data = oh_sex\n",
    "names = list(data.keys())\n",
    "values = list(data.values())\n",
    "\n",
    "plt.bar(range(len(data)), values, tick_label=names)\n",
    "plt.show()"
   ]
  },
  {
   "cell_type": "code",
   "execution_count": 91,
   "metadata": {},
   "outputs": [
    {
     "data": {
      "image/png": "[encoded data removed]",
      "text/plain": [
       "<Figure size 432x288 with 1 Axes>"
      ]
     },
     "metadata": {
      "needs_background": "light"
     },
     "output_type": "display_data"
    }
   ],
   "source": [
    "data = d_gender\n",
    "names = list(data.keys())\n",
    "values = list(data.values())\n",
    "\n",
    "plt.bar(range(len(data)), values, tick_label=names)\n",
    "plt.show()"
   ]
  },
  {
   "cell_type": "code",
   "execution_count": 92,
   "metadata": {},
   "outputs": [
    {
     "data": {
      "image/png": "[encoded data removed]",
      "text/plain": [
       "<Figure size 432x288 with 1 Axes>"
      ]
     },
     "metadata": {},
     "output_type": "display_data"
    }
   ],
   "source": [
    "# Data to plot\n",
    "labels = []\n",
    "sizes = []\n",
    "\n",
    "for x, y in oh_sex.items():\n",
    "    labels.append(x)\n",
    "    sizes.append(y)\n",
    "\n",
    "# Plot\n",
    "plt.pie(sizes, labels=labels)\n",
    "\n",
    "plt.axis('equal')\n",
    "plt.pie(sizes, labels=labels, autopct='%1.0f%%')\n",
    "plt.show()"
   ]
  },
  {
   "cell_type": "code",
   "execution_count": 93,
   "metadata": {},
   "outputs": [
    {
     "data": {
      "image/png": "[encoded data removed]",
      "text/plain": [
       "<Figure size 432x288 with 1 Axes>"
      ]
     },
     "metadata": {},
     "output_type": "display_data"
    }
   ],
   "source": [
    "# Data to plot\n",
    "labels = []\n",
    "sizes = []\n",
    "\n",
    "for x, y in d_gender.items():\n",
    "    labels.append(x)\n",
    "    sizes.append(y)\n",
    "\n",
    "# Plot\n",
    "plt.pie(sizes, labels=labels)\n",
    "\n",
    "plt.axis('equal')\n",
    "plt.pie(sizes, labels=labels, autopct='%1.0f%%')\n",
    "plt.show()"
   ]
  },
  {
   "cell_type": "code",
   "execution_count": 94,
   "metadata": {},
   "outputs": [
    {
     "name": "stdout",
     "output_type": "stream",
     "text": [
      "o_race\n",
      "ASIAN         13\n",
      "BLACK        523\n",
      "HISPANIC      27\n",
      "UNKNOWN        1\n",
      "WHITE       2102\n",
      "Name: o_race, dtype: int64\n",
      "d_race\n",
      "ASIAN         13\n",
      "BLACK        970\n",
      "HISPANIC     166\n",
      "WHITE       1492\n",
      "Name: d_race, dtype: int64\n"
     ]
    }
   ],
   "source": [
    "oraces =  df4.groupby('o_race')['o_race'].count()\n",
    "draces =  df4.groupby('d_race')['d_race'].count()\n",
    "print(oraces)\n",
    "print(draces)"
   ]
  },
  {
   "cell_type": "code",
   "execution_count": 95,
   "metadata": {},
   "outputs": [],
   "source": [
    "# ww =  df4.groupby('o_race')['d_race' == 'o_race'].count()"
   ]
  },
  {
   "cell_type": "code",
   "execution_count": 96,
   "metadata": {},
   "outputs": [
    {
     "name": "stdout",
     "output_type": "stream",
     "text": [
      "o_race    d_race  \n",
      "ASIAN     BLACK          6\n",
      "          WHITE          6\n",
      "          HISPANIC       1\n",
      "BLACK     WHITE        279\n",
      "          BLACK        192\n",
      "          HISPANIC      34\n",
      "          ASIAN          2\n",
      "HISPANIC  WHITE         18\n",
      "          BLACK          6\n",
      "          HISPANIC       3\n",
      "UNKNOWN   BLACK          1\n",
      "WHITE     WHITE       1189\n",
      "          BLACK        765\n",
      "          HISPANIC     128\n",
      "          ASIAN         11\n",
      "Name: d_race, dtype: int64\n"
     ]
    }
   ],
   "source": [
    "df5 = df4.groupby([\"o_race\"])[\"d_race\"].value_counts()\n",
    "\n",
    "print(df5)"
   ]
  },
  {
   "cell_type": "code",
   "execution_count": 97,
   "metadata": {},
   "outputs": [
    {
     "name": "stdout",
     "output_type": "stream",
     "text": [
      "stop                          d_race  \n",
      "COMPLAINT/CRIMINAL VIOLATION  WHITE         46\n",
      "                              BLACK         34\n",
      "                              HISPANIC       6\n",
      "COMPLIANCE STOP (KVE ONLY)    BLACK         10\n",
      "                              WHITE          3\n",
      "TRAFFIC VIOLATION             WHITE       1443\n",
      "                              BLACK        926\n",
      "                              HISPANIC     160\n",
      "                              ASIAN         13\n",
      "Name: d_race, dtype: int64\n"
     ]
    }
   ],
   "source": [
    "df7 = df4.groupby([\"stop\"])[\"d_race\"].value_counts()\n",
    "print(df7)"
   ]
  },
  {
   "cell_type": "code",
   "execution_count": 98,
   "metadata": {},
   "outputs": [
    {
     "data": {
      "text/plain": [
       "o_race\n",
       "ASIAN         13\n",
       "BLACK        507\n",
       "HISPANIC      27\n",
       "UNKNOWN        1\n",
       "WHITE       2093\n",
       "Name: d_race, dtype: int64"
      ]
     },
     "execution_count": 98,
     "metadata": {},
     "output_type": "execute_result"
    }
   ],
   "source": [
    "df4.groupby([\"o_race\"])[\"d_race\"].agg('count')\n"
   ]
  },
  {
   "cell_type": "code",
   "execution_count": 99,
   "metadata": {},
   "outputs": [
    {
     "name": "stdout",
     "output_type": "stream",
     "text": [
      "2652\n",
      "2641\n",
      "2641\n"
     ]
    },
    {
     "data": {
      "text/html": [
       "<div>\n",
       "<style scoped>\n",
       "    .dataframe tbody tr th:only-of-type {\n",
       "        vertical-align: middle;\n",
       "    }\n",
       "\n",
       "    .dataframe tbody tr th {\n",
       "        vertical-align: top;\n",
       "    }\n",
       "\n",
       "    .dataframe thead th {\n",
       "        text-align: right;\n",
       "    }\n",
       "</style>\n",
       "<table border=\"1\" class=\"dataframe\">\n",
       "  <thead>\n",
       "    <tr style=\"text-align: right;\">\n",
       "      <th></th>\n",
       "      <th>Race</th>\n",
       "      <th>Officer Race %</th>\n",
       "      <th>Asain Office Citation %</th>\n",
       "      <th>Black Officer Citation %</th>\n",
       "      <th>Hispanic Officer Citation %</th>\n",
       "      <th>White Officer Citation %</th>\n",
       "      <th>Louisville population %</th>\n",
       "      <th>Total Citation by race %</th>\n",
       "    </tr>\n",
       "  </thead>\n",
       "  <tbody>\n",
       "    <tr>\n",
       "      <th>0</th>\n",
       "      <td>White</td>\n",
       "      <td>79.336350</td>\n",
       "      <td>0.227187</td>\n",
       "      <td>10.564180</td>\n",
       "      <td>0.681560</td>\n",
       "      <td>45.020825</td>\n",
       "      <td>62.9</td>\n",
       "      <td>56.493752</td>\n",
       "    </tr>\n",
       "    <tr>\n",
       "      <th>1</th>\n",
       "      <td>Asain</td>\n",
       "      <td>0.490196</td>\n",
       "      <td>0.000000</td>\n",
       "      <td>0.075729</td>\n",
       "      <td>0.000000</td>\n",
       "      <td>0.416509</td>\n",
       "      <td>1.4</td>\n",
       "      <td>0.492238</td>\n",
       "    </tr>\n",
       "    <tr>\n",
       "      <th>2</th>\n",
       "      <td>Black</td>\n",
       "      <td>19.117647</td>\n",
       "      <td>0.227187</td>\n",
       "      <td>7.269973</td>\n",
       "      <td>0.227187</td>\n",
       "      <td>28.966301</td>\n",
       "      <td>33.0</td>\n",
       "      <td>36.728512</td>\n",
       "    </tr>\n",
       "    <tr>\n",
       "      <th>3</th>\n",
       "      <td>Hispanic</td>\n",
       "      <td>1.018100</td>\n",
       "      <td>0.037864</td>\n",
       "      <td>1.287391</td>\n",
       "      <td>0.113593</td>\n",
       "      <td>4.846649</td>\n",
       "      <td>1.9</td>\n",
       "      <td>6.285498</td>\n",
       "    </tr>\n",
       "  </tbody>\n",
       "</table>\n",
       "</div>"
      ],
      "text/plain": [
       "       Race  Officer Race %  Asain Office Citation %  \\\n",
       "0     White       79.336350                 0.227187   \n",
       "1     Asain        0.490196                 0.000000   \n",
       "2     Black       19.117647                 0.227187   \n",
       "3  Hispanic        1.018100                 0.037864   \n",
       "\n",
       "   Black Officer Citation %  Hispanic Officer Citation %  \\\n",
       "0                 10.564180                     0.681560   \n",
       "1                  0.075729                     0.000000   \n",
       "2                  7.269973                     0.227187   \n",
       "3                  1.287391                     0.113593   \n",
       "\n",
       "   White Officer Citation %  Louisville population %  Total Citation by race %  \n",
       "0                 45.020825                     62.9                 56.493752  \n",
       "1                  0.416509                      1.4                  0.492238  \n",
       "2                 28.966301                     33.0                 36.728512  \n",
       "3                  4.846649                      1.9                  6.285498  "
      ]
     },
     "execution_count": 99,
     "metadata": {},
     "output_type": "execute_result"
    }
   ],
   "source": [
    "print(13+507+27+1+2104)\n",
    "\n",
    "# White oficer data \n",
    "\n",
    "w=(2104/2652)\n",
    "a=(13/2652)\n",
    "b=(507/2652)\n",
    "h=(27/2652)\n",
    "\n",
    "w = w*100\n",
    "a = a*100\n",
    "b = b*100\n",
    "h = h*100\n",
    "print(6+6+1+279+192+34+2+18+6+3+1+1189+765+128+11)\n",
    "\n",
    "# Asain officer data \n",
    "\n",
    "aw = (6/2641)\n",
    "aa = (0/2641)\n",
    "ab = (6/2641)\n",
    "ah = (1/2641)\n",
    "\n",
    "aw = aw*100\n",
    "aa = aa*100\n",
    "ab = ab*100\n",
    "ah = ah*100\n",
    "\n",
    "# black officer data \n",
    "\n",
    "bw = (279/2641)\n",
    "ba = (2/2641)\n",
    "bb = (192/2641)\n",
    "bh = (34/2641)\n",
    "\n",
    "bw = bw*100\n",
    "ba = ba*100\n",
    "bb = bb*100\n",
    "bh = bh*100\n",
    "\n",
    "# Hispanic officer data \n",
    "\n",
    "hw = (18/2641)\n",
    "ha = (0/2641)\n",
    "hb = (6/2641)\n",
    "hh = (3/2641)\n",
    "\n",
    "hw = hw*100\n",
    "ha = ha*100\n",
    "hb = hb*100\n",
    "hh = hh*100\n",
    "\n",
    "\n",
    "# White officer data \n",
    "\n",
    "ww = (1189/2641)\n",
    "wa = (11/2641)\n",
    "wb = (765/2641)\n",
    "wh = (128/2641)\n",
    "\n",
    "ww = ww*100\n",
    "wa = wa*100\n",
    "wb = wb*100\n",
    "wh = wh*100\n",
    "\n",
    "# Police total citations\n",
    "\n",
    "print(1492+13+970+166+0)\n",
    "\n",
    "tw = (1492/2641)\n",
    "ta = (13/2641)\n",
    "tb = (970/2641)\n",
    "th = (166/2641)\n",
    "\n",
    "tw = tw*100\n",
    "ta = ta*100\n",
    "tb = tb*100\n",
    "th = th*100\n",
    "\n",
    "\n",
    "data = { 'Race' : ['White', 'Asain', 'Black', 'Hispanic'],\n",
    "'Officer Race %' : [w, a, b, h],\n",
    "'Asain Office Citation %' : [aw, aa, ab, ah], \n",
    "'Black Officer Citation %' : [bw, ba, bb, bh],\n",
    "'Hispanic Officer Citation %' : [hw, ha, hb, hh],\n",
    "'White Officer Citation %' : [ww, wa, wb, wh],\n",
    "'Louisville population %' : [62.9, 1.4, 33, 1.9],\n",
    "'Total Citation by race %' : [tw, ta, tb, th]}\n",
    "  \n",
    "# Create the pandas DataFrame with column name is provided explicitly\n",
    "df99 = pd.DataFrame(data)\n",
    "# print dataframe.\n",
    "df99\n"
   ]
  },
  {
   "cell_type": "code",
   "execution_count": 100,
   "metadata": {},
   "outputs": [
    {
     "data": {
      "image/png": "[encoded data removed]",
      "text/plain": [
       "<Figure size 432x288 with 1 Axes>"
      ]
     },
     "metadata": {
      "needs_background": "light"
     },
     "output_type": "display_data"
    }
   ],
   "source": [
    "# x axis values \n",
    "x = ['White', 'Asain', 'Black', 'Hispanic'] \n",
    "\n",
    "# corresponding y axis values \n",
    "ys = {\n",
    "    'Officer Race %' : [w, a, b, h],\n",
    "    'Asain Officer Citation %' : [aw, aa, ab, ah], \n",
    "    'Black Officer Citation %' : [bw, ba, bb, bh],\n",
    "    'Hispanic Officer Citation %' : [hw, ha, hb, hh],\n",
    "    'White Officer Citation %' : [ww, wa, wb, wh],\n",
    "    'Louisville population %' : [62.9, 1.4, 33, 1.9]\n",
    "} \n",
    " \n",
    "\n",
    "for y in ys:\n",
    "  plt.plot(x, ys[y], label=y)\n",
    "  # print('For Month: ', y, \"   Values: \", ys[y])\n",
    "\n",
    "plt.legend()\n",
    "\n",
    "    \n",
    "# naming the x axis \n",
    "plt.xlabel('Races')\n",
    "\n",
    "# naming the y axis \n",
    "plt.ylabel('percent') \n",
    "   \n",
    "# giving a title to my graph \n",
    "plt.title('officer race citations compared to the Louisville population') \n",
    "    \n",
    "# function to show the plot \n",
    "plt.show() "
   ]
  },
  {
   "cell_type": "code",
   "execution_count": 101,
   "metadata": {},
   "outputs": [
    {
     "data": {
      "image/png": "[encoded data removed]",
      "text/plain": [
       "<Figure size 432x288 with 1 Axes>"
      ]
     },
     "metadata": {
      "needs_background": "light"
     },
     "output_type": "display_data"
    }
   ],
   "source": [
    "# x axis values \n",
    "x = ['White', 'Asain', 'Black', 'Hispanic'] \n",
    "\n",
    "# corresponding y axis values \n",
    "ys = {\n",
    "    'Officer Race %' : [w, a, b, h],\n",
    "    'Louisville population %' : [62.9, 1.4, 33, 1.9]\n",
    "} \n",
    " \n",
    "\n",
    "for y in ys:\n",
    "  plt.plot(x, ys[y], label=y)\n",
    "  # print('For Month: ', y, \"   Values: \", ys[y])\n",
    "\n",
    "plt.legend()\n",
    "\n",
    "    \n",
    "# naming the x axis \n",
    "plt.xlabel('Races')\n",
    "\n",
    "# naming the y axis \n",
    "plt.ylabel('percent') \n",
    "   \n",
    "# giving a title to my graph \n",
    "plt.title('officer race citations compared to the Louisville population') \n",
    "    \n",
    "# function to show the plot \n",
    "plt.show() "
   ]
  },
  {
   "cell_type": "code",
   "execution_count": 102,
   "metadata": {},
   "outputs": [
    {
     "data": {
      "image/png": "[encoded data removed]",
      "text/plain": [
       "<Figure size 432x288 with 1 Axes>"
      ]
     },
     "metadata": {
      "needs_background": "light"
     },
     "output_type": "display_data"
    }
   ],
   "source": [
    "# x axis values \n",
    "x = ['White', 'Asain', 'Black', 'Hispanic'] \n",
    "\n",
    "# corresponding y axis values \n",
    "ys = {\n",
    "    'Officer Race %' : [w, a, b, h],\n",
    "    'Louisville population %' : [62.9, 1.4, 33, 1.9],\n",
    "    'Total Citations by race %' : [tw, ta, tb, th]\n",
    "} \n",
    " \n",
    "\n",
    "for y in ys:\n",
    "  plt.plot(x, ys[y], label=y)\n",
    "  # print('For Month: ', y, \"   Values: \", ys[y])\n",
    "\n",
    "plt.legend()\n",
    "\n",
    "    \n",
    "# naming the x axis \n",
    "plt.xlabel('Races')\n",
    "\n",
    "# naming the y axis \n",
    "plt.ylabel('percent') \n",
    "   \n",
    "# giving a title to my graph \n",
    "plt.title('officer race citations compared to the Louisville population') \n",
    "    \n",
    "# function to show the plot \n",
    "plt.show() "
   ]
  },
  {
   "cell_type": "code",
   "execution_count": 122,
   "metadata": {},
   "outputs": [
    {
     "data": {
      "text/html": [
       "<div>\n",
       "<style scoped>\n",
       "    .dataframe tbody tr th:only-of-type {\n",
       "        vertical-align: middle;\n",
       "    }\n",
       "\n",
       "    .dataframe tbody tr th {\n",
       "        vertical-align: top;\n",
       "    }\n",
       "\n",
       "    .dataframe thead th {\n",
       "        text-align: right;\n",
       "    }\n",
       "</style>\n",
       "<table border=\"1\" class=\"dataframe\">\n",
       "  <thead>\n",
       "    <tr style=\"text-align: right;\">\n",
       "      <th></th>\n",
       "      <th>Race</th>\n",
       "      <th>Officer Race %</th>\n",
       "      <th>Asain Office Citation %</th>\n",
       "      <th>Black Officer Citation %</th>\n",
       "      <th>Hispanic Officer Citation %</th>\n",
       "      <th>White Officer Citation %</th>\n",
       "      <th>Louisville population %</th>\n",
       "      <th>Total Citation by race %</th>\n",
       "    </tr>\n",
       "  </thead>\n",
       "  <tbody>\n",
       "    <tr>\n",
       "      <th>0</th>\n",
       "      <td>White</td>\n",
       "      <td>79.336350</td>\n",
       "      <td>46.153846</td>\n",
       "      <td>55.029586</td>\n",
       "      <td>66.666667</td>\n",
       "      <td>56.808409</td>\n",
       "      <td>62.9</td>\n",
       "      <td>56.493752</td>\n",
       "    </tr>\n",
       "    <tr>\n",
       "      <th>1</th>\n",
       "      <td>Asain</td>\n",
       "      <td>0.490196</td>\n",
       "      <td>0.000000</td>\n",
       "      <td>0.394477</td>\n",
       "      <td>0.000000</td>\n",
       "      <td>0.525561</td>\n",
       "      <td>1.4</td>\n",
       "      <td>0.492238</td>\n",
       "    </tr>\n",
       "    <tr>\n",
       "      <th>2</th>\n",
       "      <td>Black</td>\n",
       "      <td>19.117647</td>\n",
       "      <td>46.153846</td>\n",
       "      <td>37.869822</td>\n",
       "      <td>22.222222</td>\n",
       "      <td>36.550406</td>\n",
       "      <td>33.0</td>\n",
       "      <td>36.728512</td>\n",
       "    </tr>\n",
       "    <tr>\n",
       "      <th>3</th>\n",
       "      <td>Hispanic</td>\n",
       "      <td>1.018100</td>\n",
       "      <td>7.692308</td>\n",
       "      <td>6.706114</td>\n",
       "      <td>11.111111</td>\n",
       "      <td>6.115624</td>\n",
       "      <td>1.9</td>\n",
       "      <td>6.285498</td>\n",
       "    </tr>\n",
       "  </tbody>\n",
       "</table>\n",
       "</div>"
      ],
      "text/plain": [
       "       Race  Officer Race %  Asain Office Citation %  \\\n",
       "0     White       79.336350                46.153846   \n",
       "1     Asain        0.490196                 0.000000   \n",
       "2     Black       19.117647                46.153846   \n",
       "3  Hispanic        1.018100                 7.692308   \n",
       "\n",
       "   Black Officer Citation %  Hispanic Officer Citation %  \\\n",
       "0                 55.029586                    66.666667   \n",
       "1                  0.394477                     0.000000   \n",
       "2                 37.869822                    22.222222   \n",
       "3                  6.706114                    11.111111   \n",
       "\n",
       "   White Officer Citation %  Louisville population %  Total Citation by race %  \n",
       "0                 56.808409                     62.9                 56.493752  \n",
       "1                  0.525561                      1.4                  0.492238  \n",
       "2                 36.550406                     33.0                 36.728512  \n",
       "3                  6.115624                      1.9                  6.285498  "
      ]
     },
     "execution_count": 122,
     "metadata": {},
     "output_type": "execute_result"
    }
   ],
   "source": [
    "# sub White oficer data \n",
    "\n",
    "tw=(2104/2652)\n",
    "ta=(13/2652)\n",
    "tb=(507/2652)\n",
    "th=(27/2652)\n",
    "\n",
    "tw = tw*100\n",
    "ta = ta*100\n",
    "tb = tb*100\n",
    "th = th*100\n",
    "# print(6+6+1+279+192+34+2+18+6+3+1+1189+765+128+11)\n",
    "\n",
    "# Asain officer data \n",
    "\n",
    "taw = (6/13)\n",
    "taa = (0/13)\n",
    "tab = (6/13)\n",
    "tah = (1/13)\n",
    "\n",
    "taw = taw*100\n",
    "taa = taa*100\n",
    "tab = tab*100\n",
    "tah = tah*100\n",
    "\n",
    "# black officer data \n",
    "\n",
    "tbw = (279/507)\n",
    "tba = (2/507)\n",
    "tbb = (192/507)\n",
    "tbh = (34/507)\n",
    "\n",
    "tbw = tbw*100\n",
    "tba = tba*100\n",
    "tbb = tbb*100\n",
    "tbh = tbh*100\n",
    "\n",
    "# Hispanic officer data \n",
    "\n",
    "thw = (18/27)\n",
    "tha = (0/27)\n",
    "thb = (6/27)\n",
    "thh = (3/27)\n",
    "\n",
    "thw = thw*100\n",
    "tha = tha*100\n",
    "thb = thb*100\n",
    "thh = thh*100\n",
    "\n",
    "\n",
    "# White officer data \n",
    "\n",
    "tww = (1189/2093)\n",
    "twa = (11/2093)\n",
    "twb = (765/2093)\n",
    "twh = (128/2093)\n",
    "\n",
    "tww = tww*100\n",
    "twa = twa*100\n",
    "twb = twb*100\n",
    "twh = twh*100\n",
    "\n",
    "# Police total citations\n",
    "\n",
    "# print(1492+13+970+166+0)\n",
    "\n",
    "ttw = (1492/2641)\n",
    "tta = (13/2641)\n",
    "ttb = (970/2641)\n",
    "tth = (166/2641)\n",
    "\n",
    "ttw = ttw*100\n",
    "tta = tta*100\n",
    "ttb = ttb*100\n",
    "tth = tth*100\n",
    "\n",
    "\n",
    "data2 = { 'Race' : ['White', 'Asain', 'Black', 'Hispanic'],\n",
    "'Officer Race %' : [tw, ta, tb, th],\n",
    "'Asain Office Citation %' : [taw, taa, tab, tah], \n",
    "'Black Officer Citation %' : [tbw, tba, tbb, tbh],\n",
    "'Hispanic Officer Citation %' : [thw, tha, thb, thh],\n",
    "'White Officer Citation %' : [tww, twa, twb, twh],\n",
    "'Louisville population %' : [62.9, 1.4, 33, 1.9],\n",
    "'Total Citation by race %' : [ttw, tta, ttb, tth]}\n",
    "  \n",
    "# Create the pandas DataFrame with column name is provided explicitly\n",
    "df98 = pd.DataFrame(data2)\n",
    "# print dataframe.\n",
    "df98"
   ]
  },
  {
   "cell_type": "code",
   "execution_count": 135,
   "metadata": {},
   "outputs": [
    {
     "data": {
      "image/png": "[encoded data removed]",
      "text/plain": [
       "<Figure size 1080x576 with 1 Axes>"
      ]
     },
     "metadata": {
      "needs_background": "light"
     },
     "output_type": "display_data"
    }
   ],
   "source": [
    "# x axis values \n",
    "x = ['White', 'Asain', 'Black', 'Hispanic'] \n",
    "\n",
    "# corresponding y axis values \n",
    "ys = {\n",
    "    'LMPD staff %' : [tw, ta, tb, th],\n",
    "    'Asain Officer Citation %' : [taw, taa, tab, tah], \n",
    "    'Black Officer Citation %' : [tbw, tba, tbb, tbh],\n",
    "    'Hispanic Officer Citation %' : [thw, tha, thb, thh],\n",
    "    'White Officer Citation %' : [tww, twa, twb, twh],\n",
    "    'Louisville population %' : [62.9, 1.4, 33, 1.9]\n",
    "} \n",
    " \n",
    "\n",
    "for y in ys:\n",
    "  plt.plot(x, ys[y], label=y)\n",
    "  # print('For Month: ', y, \"   Values: \", ys[y])\n",
    "\n",
    "plt.legend()\n",
    "\n",
    "    \n",
    "# naming the x axis \n",
    "plt.xlabel('Races')\n",
    "\n",
    "# naming the y axis \n",
    "plt.ylabel('percent') \n",
    "   \n",
    "# giving a title to my graph \n",
    "plt.title('LMPD Citations by Race') \n",
    "\n",
    "plt.rcParams[\"figure.figsize\"] = (15,8)\n",
    "\n",
    "# function to show the plot \n",
    "plt.show() "
   ]
  },
  {
   "cell_type": "code",
   "execution_count": 103,
   "metadata": {},
   "outputs": [
    {
     "data": {
      "image/png": "[encoded data removed]",
      "text/plain": [
       "<Figure size 432x288 with 1 Axes>"
      ]
     },
     "metadata": {
      "needs_background": "light"
     },
     "output_type": "display_data"
    }
   ],
   "source": [
    "bargraph = df5.plot.bar(x = 'd_race', y = 'o_race', fontsize='12')"
   ]
  },
  {
   "cell_type": "code",
   "execution_count": 104,
   "metadata": {},
   "outputs": [
    {
     "data": {
      "image/png": "[encoded data removed]",
      "text/plain": [
       "<Figure size 432x288 with 1 Axes>"
      ]
     },
     "metadata": {},
     "output_type": "display_data"
    }
   ],
   "source": [
    "# Data to plot\n",
    "labels = []\n",
    "sizes = []\n",
    "\n",
    "for x, y in df5.items():\n",
    "    labels.append(x)\n",
    "    sizes.append(y)\n",
    "\n",
    "# Plot\n",
    "plt.pie(sizes, labels=labels)\n",
    "\n",
    "plt.axis('equal')\n",
    "plt.pie(sizes, labels=labels, autopct='%1.0f%%')\n",
    "plt.show()"
   ]
  },
  {
   "cell_type": "code",
   "execution_count": 105,
   "metadata": {},
   "outputs": [
    {
     "name": "stdout",
     "output_type": "stream",
     "text": [
      "o_race    o_race  \n",
      "ASIAN     ASIAN         13\n",
      "BLACK     BLACK        523\n",
      "HISPANIC  HISPANIC      27\n",
      "UNKNOWN   UNKNOWN        1\n",
      "WHITE     WHITE       2102\n",
      "Name: o_race, dtype: int64\n"
     ]
    }
   ],
   "source": [
    "df9 = df4.groupby([\"o_race\"])[\"o_race\"].value_counts()\n",
    "\n",
    "print(df9)"
   ]
  },
  {
   "cell_type": "code",
   "execution_count": 106,
   "metadata": {},
   "outputs": [
    {
     "data": {
      "image/png": "[encoded data removed]",
      "text/plain": [
       "<Figure size 432x288 with 1 Axes>"
      ]
     },
     "metadata": {
      "needs_background": "light"
     },
     "output_type": "display_data"
    }
   ],
   "source": [
    "bargraph = df9.plot.bar(x = '', y = 'o_race', fontsize='12')\n"
   ]
  },
  {
   "cell_type": "code",
   "execution_count": 107,
   "metadata": {},
   "outputs": [],
   "source": [
    "# url = \"https://www.census.gov/quickfacts/jeffersoncountykentucky\"\n",
    "\n",
    "# with urllib.request.urlopen(url) as i:\n",
    "#     html = i.read()\n",
    "    \n",
    "# data = pd.read_html(html)[0]\n",
    "# print(data.head(30))"
   ]
  },
  {
   "cell_type": "code",
   "execution_count": 108,
   "metadata": {},
   "outputs": [],
   "source": [
    "# data.to_csv(\"lou_pop.csv\")"
   ]
  },
  {
   "cell_type": "code",
   "execution_count": 109,
   "metadata": {},
   "outputs": [
    {
     "name": "stdout",
     "output_type": "stream",
     "text": [
      "['', 'All Topics Population Age and Sex Race and Hispanic Origin Population Characteristics Housing Families & Living Arrangements Computer and Internet Use Education Health Economy Transportation Income & Poverty Businesses Geography', 'Jefferson County, Kentucky']\n",
      "This is the total number of rows in the file: \n",
      " 1\n"
     ]
    }
   ],
   "source": [
    "df = pd.read_csv (r'lou_pop.csv')\n",
    "\n",
    "filename = 'lou_pop.csv'\n",
    "with open('lou_pop.csv') as f:\n",
    "    reader = csv.reader(f)\n",
    "    header_row = next(reader)\n",
    "#To display the headers to find correct vales to call min and max\n",
    "print(header_row)\n",
    "print(\"This is the total number of rows in the file:\", '\\n' ,len(df))"
   ]
  },
  {
   "cell_type": "code",
   "execution_count": 110,
   "metadata": {},
   "outputs": [],
   "source": [
    "API = requests.get('https://www.census.gov/data/developers/data-sets/decennial-census.html')"
   ]
  },
  {
   "cell_type": "code",
   "execution_count": 111,
   "metadata": {},
   "outputs": [],
   "source": [
    "data = API.text\n"
   ]
  },
  {
   "cell_type": "code",
   "execution_count": 112,
   "metadata": {},
   "outputs": [
    {
     "ename": "JSONDecodeError",
     "evalue": "Expecting value: line 2 column 1 (char 1)",
     "output_type": "error",
     "traceback": [
      "\u001b[0;31m---------------------------------------------------------------------------\u001b[0m",
      "\u001b[0;31mJSONDecodeError\u001b[0m                           Traceback (most recent call last)",
      "\u001b[0;32m/var/folders/t5/sxblnh9s6r744cwj7y86ts1r0000gn/T/ipykernel_15435/3950860878.py\u001b[0m in \u001b[0;36m<module>\u001b[0;34m\u001b[0m\n\u001b[0;32m----> 1\u001b[0;31m \u001b[0mjson\u001b[0m \u001b[0;34m=\u001b[0m \u001b[0mjson\u001b[0m\u001b[0;34m.\u001b[0m\u001b[0mloads\u001b[0m\u001b[0;34m(\u001b[0m\u001b[0mdata\u001b[0m\u001b[0;34m)\u001b[0m\u001b[0;34m\u001b[0m\u001b[0;34m\u001b[0m\u001b[0m\n\u001b[0m\u001b[1;32m      2\u001b[0m \u001b[0;34m\u001b[0m\u001b[0m\n",
      "\u001b[0;32m/opt/anaconda3/lib/python3.9/json/__init__.py\u001b[0m in \u001b[0;36mloads\u001b[0;34m(s, cls, object_hook, parse_float, parse_int, parse_constant, object_pairs_hook, **kw)\u001b[0m\n\u001b[1;32m    344\u001b[0m             \u001b[0mparse_int\u001b[0m \u001b[0;32mis\u001b[0m \u001b[0;32mNone\u001b[0m \u001b[0;32mand\u001b[0m \u001b[0mparse_float\u001b[0m \u001b[0;32mis\u001b[0m \u001b[0;32mNone\u001b[0m \u001b[0;32mand\u001b[0m\u001b[0;34m\u001b[0m\u001b[0;34m\u001b[0m\u001b[0m\n\u001b[1;32m    345\u001b[0m             parse_constant is None and object_pairs_hook is None and not kw):\n\u001b[0;32m--> 346\u001b[0;31m         \u001b[0;32mreturn\u001b[0m \u001b[0m_default_decoder\u001b[0m\u001b[0;34m.\u001b[0m\u001b[0mdecode\u001b[0m\u001b[0;34m(\u001b[0m\u001b[0ms\u001b[0m\u001b[0;34m)\u001b[0m\u001b[0;34m\u001b[0m\u001b[0;34m\u001b[0m\u001b[0m\n\u001b[0m\u001b[1;32m    347\u001b[0m     \u001b[0;32mif\u001b[0m \u001b[0mcls\u001b[0m \u001b[0;32mis\u001b[0m \u001b[0;32mNone\u001b[0m\u001b[0;34m:\u001b[0m\u001b[0;34m\u001b[0m\u001b[0;34m\u001b[0m\u001b[0m\n\u001b[1;32m    348\u001b[0m         \u001b[0mcls\u001b[0m \u001b[0;34m=\u001b[0m \u001b[0mJSONDecoder\u001b[0m\u001b[0;34m\u001b[0m\u001b[0;34m\u001b[0m\u001b[0m\n",
      "\u001b[0;32m/opt/anaconda3/lib/python3.9/json/decoder.py\u001b[0m in \u001b[0;36mdecode\u001b[0;34m(self, s, _w)\u001b[0m\n\u001b[1;32m    335\u001b[0m \u001b[0;34m\u001b[0m\u001b[0m\n\u001b[1;32m    336\u001b[0m         \"\"\"\n\u001b[0;32m--> 337\u001b[0;31m         \u001b[0mobj\u001b[0m\u001b[0;34m,\u001b[0m \u001b[0mend\u001b[0m \u001b[0;34m=\u001b[0m \u001b[0mself\u001b[0m\u001b[0;34m.\u001b[0m\u001b[0mraw_decode\u001b[0m\u001b[0;34m(\u001b[0m\u001b[0ms\u001b[0m\u001b[0;34m,\u001b[0m \u001b[0midx\u001b[0m\u001b[0;34m=\u001b[0m\u001b[0m_w\u001b[0m\u001b[0;34m(\u001b[0m\u001b[0ms\u001b[0m\u001b[0;34m,\u001b[0m \u001b[0;36m0\u001b[0m\u001b[0;34m)\u001b[0m\u001b[0;34m.\u001b[0m\u001b[0mend\u001b[0m\u001b[0;34m(\u001b[0m\u001b[0;34m)\u001b[0m\u001b[0;34m)\u001b[0m\u001b[0;34m\u001b[0m\u001b[0;34m\u001b[0m\u001b[0m\n\u001b[0m\u001b[1;32m    338\u001b[0m         \u001b[0mend\u001b[0m \u001b[0;34m=\u001b[0m \u001b[0m_w\u001b[0m\u001b[0;34m(\u001b[0m\u001b[0ms\u001b[0m\u001b[0;34m,\u001b[0m \u001b[0mend\u001b[0m\u001b[0;34m)\u001b[0m\u001b[0;34m.\u001b[0m\u001b[0mend\u001b[0m\u001b[0;34m(\u001b[0m\u001b[0;34m)\u001b[0m\u001b[0;34m\u001b[0m\u001b[0;34m\u001b[0m\u001b[0m\n\u001b[1;32m    339\u001b[0m         \u001b[0;32mif\u001b[0m \u001b[0mend\u001b[0m \u001b[0;34m!=\u001b[0m \u001b[0mlen\u001b[0m\u001b[0;34m(\u001b[0m\u001b[0ms\u001b[0m\u001b[0;34m)\u001b[0m\u001b[0;34m:\u001b[0m\u001b[0;34m\u001b[0m\u001b[0;34m\u001b[0m\u001b[0m\n",
      "\u001b[0;32m/opt/anaconda3/lib/python3.9/json/decoder.py\u001b[0m in \u001b[0;36mraw_decode\u001b[0;34m(self, s, idx)\u001b[0m\n\u001b[1;32m    353\u001b[0m             \u001b[0mobj\u001b[0m\u001b[0;34m,\u001b[0m \u001b[0mend\u001b[0m \u001b[0;34m=\u001b[0m \u001b[0mself\u001b[0m\u001b[0;34m.\u001b[0m\u001b[0mscan_once\u001b[0m\u001b[0;34m(\u001b[0m\u001b[0ms\u001b[0m\u001b[0;34m,\u001b[0m \u001b[0midx\u001b[0m\u001b[0;34m)\u001b[0m\u001b[0;34m\u001b[0m\u001b[0;34m\u001b[0m\u001b[0m\n\u001b[1;32m    354\u001b[0m         \u001b[0;32mexcept\u001b[0m \u001b[0mStopIteration\u001b[0m \u001b[0;32mas\u001b[0m \u001b[0merr\u001b[0m\u001b[0;34m:\u001b[0m\u001b[0;34m\u001b[0m\u001b[0;34m\u001b[0m\u001b[0m\n\u001b[0;32m--> 355\u001b[0;31m             \u001b[0;32mraise\u001b[0m \u001b[0mJSONDecodeError\u001b[0m\u001b[0;34m(\u001b[0m\u001b[0;34m\"Expecting value\"\u001b[0m\u001b[0;34m,\u001b[0m \u001b[0ms\u001b[0m\u001b[0;34m,\u001b[0m \u001b[0merr\u001b[0m\u001b[0;34m.\u001b[0m\u001b[0mvalue\u001b[0m\u001b[0;34m)\u001b[0m \u001b[0;32mfrom\u001b[0m \u001b[0;32mNone\u001b[0m\u001b[0;34m\u001b[0m\u001b[0;34m\u001b[0m\u001b[0m\n\u001b[0m\u001b[1;32m    356\u001b[0m         \u001b[0;32mreturn\u001b[0m \u001b[0mobj\u001b[0m\u001b[0;34m,\u001b[0m \u001b[0mend\u001b[0m\u001b[0;34m\u001b[0m\u001b[0;34m\u001b[0m\u001b[0m\n",
      "\u001b[0;31mJSONDecodeError\u001b[0m: Expecting value: line 2 column 1 (char 1)"
     ]
    }
   ],
   "source": [
    "json = json.loads(data)\n",
    "\n"
   ]
  },
  {
   "cell_type": "code",
   "execution_count": null,
   "metadata": {},
   "outputs": [
    {
     "ename": "TypeError",
     "evalue": "'module' object is not subscriptable",
     "output_type": "error",
     "traceback": [
      "\u001b[0;31m---------------------------------------------------------------------------\u001b[0m",
      "\u001b[0;31mTypeError\u001b[0m                                 Traceback (most recent call last)",
      "\u001b[0;32m/var/folders/t5/sxblnh9s6r744cwj7y86ts1r0000gn/T/ipykernel_8287/3378561319.py\u001b[0m in \u001b[0;36m<module>\u001b[0;34m\u001b[0m\n\u001b[0;32m----> 1\u001b[0;31m \u001b[0mdf6\u001b[0m \u001b[0;34m=\u001b[0m \u001b[0mpd\u001b[0m\u001b[0;34m.\u001b[0m\u001b[0mDataFrame\u001b[0m\u001b[0;34m(\u001b[0m\u001b[0mjson\u001b[0m\u001b[0;34m[\u001b[0m\u001b[0;34m\"data\"\u001b[0m\u001b[0;34m]\u001b[0m\u001b[0;34m)\u001b[0m\u001b[0;34m\u001b[0m\u001b[0;34m\u001b[0m\u001b[0m\n\u001b[0m",
      "\u001b[0;31mTypeError\u001b[0m: 'module' object is not subscriptable"
     ]
    }
   ],
   "source": [
    "df6 = pd.DataFrame(json[\"data\"])\n"
   ]
  },
  {
   "cell_type": "code",
   "execution_count": null,
   "metadata": {},
   "outputs": [],
   "source": [
    "print(df6)"
   ]
  },
  {
   "cell_type": "code",
   "execution_count": null,
   "metadata": {},
   "outputs": [
    {
     "ename": "NameError",
     "evalue": "name 'df6' is not defined",
     "output_type": "error",
     "traceback": [
      "\u001b[0;31m---------------------------------------------------------------------------\u001b[0m",
      "\u001b[0;31mNameError\u001b[0m                                 Traceback (most recent call last)",
      "\u001b[0;32m/var/folders/t5/sxblnh9s6r744cwj7y86ts1r0000gn/T/ipykernel_8287/408484680.py\u001b[0m in \u001b[0;36m<module>\u001b[0;34m\u001b[0m\n\u001b[0;32m----> 1\u001b[0;31m \u001b[0mdf6\u001b[0m\u001b[0;34m.\u001b[0m\u001b[0mhead\u001b[0m\u001b[0;34m(\u001b[0m\u001b[0;34m)\u001b[0m\u001b[0;34m\u001b[0m\u001b[0;34m\u001b[0m\u001b[0m\n\u001b[0m",
      "\u001b[0;31mNameError\u001b[0m: name 'df6' is not defined"
     ]
    }
   ],
   "source": [
    "df6.head()"
   ]
  }
 ],
 "metadata": {
  "kernelspec": {
   "display_name": "Python 3.9.7 ('base')",
   "language": "python",
   "name": "python3"
  },
  "language_info": {
   "codemirror_mode": {
    "name": "ipython",
    "version": 3
   },
   "file_extension": ".py",
   "mimetype": "text/x-python",
   "name": "python",
   "nbconvert_exporter": "python",
   "pygments_lexer": "ipython3",
   "version": "3.9.7"
  },
  "orig_nbformat": 4,
  "vscode": {
   "interpreter": {
    "hash": "40d3a090f54c6569ab1632332b64b2c03c39dcf918b08424e98f38b5ae0af88f"
   }
  }
 },
 "nbformat": 4,
 "nbformat_minor": 2
}

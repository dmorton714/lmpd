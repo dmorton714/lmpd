{
 "cells": [
  {
   "cell_type": "code",
   "execution_count": 23,
   "metadata": {},
   "outputs": [],
   "source": [
    "import pandas as pd\n",
    "import matplotlib as plt"
   ]
  },
  {
   "cell_type": "markdown",
   "metadata": {},
   "source": [
    "# Louisville Metro Police Department Bias Study \n",
    "\n",
    "| item | Meaning |\n",
    "| -- | -- |\n",
    "| stops | Cleaned dataframe of police citations |\n",
    "| LMPD | Cleaned dataframe of police Department |\n",
    "| x| x |"
   ]
  },
  {
   "cell_type": "markdown",
   "metadata": {},
   "source": [
    "### things to do next \n",
    "- add api calls where it merges all the years \n",
    "- adjust the function so that it is callable by year \n",
    "- replot old plots \n",
    "- clean up the % section "
   ]
  },
  {
   "cell_type": "markdown",
   "metadata": {},
   "source": [
    "# Cleaning Functions "
   ]
  },
  {
   "cell_type": "code",
   "execution_count": 24,
   "metadata": {},
   "outputs": [],
   "source": [
    "def stops_cleaning():\n",
    "    stops = pd.read_csv('stops.csv')\n",
    "    stops.drop(columns=['CITATION_CONTROL_NUMBER', 'ACTIVITY_DATE', 'ACTIVITY_TIME', 'ACTIVITY_LOCATION', 'ACTIVITY_DIVISION', 'ACTIVITY_BEAT', 'NUMBER_OF_PASSENGERS', 'WAS_VEHCILE_SEARCHED', 'REASON_FOR_SEARCH', 'ObjectId'], inplace=True)\n",
    "    stops.rename(columns={'TYPE_OF_STOP':'stop', 'ACTIVITY_RESULTS':'action', 'OFFICER_GENDER':'o_gender', 'OFFICER_RACE':\"o_race\", 'OFFICER_AGE_RANGE':\"o_age\", 'DRIVER_GENDER':'d_gender', 'DRIVER_RACE':\"d_race\", 'DRIVER_AGE_RANGE':\"d_age\"}, inplace=True)\n",
    "    stops['o_race'] = stops['o_race'].replace(['UNKNOWN'], ' ')\n",
    "    stops.drop(stops.loc[stops['o_race']==' '].index, inplace=True)\n",
    "    stops.sort_values(by=['o_race'], inplace=True)\n",
    "    return stops\n",
    "\n",
    "stops = stops_cleaning()"
   ]
  },
  {
   "cell_type": "code",
   "execution_count": 25,
   "metadata": {},
   "outputs": [],
   "source": [
    "def LMPD_cleaning():\n",
    "    LMPD = pd.read_csv (r'employee.csv')\n",
    "    LMPD.drop(columns=['AOC_CODE', 'RANK_TITLE', 'OFFICER_DIVISION', 'OFFICER_ASSIGNMENT', 'OFFICER_YEARS_SWORN', 'ObjectId'], inplace=True)\n",
    "    LMPD.rename(columns={'OFFICER_SEX':'oh_sex', 'OFFICER_RACE':'oh_race', 'OFFICER_AGE_RANGE':'oh_age_range', 'OFFICER_AGE':\"oh_age\"}, inplace=True)\n",
    "    LMPD.drop(LMPD.loc[LMPD['oh_age']==0].index, inplace=True)\n",
    "    LMPD.sort_values(by=['oh_age'], inplace=True)\n",
    "    LMPD['oh_race'] = LMPD['oh_race'].replace(['U '], ' ')\n",
    "    LMPD.drop(LMPD.loc[LMPD['oh_race']==' '].index, inplace=True)\n",
    "    LMPD.sort_values(by=['oh_race'], inplace=True)\n",
    "    return LMPD\n",
    "\n",
    "LMPD = LMPD_cleaning()"
   ]
  },
  {
   "cell_type": "code",
   "execution_count": 26,
   "metadata": {},
   "outputs": [
    {
     "data": {
      "text/html": [
       "<div>\n",
       "<style scoped>\n",
       "    .dataframe tbody tr th:only-of-type {\n",
       "        vertical-align: middle;\n",
       "    }\n",
       "\n",
       "    .dataframe tbody tr th {\n",
       "        vertical-align: top;\n",
       "    }\n",
       "\n",
       "    .dataframe thead th {\n",
       "        text-align: right;\n",
       "    }\n",
       "</style>\n",
       "<table border=\"1\" class=\"dataframe\">\n",
       "  <thead>\n",
       "    <tr style=\"text-align: right;\">\n",
       "      <th></th>\n",
       "      <th>stop</th>\n",
       "      <th>action</th>\n",
       "      <th>o_gender</th>\n",
       "      <th>o_race</th>\n",
       "      <th>o_age</th>\n",
       "      <th>d_gender</th>\n",
       "      <th>d_race</th>\n",
       "      <th>d_age</th>\n",
       "    </tr>\n",
       "  </thead>\n",
       "  <tbody>\n",
       "    <tr>\n",
       "      <th>3260</th>\n",
       "      <td>TRAFFIC VIOLATION</td>\n",
       "      <td>CITATION ISSUED</td>\n",
       "      <td>M</td>\n",
       "      <td>ASIAN</td>\n",
       "      <td>21 - 30</td>\n",
       "      <td>F</td>\n",
       "      <td>BLACK</td>\n",
       "      <td>20 - 25</td>\n",
       "    </tr>\n",
       "    <tr>\n",
       "      <th>15448</th>\n",
       "      <td>TRAFFIC VIOLATION</td>\n",
       "      <td>CITATION ISSUED</td>\n",
       "      <td>M</td>\n",
       "      <td>ASIAN</td>\n",
       "      <td>31 - 40</td>\n",
       "      <td>F</td>\n",
       "      <td>WHITE</td>\n",
       "      <td>51 - 60</td>\n",
       "    </tr>\n",
       "    <tr>\n",
       "      <th>647</th>\n",
       "      <td>TRAFFIC VIOLATION</td>\n",
       "      <td>CITATION ISSUED</td>\n",
       "      <td>M</td>\n",
       "      <td>ASIAN</td>\n",
       "      <td>21 - 30</td>\n",
       "      <td>M</td>\n",
       "      <td>BLACK</td>\n",
       "      <td>26 - 30</td>\n",
       "    </tr>\n",
       "    <tr>\n",
       "      <th>4721</th>\n",
       "      <td>TRAFFIC VIOLATION</td>\n",
       "      <td>CITATION ISSUED</td>\n",
       "      <td>M</td>\n",
       "      <td>ASIAN</td>\n",
       "      <td>21 - 30</td>\n",
       "      <td>M</td>\n",
       "      <td>WHITE</td>\n",
       "      <td>26 - 30</td>\n",
       "    </tr>\n",
       "    <tr>\n",
       "      <th>3458</th>\n",
       "      <td>TRAFFIC VIOLATION</td>\n",
       "      <td>CITATION ISSUED</td>\n",
       "      <td>M</td>\n",
       "      <td>ASIAN</td>\n",
       "      <td>31 - 40</td>\n",
       "      <td>F</td>\n",
       "      <td>WHITE</td>\n",
       "      <td>26 - 30</td>\n",
       "    </tr>\n",
       "  </tbody>\n",
       "</table>\n",
       "</div>"
      ],
      "text/plain": [
       "                    stop           action o_gender o_race    o_age d_gender  \\\n",
       "3260   TRAFFIC VIOLATION  CITATION ISSUED        M  ASIAN  21 - 30        F   \n",
       "15448  TRAFFIC VIOLATION  CITATION ISSUED        M  ASIAN  31 - 40        F   \n",
       "647    TRAFFIC VIOLATION  CITATION ISSUED        M  ASIAN  21 - 30        M   \n",
       "4721   TRAFFIC VIOLATION  CITATION ISSUED        M  ASIAN  21 - 30        M   \n",
       "3458   TRAFFIC VIOLATION  CITATION ISSUED        M  ASIAN  31 - 40        F   \n",
       "\n",
       "      d_race    d_age  \n",
       "3260   BLACK  20 - 25  \n",
       "15448  WHITE  51 - 60  \n",
       "647    BLACK  26 - 30  \n",
       "4721   WHITE  26 - 30  \n",
       "3458   WHITE  26 - 30  "
      ]
     },
     "execution_count": 26,
     "metadata": {},
     "output_type": "execute_result"
    }
   ],
   "source": [
    "stops.head()"
   ]
  },
  {
   "cell_type": "code",
   "execution_count": 27,
   "metadata": {},
   "outputs": [
    {
     "data": {
      "text/html": [
       "<div>\n",
       "<style scoped>\n",
       "    .dataframe tbody tr th:only-of-type {\n",
       "        vertical-align: middle;\n",
       "    }\n",
       "\n",
       "    .dataframe tbody tr th {\n",
       "        vertical-align: top;\n",
       "    }\n",
       "\n",
       "    .dataframe thead th {\n",
       "        text-align: right;\n",
       "    }\n",
       "</style>\n",
       "<table border=\"1\" class=\"dataframe\">\n",
       "  <thead>\n",
       "    <tr style=\"text-align: right;\">\n",
       "      <th></th>\n",
       "      <th>oh_sex</th>\n",
       "      <th>oh_race</th>\n",
       "      <th>oh_age_range</th>\n",
       "      <th>oh_age</th>\n",
       "    </tr>\n",
       "  </thead>\n",
       "  <tbody>\n",
       "    <tr>\n",
       "      <th>1790</th>\n",
       "      <td>M</td>\n",
       "      <td>A</td>\n",
       "      <td>30 - 39</td>\n",
       "      <td>35</td>\n",
       "    </tr>\n",
       "    <tr>\n",
       "      <th>2161</th>\n",
       "      <td>M</td>\n",
       "      <td>A</td>\n",
       "      <td>21 - 29</td>\n",
       "      <td>27</td>\n",
       "    </tr>\n",
       "    <tr>\n",
       "      <th>2560</th>\n",
       "      <td>M</td>\n",
       "      <td>A</td>\n",
       "      <td>30 - 39</td>\n",
       "      <td>37</td>\n",
       "    </tr>\n",
       "    <tr>\n",
       "      <th>1460</th>\n",
       "      <td>M</td>\n",
       "      <td>A</td>\n",
       "      <td>50 - 59</td>\n",
       "      <td>53</td>\n",
       "    </tr>\n",
       "    <tr>\n",
       "      <th>2138</th>\n",
       "      <td>M</td>\n",
       "      <td>A</td>\n",
       "      <td>30 - 39</td>\n",
       "      <td>33</td>\n",
       "    </tr>\n",
       "  </tbody>\n",
       "</table>\n",
       "</div>"
      ],
      "text/plain": [
       "     oh_sex oh_race oh_age_range  oh_age\n",
       "1790      M      A       30 - 39      35\n",
       "2161      M      A       21 - 29      27\n",
       "2560      M      A       30 - 39      37\n",
       "1460      M      A       50 - 59      53\n",
       "2138      M      A       30 - 39      33"
      ]
     },
     "execution_count": 27,
     "metadata": {},
     "output_type": "execute_result"
    }
   ],
   "source": [
    "LMPD.head()"
   ]
  },
  {
   "cell_type": "markdown",
   "metadata": {},
   "source": [
    "# Plots "
   ]
  },
  {
   "cell_type": "code",
   "execution_count": 31,
   "metadata": {},
   "outputs": [
    {
     "data": {
      "text/plain": [
       "<Axes: ylabel='count'>"
      ]
     },
     "execution_count": 31,
     "metadata": {},
     "output_type": "execute_result"
    },
    {
     "data": {
      "image/png": "[encoded data removed]",
      "text/plain": [
       "<Figure size 640x480 with 1 Axes>"
      ]
     },
     "metadata": {},
     "output_type": "display_data"
    }
   ],
   "source": [
    "stops['o_gender'].value_counts().plot.pie()"
   ]
  },
  {
   "cell_type": "code",
   "execution_count": 32,
   "metadata": {},
   "outputs": [
    {
     "data": {
      "text/plain": [
       "<Axes: ylabel='count'>"
      ]
     },
     "execution_count": 32,
     "metadata": {},
     "output_type": "execute_result"
    },
    {
     "data": {
      "image/png": "[encoded data removed]",
      "text/plain": [
       "<Figure size 640x480 with 1 Axes>"
      ]
     },
     "metadata": {},
     "output_type": "display_data"
    }
   ],
   "source": [
    "stops['d_gender'].value_counts().plot.pie()"
   ]
  },
  {
   "cell_type": "code",
   "execution_count": 33,
   "metadata": {},
   "outputs": [
    {
     "data": {
      "text/plain": [
       "<Axes: ylabel='count'>"
      ]
     },
     "execution_count": 33,
     "metadata": {},
     "output_type": "execute_result"
    },
    {
     "data": {
      "image/png": "[encoded data removed]",
      "text/plain": [
       "<Figure size 640x480 with 1 Axes>"
      ]
     },
     "metadata": {},
     "output_type": "display_data"
    }
   ],
   "source": [
    "LMPD['oh_sex'].value_counts().plot.pie()"
   ]
  }
 ],
 "metadata": {
  "kernelspec": {
   "display_name": "venv",
   "language": "python",
   "name": "python3"
  },
  "language_info": {
   "codemirror_mode": {
    "name": "ipython",
    "version": 3
   },
   "file_extension": ".py",
   "mimetype": "text/x-python",
   "name": "python",
   "nbconvert_exporter": "python",
   "pygments_lexer": "ipython3",
   "version": "3.12.2"
  }
 },
 "nbformat": 4,
 "nbformat_minor": 2
}

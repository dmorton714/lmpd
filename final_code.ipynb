{
 "cells": [
  {
   "cell_type": "code",
   "execution_count": 11,
   "metadata": {},
   "outputs": [],
   "source": [
    "import pandas as pd\n",
    "import matplotlib.pyplot as plt\n",
    "import matplotlib.dates as mdates\n",
    "import datetime\n",
    "import csv\n",
    "import numpy as np"
   ]
  },
  {
   "attachments": {},
   "cell_type": "markdown",
   "metadata": {},
   "source": [
    "<h1>Louisville Metro Police Department Bias Study </h1>\n",
    "\n",
    "| item | Meaning |\n",
    "| -- | -- |\n",
    "| df | x |\n",
    "| df3 | x |\n",
    "| oh | x |"
   ]
  },
  {
   "cell_type": "markdown",
   "metadata": {},
   "source": [
    "The below section imports the LMPD stops"
   ]
  },
  {
   "cell_type": "code",
   "execution_count": 12,
   "metadata": {},
   "outputs": [],
   "source": [
    "# Imports the first csv file    \n",
    "df = pd.read_csv (r'stops.csv')"
   ]
  },
  {
   "cell_type": "code",
   "execution_count": 13,
   "metadata": {},
   "outputs": [
    {
     "data": {
      "text/html": [
       "<div>\n",
       "<style scoped>\n",
       "    .dataframe tbody tr th:only-of-type {\n",
       "        vertical-align: middle;\n",
       "    }\n",
       "\n",
       "    .dataframe tbody tr th {\n",
       "        vertical-align: top;\n",
       "    }\n",
       "\n",
       "    .dataframe thead th {\n",
       "        text-align: right;\n",
       "    }\n",
       "</style>\n",
       "<table border=\"1\" class=\"dataframe\">\n",
       "  <thead>\n",
       "    <tr style=\"text-align: right;\">\n",
       "      <th></th>\n",
       "      <th>TYPE_OF_STOP</th>\n",
       "      <th>CITATION_CONTROL_NUMBER</th>\n",
       "      <th>ACTIVITY_RESULTS</th>\n",
       "      <th>OFFICER_GENDER</th>\n",
       "      <th>OFFICER_RACE</th>\n",
       "      <th>OFFICER_AGE_RANGE</th>\n",
       "      <th>ACTIVITY_DATE</th>\n",
       "      <th>ACTIVITY_TIME</th>\n",
       "      <th>ACTIVITY_LOCATION</th>\n",
       "      <th>ACTIVITY_DIVISION</th>\n",
       "      <th>ACTIVITY_BEAT</th>\n",
       "      <th>DRIVER_GENDER</th>\n",
       "      <th>DRIVER_RACE</th>\n",
       "      <th>DRIVER_AGE_RANGE</th>\n",
       "      <th>NUMBER_OF_PASSENGERS</th>\n",
       "      <th>WAS_VEHCILE_SEARCHED</th>\n",
       "      <th>REASON_FOR_SEARCH</th>\n",
       "      <th>ObjectId</th>\n",
       "    </tr>\n",
       "  </thead>\n",
       "  <tbody>\n",
       "    <tr>\n",
       "      <th>0</th>\n",
       "      <td>COMPLAINT/CRIMINAL VIOLATION</td>\n",
       "      <td>DU02374</td>\n",
       "      <td>CITATION ISSUED</td>\n",
       "      <td>M</td>\n",
       "      <td>WHITE</td>\n",
       "      <td>21 - 30</td>\n",
       "      <td>2021/06/14 04:00:00+00</td>\n",
       "      <td>2022/09/22 05:39:00+00</td>\n",
       "      <td>600 BLOCK  E BURNETT AVE</td>\n",
       "      <td>4TH DIVISION</td>\n",
       "      <td>BEAT 2</td>\n",
       "      <td>M</td>\n",
       "      <td>BLACK</td>\n",
       "      <td>16 - 19</td>\n",
       "      <td>3</td>\n",
       "      <td>YES</td>\n",
       "      <td>4</td>\n",
       "      <td>1</td>\n",
       "    </tr>\n",
       "    <tr>\n",
       "      <th>1</th>\n",
       "      <td>TRAFFIC VIOLATION</td>\n",
       "      <td>DQ00858</td>\n",
       "      <td>CITATION ISSUED</td>\n",
       "      <td>F</td>\n",
       "      <td>WHITE</td>\n",
       "      <td>21 - 30</td>\n",
       "      <td>2021/01/03 05:00:00+00</td>\n",
       "      <td>2022/09/22 04:00:00+00</td>\n",
       "      <td>BEECHBROOK RD/ KRANET WAY                     ...</td>\n",
       "      <td>6TH DIVISION</td>\n",
       "      <td>BEAT 4</td>\n",
       "      <td>M</td>\n",
       "      <td>WHITE</td>\n",
       "      <td>16 - 19</td>\n",
       "      <td>1</td>\n",
       "      <td>YES</td>\n",
       "      <td>4</td>\n",
       "      <td>2</td>\n",
       "    </tr>\n",
       "    <tr>\n",
       "      <th>2</th>\n",
       "      <td>COMPLAINT/CRIMINAL VIOLATION</td>\n",
       "      <td>DU02791</td>\n",
       "      <td>CITATION ISSUED</td>\n",
       "      <td>M</td>\n",
       "      <td>WHITE</td>\n",
       "      <td>21 - 30</td>\n",
       "      <td>2021/06/09 04:00:00+00</td>\n",
       "      <td>2022/09/22 20:29:00+00</td>\n",
       "      <td>300 BLOCK  E OAK ST</td>\n",
       "      <td>4TH DIVISION</td>\n",
       "      <td>BEAT 2</td>\n",
       "      <td>F</td>\n",
       "      <td>BLACK</td>\n",
       "      <td>31 - 40</td>\n",
       "      <td>1</td>\n",
       "      <td>NO</td>\n",
       "      <td>0</td>\n",
       "      <td>3</td>\n",
       "    </tr>\n",
       "    <tr>\n",
       "      <th>3</th>\n",
       "      <td>TRAFFIC VIOLATION</td>\n",
       "      <td>DQ01281</td>\n",
       "      <td>CITATION ISSUED</td>\n",
       "      <td>M</td>\n",
       "      <td>WHITE</td>\n",
       "      <td>31 - 40</td>\n",
       "      <td>2021/01/16 05:00:00+00</td>\n",
       "      <td>2022/09/22 05:34:00+00</td>\n",
       "      <td>TAYLOR BLVD/W WHITNEY AVE                     ...</td>\n",
       "      <td>4TH DIVISION</td>\n",
       "      <td>BEAT 3</td>\n",
       "      <td>M</td>\n",
       "      <td>HISPANIC</td>\n",
       "      <td>20 - 25</td>\n",
       "      <td>3</td>\n",
       "      <td>NO</td>\n",
       "      <td>0</td>\n",
       "      <td>4</td>\n",
       "    </tr>\n",
       "    <tr>\n",
       "      <th>4</th>\n",
       "      <td>COMPLAINT/CRIMINAL VIOLATION</td>\n",
       "      <td>DU16127</td>\n",
       "      <td>CITATION ISSUED</td>\n",
       "      <td>M</td>\n",
       "      <td>WHITE</td>\n",
       "      <td>31 - 40</td>\n",
       "      <td>2021/06/26 04:00:00+00</td>\n",
       "      <td>2022/09/22 17:27:00+00</td>\n",
       "      <td>GHEENS AVE                                    ...</td>\n",
       "      <td>3RD DIVISION</td>\n",
       "      <td>BEAT 2</td>\n",
       "      <td>M</td>\n",
       "      <td>HISPANIC</td>\n",
       "      <td>20 - 25</td>\n",
       "      <td>1</td>\n",
       "      <td>NO</td>\n",
       "      <td>0</td>\n",
       "      <td>5</td>\n",
       "    </tr>\n",
       "    <tr>\n",
       "      <th>...</th>\n",
       "      <td>...</td>\n",
       "      <td>...</td>\n",
       "      <td>...</td>\n",
       "      <td>...</td>\n",
       "      <td>...</td>\n",
       "      <td>...</td>\n",
       "      <td>...</td>\n",
       "      <td>...</td>\n",
       "      <td>...</td>\n",
       "      <td>...</td>\n",
       "      <td>...</td>\n",
       "      <td>...</td>\n",
       "      <td>...</td>\n",
       "      <td>...</td>\n",
       "      <td>...</td>\n",
       "      <td>...</td>\n",
       "      <td>...</td>\n",
       "      <td>...</td>\n",
       "    </tr>\n",
       "    <tr>\n",
       "      <th>23538</th>\n",
       "      <td>TRAFFIC VIOLATION</td>\n",
       "      <td>DX93191</td>\n",
       "      <td>CITATION ISSUED</td>\n",
       "      <td>M</td>\n",
       "      <td>BLACK</td>\n",
       "      <td>51 - 60</td>\n",
       "      <td>2021/12/23 05:00:00+00</td>\n",
       "      <td>2022/09/22 14:44:00+00</td>\n",
       "      <td>I 0064                                        ...</td>\n",
       "      <td>8TH DIVISION</td>\n",
       "      <td>BEAT 5</td>\n",
       "      <td>M</td>\n",
       "      <td>BLACK</td>\n",
       "      <td>31 - 40</td>\n",
       "      <td>1</td>\n",
       "      <td>NO</td>\n",
       "      <td>0</td>\n",
       "      <td>23539</td>\n",
       "    </tr>\n",
       "    <tr>\n",
       "      <th>23539</th>\n",
       "      <td>TRAFFIC VIOLATION</td>\n",
       "      <td>DX93194</td>\n",
       "      <td>CITATION ISSUED</td>\n",
       "      <td>M</td>\n",
       "      <td>BLACK</td>\n",
       "      <td>51 - 60</td>\n",
       "      <td>2021/12/23 05:00:00+00</td>\n",
       "      <td>2022/09/22 16:11:00+00</td>\n",
       "      <td>I 0264                                        ...</td>\n",
       "      <td>8TH DIVISION</td>\n",
       "      <td>BEAT 5</td>\n",
       "      <td>M</td>\n",
       "      <td>WHITE</td>\n",
       "      <td>41 - 50</td>\n",
       "      <td>0</td>\n",
       "      <td>NO</td>\n",
       "      <td>0</td>\n",
       "      <td>23540</td>\n",
       "    </tr>\n",
       "    <tr>\n",
       "      <th>23540</th>\n",
       "      <td>TRAFFIC VIOLATION</td>\n",
       "      <td>DX93195</td>\n",
       "      <td>CITATION ISSUED</td>\n",
       "      <td>M</td>\n",
       "      <td>BLACK</td>\n",
       "      <td>51 - 60</td>\n",
       "      <td>2021/12/23 05:00:00+00</td>\n",
       "      <td>2022/09/22 16:32:00+00</td>\n",
       "      <td>I 0264                                        ...</td>\n",
       "      <td>8TH DIVISION</td>\n",
       "      <td>BEAT 5</td>\n",
       "      <td>M</td>\n",
       "      <td>WHITE</td>\n",
       "      <td>51 - 60</td>\n",
       "      <td>0</td>\n",
       "      <td>NO</td>\n",
       "      <td>0</td>\n",
       "      <td>23541</td>\n",
       "    </tr>\n",
       "    <tr>\n",
       "      <th>23541</th>\n",
       "      <td>TRAFFIC VIOLATION</td>\n",
       "      <td>DX93197</td>\n",
       "      <td>CITATION ISSUED</td>\n",
       "      <td>M</td>\n",
       "      <td>BLACK</td>\n",
       "      <td>51 - 60</td>\n",
       "      <td>2021/12/23 05:00:00+00</td>\n",
       "      <td>2022/09/22 16:55:00+00</td>\n",
       "      <td>I 0264                                        ...</td>\n",
       "      <td>8TH DIVISION</td>\n",
       "      <td>BEAT 5</td>\n",
       "      <td>M</td>\n",
       "      <td>ASIAN</td>\n",
       "      <td>31 - 40</td>\n",
       "      <td>1</td>\n",
       "      <td>NO</td>\n",
       "      <td>0</td>\n",
       "      <td>23542</td>\n",
       "    </tr>\n",
       "    <tr>\n",
       "      <th>23542</th>\n",
       "      <td>TRAFFIC VIOLATION</td>\n",
       "      <td>DX93305</td>\n",
       "      <td>CITATION ISSUED</td>\n",
       "      <td>M</td>\n",
       "      <td>BLACK</td>\n",
       "      <td>51 - 60</td>\n",
       "      <td>2021/12/23 05:00:00+00</td>\n",
       "      <td>2022/09/22 17:10:00+00</td>\n",
       "      <td>I 0264                                        ...</td>\n",
       "      <td>8TH DIVISION</td>\n",
       "      <td>BEAT 5</td>\n",
       "      <td>M</td>\n",
       "      <td>WHITE</td>\n",
       "      <td>26 - 30</td>\n",
       "      <td>1</td>\n",
       "      <td>NO</td>\n",
       "      <td>0</td>\n",
       "      <td>23543</td>\n",
       "    </tr>\n",
       "  </tbody>\n",
       "</table>\n",
       "<p>23543 rows × 18 columns</p>\n",
       "</div>"
      ],
      "text/plain": [
       "                       TYPE_OF_STOP CITATION_CONTROL_NUMBER ACTIVITY_RESULTS  \\\n",
       "0      COMPLAINT/CRIMINAL VIOLATION            DU02374       CITATION ISSUED   \n",
       "1                 TRAFFIC VIOLATION            DQ00858       CITATION ISSUED   \n",
       "2      COMPLAINT/CRIMINAL VIOLATION            DU02791       CITATION ISSUED   \n",
       "3                 TRAFFIC VIOLATION            DQ01281       CITATION ISSUED   \n",
       "4      COMPLAINT/CRIMINAL VIOLATION            DU16127       CITATION ISSUED   \n",
       "...                             ...                     ...              ...   \n",
       "23538             TRAFFIC VIOLATION            DX93191       CITATION ISSUED   \n",
       "23539             TRAFFIC VIOLATION            DX93194       CITATION ISSUED   \n",
       "23540             TRAFFIC VIOLATION            DX93195       CITATION ISSUED   \n",
       "23541             TRAFFIC VIOLATION            DX93197       CITATION ISSUED   \n",
       "23542             TRAFFIC VIOLATION            DX93305       CITATION ISSUED   \n",
       "\n",
       "      OFFICER_GENDER OFFICER_RACE OFFICER_AGE_RANGE           ACTIVITY_DATE  \\\n",
       "0                  M        WHITE           21 - 30  2021/06/14 04:00:00+00   \n",
       "1                  F        WHITE           21 - 30  2021/01/03 05:00:00+00   \n",
       "2                  M        WHITE           21 - 30  2021/06/09 04:00:00+00   \n",
       "3                  M        WHITE           31 - 40  2021/01/16 05:00:00+00   \n",
       "4                  M        WHITE           31 - 40  2021/06/26 04:00:00+00   \n",
       "...              ...          ...               ...                     ...   \n",
       "23538              M        BLACK           51 - 60  2021/12/23 05:00:00+00   \n",
       "23539              M        BLACK           51 - 60  2021/12/23 05:00:00+00   \n",
       "23540              M        BLACK           51 - 60  2021/12/23 05:00:00+00   \n",
       "23541              M        BLACK           51 - 60  2021/12/23 05:00:00+00   \n",
       "23542              M        BLACK           51 - 60  2021/12/23 05:00:00+00   \n",
       "\n",
       "                ACTIVITY_TIME  \\\n",
       "0      2022/09/22 05:39:00+00   \n",
       "1      2022/09/22 04:00:00+00   \n",
       "2      2022/09/22 20:29:00+00   \n",
       "3      2022/09/22 05:34:00+00   \n",
       "4      2022/09/22 17:27:00+00   \n",
       "...                       ...   \n",
       "23538  2022/09/22 14:44:00+00   \n",
       "23539  2022/09/22 16:11:00+00   \n",
       "23540  2022/09/22 16:32:00+00   \n",
       "23541  2022/09/22 16:55:00+00   \n",
       "23542  2022/09/22 17:10:00+00   \n",
       "\n",
       "                                       ACTIVITY_LOCATION ACTIVITY_DIVISION  \\\n",
       "0                               600 BLOCK  E BURNETT AVE      4TH DIVISION   \n",
       "1      BEECHBROOK RD/ KRANET WAY                     ...      6TH DIVISION   \n",
       "2                                    300 BLOCK  E OAK ST      4TH DIVISION   \n",
       "3      TAYLOR BLVD/W WHITNEY AVE                     ...      4TH DIVISION   \n",
       "4      GHEENS AVE                                    ...      3RD DIVISION   \n",
       "...                                                  ...               ...   \n",
       "23538  I 0064                                        ...      8TH DIVISION   \n",
       "23539  I 0264                                        ...      8TH DIVISION   \n",
       "23540  I 0264                                        ...      8TH DIVISION   \n",
       "23541  I 0264                                        ...      8TH DIVISION   \n",
       "23542  I 0264                                        ...      8TH DIVISION   \n",
       "\n",
       "      ACTIVITY_BEAT DRIVER_GENDER DRIVER_RACE DRIVER_AGE_RANGE  \\\n",
       "0            BEAT 2             M       BLACK          16 - 19   \n",
       "1            BEAT 4             M       WHITE          16 - 19   \n",
       "2            BEAT 2             F       BLACK          31 - 40   \n",
       "3            BEAT 3             M    HISPANIC          20 - 25   \n",
       "4            BEAT 2             M    HISPANIC          20 - 25   \n",
       "...             ...           ...         ...              ...   \n",
       "23538        BEAT 5             M       BLACK          31 - 40   \n",
       "23539        BEAT 5             M       WHITE          41 - 50   \n",
       "23540        BEAT 5             M       WHITE          51 - 60   \n",
       "23541        BEAT 5             M       ASIAN          31 - 40   \n",
       "23542        BEAT 5             M       WHITE          26 - 30   \n",
       "\n",
       "       NUMBER_OF_PASSENGERS WAS_VEHCILE_SEARCHED  REASON_FOR_SEARCH  ObjectId  \n",
       "0                         3                  YES                  4         1  \n",
       "1                         1                  YES                  4         2  \n",
       "2                         1                   NO                  0         3  \n",
       "3                         3                   NO                  0         4  \n",
       "4                         1                   NO                  0         5  \n",
       "...                     ...                  ...                ...       ...  \n",
       "23538                     1                   NO                  0     23539  \n",
       "23539                     0                   NO                  0     23540  \n",
       "23540                     0                   NO                  0     23541  \n",
       "23541                     1                   NO                  0     23542  \n",
       "23542                     1                   NO                  0     23543  \n",
       "\n",
       "[23543 rows x 18 columns]"
      ]
     },
     "execution_count": 13,
     "metadata": {},
     "output_type": "execute_result"
    }
   ],
   "source": [
    "df"
   ]
  },
  {
   "attachments": {},
   "cell_type": "markdown",
   "metadata": {},
   "source": [
    "This drops the data we dont need and renames some of the columns. "
   ]
  },
  {
   "cell_type": "code",
   "execution_count": 14,
   "metadata": {},
   "outputs": [
    {
     "data": {
      "text/html": [
       "<div>\n",
       "<style scoped>\n",
       "    .dataframe tbody tr th:only-of-type {\n",
       "        vertical-align: middle;\n",
       "    }\n",
       "\n",
       "    .dataframe tbody tr th {\n",
       "        vertical-align: top;\n",
       "    }\n",
       "\n",
       "    .dataframe thead th {\n",
       "        text-align: right;\n",
       "    }\n",
       "</style>\n",
       "<table border=\"1\" class=\"dataframe\">\n",
       "  <thead>\n",
       "    <tr style=\"text-align: right;\">\n",
       "      <th></th>\n",
       "      <th>stop</th>\n",
       "      <th>action</th>\n",
       "      <th>o_gender</th>\n",
       "      <th>o_race</th>\n",
       "      <th>o_age</th>\n",
       "      <th>d_gender</th>\n",
       "      <th>d_race</th>\n",
       "      <th>d_age</th>\n",
       "    </tr>\n",
       "  </thead>\n",
       "  <tbody>\n",
       "    <tr>\n",
       "      <th>0</th>\n",
       "      <td>COMPLAINT/CRIMINAL VIOLATION</td>\n",
       "      <td>CITATION ISSUED</td>\n",
       "      <td>M</td>\n",
       "      <td>WHITE</td>\n",
       "      <td>21 - 30</td>\n",
       "      <td>M</td>\n",
       "      <td>BLACK</td>\n",
       "      <td>16 - 19</td>\n",
       "    </tr>\n",
       "    <tr>\n",
       "      <th>1</th>\n",
       "      <td>TRAFFIC VIOLATION</td>\n",
       "      <td>CITATION ISSUED</td>\n",
       "      <td>F</td>\n",
       "      <td>WHITE</td>\n",
       "      <td>21 - 30</td>\n",
       "      <td>M</td>\n",
       "      <td>WHITE</td>\n",
       "      <td>16 - 19</td>\n",
       "    </tr>\n",
       "    <tr>\n",
       "      <th>2</th>\n",
       "      <td>COMPLAINT/CRIMINAL VIOLATION</td>\n",
       "      <td>CITATION ISSUED</td>\n",
       "      <td>M</td>\n",
       "      <td>WHITE</td>\n",
       "      <td>21 - 30</td>\n",
       "      <td>F</td>\n",
       "      <td>BLACK</td>\n",
       "      <td>31 - 40</td>\n",
       "    </tr>\n",
       "    <tr>\n",
       "      <th>3</th>\n",
       "      <td>TRAFFIC VIOLATION</td>\n",
       "      <td>CITATION ISSUED</td>\n",
       "      <td>M</td>\n",
       "      <td>WHITE</td>\n",
       "      <td>31 - 40</td>\n",
       "      <td>M</td>\n",
       "      <td>HISPANIC</td>\n",
       "      <td>20 - 25</td>\n",
       "    </tr>\n",
       "    <tr>\n",
       "      <th>4</th>\n",
       "      <td>COMPLAINT/CRIMINAL VIOLATION</td>\n",
       "      <td>CITATION ISSUED</td>\n",
       "      <td>M</td>\n",
       "      <td>WHITE</td>\n",
       "      <td>31 - 40</td>\n",
       "      <td>M</td>\n",
       "      <td>HISPANIC</td>\n",
       "      <td>20 - 25</td>\n",
       "    </tr>\n",
       "  </tbody>\n",
       "</table>\n",
       "</div>"
      ],
      "text/plain": [
       "                           stop           action o_gender o_race    o_age  \\\n",
       "0  COMPLAINT/CRIMINAL VIOLATION  CITATION ISSUED        M  WHITE  21 - 30   \n",
       "1             TRAFFIC VIOLATION  CITATION ISSUED        F  WHITE  21 - 30   \n",
       "2  COMPLAINT/CRIMINAL VIOLATION  CITATION ISSUED        M  WHITE  21 - 30   \n",
       "3             TRAFFIC VIOLATION  CITATION ISSUED        M  WHITE  31 - 40   \n",
       "4  COMPLAINT/CRIMINAL VIOLATION  CITATION ISSUED        M  WHITE  31 - 40   \n",
       "\n",
       "  d_gender    d_race    d_age  \n",
       "0        M     BLACK  16 - 19  \n",
       "1        M     WHITE  16 - 19  \n",
       "2        F     BLACK  31 - 40  \n",
       "3        M  HISPANIC  20 - 25  \n",
       "4        M  HISPANIC  20 - 25  "
      ]
     },
     "execution_count": 14,
     "metadata": {},
     "output_type": "execute_result"
    }
   ],
   "source": [
    "# Drops the columns that arent needed\n",
    "df.drop(columns=['CITATION_CONTROL_NUMBER', 'ACTIVITY_DATE', 'ACTIVITY_TIME', 'ACTIVITY_LOCATION', 'ACTIVITY_DIVISION', 'ACTIVITY_BEAT', 'NUMBER_OF_PASSENGERS', 'WAS_VEHCILE_SEARCHED', 'REASON_FOR_SEARCH', 'ObjectId'], inplace=True)\n",
    "# Renames the data o_xxx is for officer data on citation stops d_xxx is for driver data\n",
    "df.rename(columns={'TYPE_OF_STOP':'stop', 'ACTIVITY_RESULTS':'action', 'OFFICER_GENDER':'o_gender', 'OFFICER_RACE':\"o_race\", 'OFFICER_AGE_RANGE':\"o_age\", 'DRIVER_GENDER':'d_gender', 'DRIVER_RACE':\"d_race\", 'DRIVER_AGE_RANGE':\"d_age\"}, inplace=True)\n",
    "# Displays the new dataframe \n",
    "df.head()"
   ]
  },
  {
   "attachments": {},
   "cell_type": "markdown",
   "metadata": {},
   "source": [
    "Removes the Unknown races of the officers on the column. \n",
    "<br>\n",
    "The verifies that the Unknow is removed. "
   ]
  },
  {
   "cell_type": "code",
   "execution_count": 15,
   "metadata": {},
   "outputs": [
    {
     "data": {
      "text/plain": [
       "array(['ASIAN', 'BLACK', 'HISPANIC', 'WHITE'], dtype=object)"
      ]
     },
     "execution_count": 15,
     "metadata": {},
     "output_type": "execute_result"
    }
   ],
   "source": [
    "df['o_race'] = df['o_race'].replace(['UNKNOWN'], ' ')\n",
    "df.drop(df.loc[df['o_race']==' '].index, inplace=True)\n",
    "df.sort_values(by=['o_race'], inplace=True)\n",
    "# Identifies the races of the officers. \n",
    "df.o_race.unique()"
   ]
  },
  {
   "attachments": {},
   "cell_type": "markdown",
   "metadata": {},
   "source": [
    "This imports the LMPD employee data. "
   ]
  },
  {
   "cell_type": "code",
   "execution_count": 16,
   "metadata": {},
   "outputs": [],
   "source": [
    "# This brings in the second set of data\n",
    "df3 = pd.read_csv (r'employee.csv')"
   ]
  },
  {
   "cell_type": "code",
   "execution_count": 17,
   "metadata": {},
   "outputs": [
    {
     "data": {
      "text/html": [
       "<div>\n",
       "<style scoped>\n",
       "    .dataframe tbody tr th:only-of-type {\n",
       "        vertical-align: middle;\n",
       "    }\n",
       "\n",
       "    .dataframe tbody tr th {\n",
       "        vertical-align: top;\n",
       "    }\n",
       "\n",
       "    .dataframe thead th {\n",
       "        text-align: right;\n",
       "    }\n",
       "</style>\n",
       "<table border=\"1\" class=\"dataframe\">\n",
       "  <thead>\n",
       "    <tr style=\"text-align: right;\">\n",
       "      <th></th>\n",
       "      <th>AOC_CODE</th>\n",
       "      <th>RANK_TITLE</th>\n",
       "      <th>OFFICER_SEX</th>\n",
       "      <th>OFFICER_RACE</th>\n",
       "      <th>OFFICER_AGE_RANGE</th>\n",
       "      <th>OFFICER_AGE</th>\n",
       "      <th>OFFICER_DIVISION</th>\n",
       "      <th>OFFICER_ASSIGNMENT</th>\n",
       "      <th>OFFICER_YEARS_SWORN</th>\n",
       "      <th>ObjectId</th>\n",
       "    </tr>\n",
       "  </thead>\n",
       "  <tbody>\n",
       "    <tr>\n",
       "      <th>0</th>\n",
       "      <td>2151</td>\n",
       "      <td>POLICE OFFICER</td>\n",
       "      <td>F</td>\n",
       "      <td>W</td>\n",
       "      <td>40 - 49</td>\n",
       "      <td>47</td>\n",
       "      <td>6TH DIVISION                                  ...</td>\n",
       "      <td>RESOURCE OFFICERS                             ...</td>\n",
       "      <td>23</td>\n",
       "      <td>1</td>\n",
       "    </tr>\n",
       "  </tbody>\n",
       "</table>\n",
       "</div>"
      ],
      "text/plain": [
       "   AOC_CODE                           RANK_TITLE OFFICER_SEX OFFICER_RACE  \\\n",
       "0      2151  POLICE OFFICER                                F           W    \n",
       "\n",
       "  OFFICER_AGE_RANGE  OFFICER_AGE  \\\n",
       "0           40 - 49           47   \n",
       "\n",
       "                                    OFFICER_DIVISION  \\\n",
       "0  6TH DIVISION                                  ...   \n",
       "\n",
       "                                  OFFICER_ASSIGNMENT  OFFICER_YEARS_SWORN  \\\n",
       "0  RESOURCE OFFICERS                             ...                   23   \n",
       "\n",
       "   ObjectId  \n",
       "0         1  "
      ]
     },
     "execution_count": 17,
     "metadata": {},
     "output_type": "execute_result"
    }
   ],
   "source": [
    "df3.head(1)"
   ]
  },
  {
   "cell_type": "markdown",
   "metadata": {},
   "source": [
    "This replaces the vales with simple unique values. Then drops columns that we dont need. "
   ]
  },
  {
   "cell_type": "code",
   "execution_count": 18,
   "metadata": {},
   "outputs": [],
   "source": [
    "# Drops the columns that are not needed \n",
    "df3.drop(columns=['AOC_CODE', 'RANK_TITLE', 'OFFICER_DIVISION', 'OFFICER_ASSIGNMENT', 'OFFICER_YEARS_SWORN', 'ObjectId'], inplace=True)\n",
    "# Renames the colums to simple labels oh_xxx Officer Hired xxx \n",
    "df3.rename(columns={'OFFICER_SEX':'oh_sex', 'OFFICER_RACE':'oh_race', 'OFFICER_AGE_RANGE':'oh_age_range', 'OFFICER_AGE':\"oh_age\"}, inplace=True)\n",
    "# df3.head()\n"
   ]
  },
  {
   "attachments": {},
   "cell_type": "markdown",
   "metadata": {},
   "source": [
    "This drops rows where the officers age isn't reported. "
   ]
  },
  {
   "cell_type": "code",
   "execution_count": 19,
   "metadata": {},
   "outputs": [],
   "source": [
    "# Drops all the rows that dont have an age for the officer\n",
    "df3.drop(df3.loc[df3['oh_age']==0].index, inplace=True)\n",
    "df3.sort_values(by=['oh_age'], inplace=True)\n",
    "# df3.head(15)"
   ]
  },
  {
   "attachments": {},
   "cell_type": "markdown",
   "metadata": {},
   "source": [
    "This drops rows where the officers race isn't reported. "
   ]
  },
  {
   "cell_type": "code",
   "execution_count": 20,
   "metadata": {},
   "outputs": [
    {
     "data": {
      "text/plain": [
       "array(['A ', 'B ', 'H ', 'W '], dtype=object)"
      ]
     },
     "execution_count": 20,
     "metadata": {},
     "output_type": "execute_result"
    }
   ],
   "source": [
    "# Replaces the U value\n",
    "df3['oh_race'] = df3['oh_race'].replace(['U '], ' ')\n",
    "df3.drop(df3.loc[df3['oh_race']==' '].index, inplace=True)\n",
    "df3.sort_values(by=['oh_race'], inplace=True)\n",
    "# df3.head(15)\n",
    "# Verfies the U value replaced \n",
    "df3.oh_race.unique()"
   ]
  },
  {
   "attachments": {},
   "cell_type": "markdown",
   "metadata": {},
   "source": [
    "<h2> Police Age stats </h2>"
   ]
  },
  {
   "cell_type": "code",
   "execution_count": 21,
   "metadata": {},
   "outputs": [
    {
     "name": "stdout",
     "output_type": "stream",
     "text": [
      "The mean officer age is: 45.23181304183943\n",
      "The max officer age is: 81\n",
      "The min officer age is: 21\n"
     ]
    }
   ],
   "source": [
    "# stats ran on officers age\n",
    "print(\"The mean officer age is:\", df3['oh_age'].mean())\n",
    "print(\"The max officer age is:\", df3['oh_age'].max())\n",
    "print(\"The min officer age is:\", df3['oh_age'].min())\n"
   ]
  },
  {
   "attachments": {},
   "cell_type": "markdown",
   "metadata": {},
   "source": [
    " This fills the second requirement of joining 2 data frames. "
   ]
  },
  {
   "cell_type": "code",
   "execution_count": 22,
   "metadata": {},
   "outputs": [
    {
     "data": {
      "text/html": [
       "<div>\n",
       "<style scoped>\n",
       "    .dataframe tbody tr th:only-of-type {\n",
       "        vertical-align: middle;\n",
       "    }\n",
       "\n",
       "    .dataframe tbody tr th {\n",
       "        vertical-align: top;\n",
       "    }\n",
       "\n",
       "    .dataframe thead th {\n",
       "        text-align: right;\n",
       "    }\n",
       "</style>\n",
       "<table border=\"1\" class=\"dataframe\">\n",
       "  <thead>\n",
       "    <tr style=\"text-align: right;\">\n",
       "      <th></th>\n",
       "      <th>stop</th>\n",
       "      <th>action</th>\n",
       "      <th>o_gender</th>\n",
       "      <th>o_race</th>\n",
       "      <th>o_age</th>\n",
       "      <th>d_gender</th>\n",
       "      <th>d_race</th>\n",
       "      <th>d_age</th>\n",
       "      <th>oh_sex</th>\n",
       "      <th>oh_race</th>\n",
       "      <th>oh_age_range</th>\n",
       "      <th>oh_age</th>\n",
       "    </tr>\n",
       "  </thead>\n",
       "  <tbody>\n",
       "    <tr>\n",
       "      <th>647</th>\n",
       "      <td>TRAFFIC VIOLATION</td>\n",
       "      <td>CITATION ISSUED</td>\n",
       "      <td>M</td>\n",
       "      <td>ASIAN</td>\n",
       "      <td>21 - 30</td>\n",
       "      <td>M</td>\n",
       "      <td>BLACK</td>\n",
       "      <td>26 - 30</td>\n",
       "      <td>M</td>\n",
       "      <td>W</td>\n",
       "      <td>50 - 59</td>\n",
       "      <td>53</td>\n",
       "    </tr>\n",
       "    <tr>\n",
       "      <th>466</th>\n",
       "      <td>TRAFFIC VIOLATION</td>\n",
       "      <td>CITATION ISSUED</td>\n",
       "      <td>M</td>\n",
       "      <td>ASIAN</td>\n",
       "      <td>31 - 40</td>\n",
       "      <td>M</td>\n",
       "      <td>BLACK</td>\n",
       "      <td>31 - 40</td>\n",
       "      <td>M</td>\n",
       "      <td>W</td>\n",
       "      <td>50 - 59</td>\n",
       "      <td>50</td>\n",
       "    </tr>\n",
       "    <tr>\n",
       "      <th>2579</th>\n",
       "      <td>TRAFFIC VIOLATION</td>\n",
       "      <td>CITATION ISSUED</td>\n",
       "      <td>M</td>\n",
       "      <td>ASIAN</td>\n",
       "      <td>31 - 40</td>\n",
       "      <td>F</td>\n",
       "      <td>HISPANIC</td>\n",
       "      <td>31 - 40</td>\n",
       "      <td>M</td>\n",
       "      <td>W</td>\n",
       "      <td>21 - 29</td>\n",
       "      <td>25</td>\n",
       "    </tr>\n",
       "    <tr>\n",
       "      <th>221</th>\n",
       "      <td>TRAFFIC VIOLATION</td>\n",
       "      <td>CITATION ISSUED</td>\n",
       "      <td>M</td>\n",
       "      <td>ASIAN</td>\n",
       "      <td>31 - 40</td>\n",
       "      <td>F</td>\n",
       "      <td>WHITE</td>\n",
       "      <td>20 - 25</td>\n",
       "      <td>M</td>\n",
       "      <td>W</td>\n",
       "      <td>40 - 49</td>\n",
       "      <td>46</td>\n",
       "    </tr>\n",
       "    <tr>\n",
       "      <th>2587</th>\n",
       "      <td>TRAFFIC VIOLATION</td>\n",
       "      <td>CITATION ISSUED</td>\n",
       "      <td>M</td>\n",
       "      <td>ASIAN</td>\n",
       "      <td>21 - 30</td>\n",
       "      <td>F</td>\n",
       "      <td>WHITE</td>\n",
       "      <td>31 - 40</td>\n",
       "      <td>M</td>\n",
       "      <td>W</td>\n",
       "      <td>21 - 29</td>\n",
       "      <td>25</td>\n",
       "    </tr>\n",
       "  </tbody>\n",
       "</table>\n",
       "</div>"
      ],
      "text/plain": [
       "                   stop           action o_gender o_race    o_age d_gender  \\\n",
       "647   TRAFFIC VIOLATION  CITATION ISSUED        M  ASIAN  21 - 30        M   \n",
       "466   TRAFFIC VIOLATION  CITATION ISSUED        M  ASIAN  31 - 40        M   \n",
       "2579  TRAFFIC VIOLATION  CITATION ISSUED        M  ASIAN  31 - 40        F   \n",
       "221   TRAFFIC VIOLATION  CITATION ISSUED        M  ASIAN  31 - 40        F   \n",
       "2587  TRAFFIC VIOLATION  CITATION ISSUED        M  ASIAN  21 - 30        F   \n",
       "\n",
       "        d_race    d_age oh_sex oh_race oh_age_range  oh_age  \n",
       "647      BLACK  26 - 30      M      W       50 - 59      53  \n",
       "466      BLACK  31 - 40      M      W       50 - 59      50  \n",
       "2579  HISPANIC  31 - 40      M      W       21 - 29      25  \n",
       "221      WHITE  20 - 25      M      W       40 - 49      46  \n",
       "2587     WHITE  31 - 40      M      W       21 - 29      25  "
      ]
     },
     "execution_count": 22,
     "metadata": {},
     "output_type": "execute_result"
    }
   ],
   "source": [
    "# Joins the 2 csv files. \n",
    "df4 =  pd.concat([df, df3], axis = 1, join=\"inner\")\n",
    "df4.head()\n",
    "# print(header_row)"
   ]
  },
  {
   "attachments": {},
   "cell_type": "markdown",
   "metadata": {},
   "source": [
    "Below are dictionaries of the drivers sex, then a dictionary of the officers sex. "
   ]
  },
  {
   "cell_type": "code",
   "execution_count": 36,
   "metadata": {},
   "outputs": [
    {
     "name": "stdout",
     "output_type": "stream",
     "text": [
      "{'Driver Female': 908, 'Driver Male': 1744}\n",
      "{'Female Offier': 382, 'Male Officer': 2270}\n"
     ]
    }
   ],
   "source": [
    "# dict of drivers \n",
    "d_gender = dict({\n",
    "    'Driver Female' : sum(df4.d_gender == 'F'),\n",
    "    'Driver Male' : sum(df4.d_gender == 'M')\n",
    "})\n",
    "\n",
    "print(d_gender)\n",
    "\n",
    "# dict of officers \n",
    "oh_sex = dict( {\n",
    "    'Female Offier' : sum(df4.oh_sex == 'F'),\n",
    "    'Male Officer' : sum(df4.oh_sex == 'M')\n",
    "})\n",
    "\n",
    "print(oh_sex)\n"
   ]
  },
  {
   "attachments": {},
   "cell_type": "markdown",
   "metadata": {},
   "source": [
    "Pie plot the LMPD sex break down. "
   ]
  },
  {
   "cell_type": "code",
   "execution_count": 24,
   "metadata": {},
   "outputs": [
    {
     "data": {
      "image/png": "[encoded data removed]",
      "text/plain": [
       "<Figure size 640x480 with 1 Axes>"
      ]
     },
     "metadata": {},
     "output_type": "display_data"
    }
   ],
   "source": [
    "# officer data as pie chart \n",
    "# Data to plot\n",
    "labels = []\n",
    "sizes = []\n",
    "\n",
    "for x, y in oh_sex.items():\n",
    "    labels.append(x)\n",
    "    sizes.append(y)\n",
    "\n",
    "# Plot\n",
    "plt.pie(sizes, labels=labels)\n",
    "\n",
    "plt.axis('equal')\n",
    "plt.pie(sizes, labels=labels, autopct='%1.0f%%', colors = ['blue', 'pink'])\n",
    "plt.show()"
   ]
  },
  {
   "attachments": {},
   "cell_type": "markdown",
   "metadata": {},
   "source": [
    "Pie plot of the cited sex break down. "
   ]
  },
  {
   "cell_type": "code",
   "execution_count": 25,
   "metadata": {},
   "outputs": [
    {
     "data": {
      "image/png": "[encoded data removed]",
      "text/plain": [
       "<Figure size 640x480 with 1 Axes>"
      ]
     },
     "metadata": {},
     "output_type": "display_data"
    }
   ],
   "source": [
    "# driver data as pie\n",
    "# Data to plot\n",
    "labels = []\n",
    "sizes = []\n",
    "\n",
    "for x, y in d_gender.items():\n",
    "    labels.append(x)\n",
    "    sizes.append(y)\n",
    "\n",
    "# Plot\n",
    "plt.pie(sizes, labels=labels)\n",
    "\n",
    "plt.axis('equal')\n",
    "plt.pie(sizes, labels=labels, autopct='%1.0f%%', colors = ['pink', 'blue'])\n",
    "plt.show()"
   ]
  },
  {
   "attachments": {},
   "cell_type": "markdown",
   "metadata": {},
   "source": [
    "This compares the Officers race to the race of the cited civilans. "
   ]
  },
  {
   "cell_type": "code",
   "execution_count": 38,
   "metadata": {},
   "outputs": [
    {
     "data": {
      "image/png": "[encoded data removed]",
      "text/plain": [
       "<Figure size 640x480 with 1 Axes>"
      ]
     },
     "metadata": {},
     "output_type": "display_data"
    }
   ],
   "source": [
    "oraces =  df4.groupby('o_race')['o_race'].count().plot(legend=True)\n",
    "draces =  df4.groupby('d_race')['d_race'].count().plot(legend=True, xlabel='Races of officers and drivers', ylabel='Number of officers and drivers'), plt.legend(['Officers', \"Drivers\"])\n",
    "# print(oraces)\n",
    "# print(draces)\n"
   ]
  },
  {
   "attachments": {},
   "cell_type": "markdown",
   "metadata": {},
   "source": [
    "This counts the oficer race compared to the drivers race. "
   ]
  },
  {
   "cell_type": "code",
   "execution_count": 27,
   "metadata": {},
   "outputs": [
    {
     "name": "stdout",
     "output_type": "stream",
     "text": [
      "o_race    d_race  \n",
      "ASIAN     BLACK          6\n",
      "          WHITE          6\n",
      "          HISPANIC       1\n",
      "BLACK     WHITE        279\n",
      "          BLACK        190\n",
      "          HISPANIC      34\n",
      "          ASIAN          2\n",
      "HISPANIC  WHITE         18\n",
      "          BLACK          6\n",
      "          HISPANIC       3\n",
      "WHITE     WHITE       1184\n",
      "          BLACK        761\n",
      "          HISPANIC     126\n",
      "          ASIAN         11\n",
      "Name: d_race, dtype: int64\n"
     ]
    }
   ],
   "source": [
    "# seperates and counts citations by officer race then driver race. \n",
    "df5 = df4.groupby([\"o_race\"])[\"d_race\"].value_counts()\n",
    "print(df5)"
   ]
  },
  {
   "cell_type": "code",
   "execution_count": 39,
   "metadata": {},
   "outputs": [
    {
     "data": {
      "image/png": "[encoded data removed]",
      "text/plain": [
       "<Figure size 640x480 with 1 Axes>"
      ]
     },
     "metadata": {},
     "output_type": "display_data"
    }
   ],
   "source": [
    "df4.groupby([\"o_race\"])[\"d_race\"].value_counts().plot(kind='bar', legend=True, xlabel='Officers then drivers Race', ylabel='Number of citations'), plt.legend(['Citations']);\n",
    "# ax.bar_label(ax.containers[0])"
   ]
  },
  {
   "cell_type": "markdown",
   "metadata": {},
   "source": [
    "This is the louisville poputation male to female percent and the officer and drivers male female makeup. "
   ]
  },
  {
   "cell_type": "code",
   "execution_count": 29,
   "metadata": {},
   "outputs": [],
   "source": [
    "# gets counts gender counts by citation to determing percentages\n",
    "df14 = df4.groupby([\"o_gender\"])[\"d_gender\"].value_counts()\n",
    "\n",
    "# louisville population % \n",
    "louisville_population = { \n",
    "    'fp' : [51.6],\n",
    "    'mp' : [48.4],\n",
    "    }\n",
    "\n",
    "# print(df14)\n",
    "\n",
    "# print(louisville_population)\n",
    "\n",
    "# female officer citations \n",
    "ofc = {\n",
    "    'cm' : [69/102*100],\n",
    "    \"cf\" : [33/102*100]\n",
    "}\n",
    "\n",
    "# male officer citations \n",
    "omc = {\n",
    "    'ccm' : [1682/2564*100],\n",
    "    'ccf' : [882/2564*100]\n",
    "}\n",
    "\n",
    "# print(omc)\n",
    "# print(ofc)"
   ]
  },
  {
   "attachments": {},
   "cell_type": "markdown",
   "metadata": {},
   "source": [
    "Compares male and female officer citations to the population. "
   ]
  },
  {
   "cell_type": "code",
   "execution_count": 30,
   "metadata": {},
   "outputs": [
    {
     "data": {
      "image/png": "[encoded data removed]",
      "text/plain": [
       "<Figure size 640x480 with 1 Axes>"
      ]
     },
     "metadata": {},
     "output_type": "display_data"
    }
   ],
   "source": [
    "# graph of above data to show males have a higher citation rate while population is almost equal   \n",
    "# x axis values \n",
    "x = ['female', 'male'] \n",
    "\n",
    "# corresponding y axis values \n",
    "ys = {\n",
    "    'louisville_population' : [51.6, 48.4],\n",
    "    'Male Officer Citations' : [34.40, 65.60],\n",
    "    'Felame Officer Citations' : [32.35, 67.65]\n",
    "} \n",
    " \n",
    "\n",
    "for y in ys:\n",
    "  plt.plot(x, ys[y], label=y)\n",
    "  # print('For Month: ', y, \"   Values: \", ys[y])\n",
    "\n",
    "plt.legend()\n",
    "\n",
    "    \n",
    "# naming the x axis \n",
    "plt.xlabel('sex')\n",
    "\n",
    "# naming the y axis \n",
    "plt.ylabel('percent') \n",
    "   \n",
    "# giving a title to my graph \n",
    "plt.title('officer sex citations compared to the Louisville population') \n",
    "    \n",
    "# function to show the plot \n",
    "plt.show() "
   ]
  },
  {
   "attachments": {},
   "cell_type": "markdown",
   "metadata": {},
   "source": [
    "Additional calculations to check racial profiling stops.  "
   ]
  },
  {
   "cell_type": "code",
   "execution_count": 31,
   "metadata": {},
   "outputs": [
    {
     "name": "stdout",
     "output_type": "stream",
     "text": [
      "stop                          d_race  \n",
      "COMPLAINT/CRIMINAL VIOLATION  WHITE         46\n",
      "                              BLACK         34\n",
      "                              HISPANIC       6\n",
      "COMPLIANCE STOP (KVE ONLY)    BLACK         10\n",
      "                              WHITE          3\n",
      "TRAFFIC VIOLATION             WHITE       1438\n",
      "                              BLACK        919\n",
      "                              HISPANIC     158\n",
      "                              ASIAN         13\n",
      "Name: d_race, dtype: int64\n"
     ]
    }
   ],
   "source": [
    "# shows citation types and race make up of the stops \n",
    "df7 = df4.groupby([\"stop\"])[\"d_race\"].value_counts()\n",
    "print(df7)"
   ]
  },
  {
   "cell_type": "markdown",
   "metadata": {},
   "source": [
    "Counts the officers races"
   ]
  },
  {
   "cell_type": "code",
   "execution_count": 32,
   "metadata": {},
   "outputs": [
    {
     "data": {
      "text/plain": [
       "o_race\n",
       "ASIAN         13\n",
       "BLACK        505\n",
       "HISPANIC      27\n",
       "WHITE       2082\n",
       "Name: d_race, dtype: int64"
      ]
     },
     "execution_count": 32,
     "metadata": {},
     "output_type": "execute_result"
    }
   ],
   "source": [
    "# Counts the officers race \n",
    "df4.groupby([\"o_race\"])[\"d_race\"].agg('count')"
   ]
  },
  {
   "cell_type": "code",
   "execution_count": 33,
   "metadata": {},
   "outputs": [
    {
     "data": {
      "text/plain": [
       "(<AxesSubplot:xlabel='Officers Race', ylabel='Number of police'>,\n",
       " <matplotlib.legend.Legend at 0x7fb38b8554c0>)"
      ]
     },
     "execution_count": 33,
     "metadata": {},
     "output_type": "execute_result"
    },
    {
     "data": {
      "image/png": "[encoded data removed]",
      "text/plain": [
       "<Figure size 640x480 with 1 Axes>"
      ]
     },
     "metadata": {},
     "output_type": "display_data"
    }
   ],
   "source": [
    "df4.groupby([\"o_race\"])[\"d_race\"].agg('count').plot(kind='bar', legend=True, xlabel='Officers Race', ylabel='Number of police'), plt.legend(['number of officers'])\n"
   ]
  }
 ],
 "metadata": {
  "kernelspec": {
   "display_name": "Python 3.10.4 64-bit",
   "language": "python",
   "name": "python3"
  },
  "language_info": {
   "codemirror_mode": {
    "name": "ipython",
    "version": 3
   },
   "file_extension": ".py",
   "mimetype": "text/x-python",
   "name": "python",
   "nbconvert_exporter": "python",
   "pygments_lexer": "ipython3",
   "version": "3.9.15"
  },
  "orig_nbformat": 4,
  "vscode": {
   "interpreter": {
    "hash": "aee8b7b246df8f9039afb4144a1f6fd8d2ca17a180786b69acc140d282b71a49"
   }
  }
 },
 "nbformat": 4,
 "nbformat_minor": 2
}
